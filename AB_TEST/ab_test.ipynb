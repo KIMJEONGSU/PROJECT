{
 "cells": [
  {
   "cell_type": "markdown",
   "metadata": {},
   "source": [
    "### 분석준비"
   ]
  },
  {
   "cell_type": "code",
   "execution_count": 1,
   "metadata": {},
   "outputs": [],
   "source": [
    "# 기본 라이브러리\n",
    "\n",
    "# 분석을 위한 라이브러리\n",
    "import numpy as np\n",
    "import pandas as pd\n",
    "\n",
    "# 시각화를 위한 라이브러리\n",
    "import matplotlib.pyplot as plt\n",
    "import seaborn as sns\n",
    "\n",
    "from datetime import datetime\n",
    "import os\n",
    "\n",
    "# 에러메세지 안나오게\n",
    "import warnings\n",
    "warnings.filterwarnings('ignore')\n",
    "\n",
    "# pd.options.display.float_format = '{:.2f}'.format\n",
    "pd.set_option('display.max_columns',None)\n",
    "# pd.set_option('display.max_rows',None)\n",
    "\n",
    "from plotly.subplots import make_subplots\n",
    "import plotly.graph_objects as go\n",
    "import plotly.express as px"
   ]
  },
  {
   "cell_type": "code",
   "execution_count": 2,
   "metadata": {},
   "outputs": [],
   "source": [
    "import matplotlib\n",
    "\n",
    "matplotlib.rcParams['font.family'] ='Malgun Gothic'\n",
    "\n",
    "matplotlib.rcParams['axes.unicode_minus'] =False"
   ]
  },
  {
   "cell_type": "code",
   "execution_count": 3,
   "metadata": {},
   "outputs": [],
   "source": [
    "import psycopg2\n",
    "import json\n",
    "# 디비연결\n",
    "def rds_python_conn():\n",
    "    # rds와 python 연동을 위한 정보 입력\n",
    "    with open('postgres.info.json','r') as json_file:\n",
    "        db_info = json.load(json_file)\n",
    "\n",
    "    host = db_info.get('host')\n",
    "    dbname = 'postgres' \n",
    "    user = 'postgres' \n",
    "    password = db_info.get('password')\n",
    "    port = 5432\n",
    "\n",
    "    connection = psycopg2.connect(host=host,\n",
    "                                  dbname=dbname ,\n",
    "                                  user=user ,\n",
    "                                  password=password ,\n",
    "                                  port=port)\n",
    "    return connection"
   ]
  },
  {
   "cell_type": "markdown",
   "metadata": {},
   "source": [
    "## 제품 사진 수에 따른 A/B TEST"
   ]
  },
  {
   "cell_type": "code",
   "execution_count": 4,
   "metadata": {},
   "outputs": [
    {
     "data": {
      "text/html": [
       "<div>\n",
       "<style scoped>\n",
       "    .dataframe tbody tr th:only-of-type {\n",
       "        vertical-align: middle;\n",
       "    }\n",
       "\n",
       "    .dataframe tbody tr th {\n",
       "        vertical-align: top;\n",
       "    }\n",
       "\n",
       "    .dataframe thead th {\n",
       "        text-align: right;\n",
       "    }\n",
       "</style>\n",
       "<table border=\"1\" class=\"dataframe\">\n",
       "  <thead>\n",
       "    <tr style=\"text-align: right;\">\n",
       "      <th></th>\n",
       "      <th>제품id</th>\n",
       "      <th>제품이름</th>\n",
       "      <th>제품이름길이</th>\n",
       "      <th>제품설명길이</th>\n",
       "      <th>제품사진수</th>\n",
       "      <th>제품무게</th>\n",
       "      <th>제품길이</th>\n",
       "      <th>제품높이</th>\n",
       "      <th>제품높이</th>\n",
       "    </tr>\n",
       "  </thead>\n",
       "  <tbody>\n",
       "    <tr>\n",
       "      <th>0</th>\n",
       "      <td>16234</td>\n",
       "      <td>perfumery</td>\n",
       "      <td>40.0</td>\n",
       "      <td>287.0</td>\n",
       "      <td>1.0</td>\n",
       "      <td>225.0</td>\n",
       "      <td>16.0</td>\n",
       "      <td>10.0</td>\n",
       "      <td>14.0</td>\n",
       "    </tr>\n",
       "    <tr>\n",
       "      <th>1</th>\n",
       "      <td>6621</td>\n",
       "      <td>art</td>\n",
       "      <td>44.0</td>\n",
       "      <td>276.0</td>\n",
       "      <td>1.0</td>\n",
       "      <td>1000.0</td>\n",
       "      <td>30.0</td>\n",
       "      <td>18.0</td>\n",
       "      <td>20.0</td>\n",
       "    </tr>\n",
       "    <tr>\n",
       "      <th>2</th>\n",
       "      <td>22240</td>\n",
       "      <td>sports_leisure</td>\n",
       "      <td>46.0</td>\n",
       "      <td>250.0</td>\n",
       "      <td>1.0</td>\n",
       "      <td>154.0</td>\n",
       "      <td>18.0</td>\n",
       "      <td>9.0</td>\n",
       "      <td>15.0</td>\n",
       "    </tr>\n",
       "    <tr>\n",
       "      <th>3</th>\n",
       "      <td>18578</td>\n",
       "      <td>baby</td>\n",
       "      <td>27.0</td>\n",
       "      <td>261.0</td>\n",
       "      <td>1.0</td>\n",
       "      <td>371.0</td>\n",
       "      <td>26.0</td>\n",
       "      <td>4.0</td>\n",
       "      <td>26.0</td>\n",
       "    </tr>\n",
       "    <tr>\n",
       "      <th>4</th>\n",
       "      <td>14617</td>\n",
       "      <td>housewares</td>\n",
       "      <td>37.0</td>\n",
       "      <td>402.0</td>\n",
       "      <td>4.0</td>\n",
       "      <td>625.0</td>\n",
       "      <td>20.0</td>\n",
       "      <td>17.0</td>\n",
       "      <td>13.0</td>\n",
       "    </tr>\n",
       "    <tr>\n",
       "      <th>...</th>\n",
       "      <td>...</td>\n",
       "      <td>...</td>\n",
       "      <td>...</td>\n",
       "      <td>...</td>\n",
       "      <td>...</td>\n",
       "      <td>...</td>\n",
       "      <td>...</td>\n",
       "      <td>...</td>\n",
       "      <td>...</td>\n",
       "    </tr>\n",
       "    <tr>\n",
       "      <th>32946</th>\n",
       "      <td>28216</td>\n",
       "      <td>furniture_decor</td>\n",
       "      <td>45.0</td>\n",
       "      <td>67.0</td>\n",
       "      <td>2.0</td>\n",
       "      <td>12300.0</td>\n",
       "      <td>40.0</td>\n",
       "      <td>40.0</td>\n",
       "      <td>40.0</td>\n",
       "    </tr>\n",
       "    <tr>\n",
       "      <th>32947</th>\n",
       "      <td>20353</td>\n",
       "      <td>construction_tools_lights</td>\n",
       "      <td>41.0</td>\n",
       "      <td>971.0</td>\n",
       "      <td>1.0</td>\n",
       "      <td>1700.0</td>\n",
       "      <td>16.0</td>\n",
       "      <td>19.0</td>\n",
       "      <td>16.0</td>\n",
       "    </tr>\n",
       "    <tr>\n",
       "      <th>32948</th>\n",
       "      <td>3826</td>\n",
       "      <td>bed_bath_table</td>\n",
       "      <td>50.0</td>\n",
       "      <td>799.0</td>\n",
       "      <td>1.0</td>\n",
       "      <td>1400.0</td>\n",
       "      <td>27.0</td>\n",
       "      <td>7.0</td>\n",
       "      <td>27.0</td>\n",
       "    </tr>\n",
       "    <tr>\n",
       "      <th>32949</th>\n",
       "      <td>29140</td>\n",
       "      <td>computers_accessories</td>\n",
       "      <td>60.0</td>\n",
       "      <td>156.0</td>\n",
       "      <td>2.0</td>\n",
       "      <td>700.0</td>\n",
       "      <td>31.0</td>\n",
       "      <td>13.0</td>\n",
       "      <td>20.0</td>\n",
       "    </tr>\n",
       "    <tr>\n",
       "      <th>32950</th>\n",
       "      <td>14648</td>\n",
       "      <td>bed_bath_table</td>\n",
       "      <td>58.0</td>\n",
       "      <td>309.0</td>\n",
       "      <td>1.0</td>\n",
       "      <td>2083.0</td>\n",
       "      <td>12.0</td>\n",
       "      <td>2.0</td>\n",
       "      <td>7.0</td>\n",
       "    </tr>\n",
       "  </tbody>\n",
       "</table>\n",
       "<p>32951 rows × 9 columns</p>\n",
       "</div>"
      ],
      "text/plain": [
       "        제품id                       제품이름  제품이름길이  제품설명길이  제품사진수     제품무게  제품길이  \\\n",
       "0      16234                  perfumery    40.0   287.0    1.0    225.0  16.0   \n",
       "1       6621                        art    44.0   276.0    1.0   1000.0  30.0   \n",
       "2      22240             sports_leisure    46.0   250.0    1.0    154.0  18.0   \n",
       "3      18578                       baby    27.0   261.0    1.0    371.0  26.0   \n",
       "4      14617                 housewares    37.0   402.0    4.0    625.0  20.0   \n",
       "...      ...                        ...     ...     ...    ...      ...   ...   \n",
       "32946  28216            furniture_decor    45.0    67.0    2.0  12300.0  40.0   \n",
       "32947  20353  construction_tools_lights    41.0   971.0    1.0   1700.0  16.0   \n",
       "32948   3826             bed_bath_table    50.0   799.0    1.0   1400.0  27.0   \n",
       "32949  29140      computers_accessories    60.0   156.0    2.0    700.0  31.0   \n",
       "32950  14648             bed_bath_table    58.0   309.0    1.0   2083.0  12.0   \n",
       "\n",
       "       제품높이  제품높이  \n",
       "0      10.0  14.0  \n",
       "1      18.0  20.0  \n",
       "2       9.0  15.0  \n",
       "3       4.0  26.0  \n",
       "4      17.0  13.0  \n",
       "...     ...   ...  \n",
       "32946  40.0  40.0  \n",
       "32947  19.0  16.0  \n",
       "32948   7.0  27.0  \n",
       "32949  13.0  20.0  \n",
       "32950   2.0   7.0  \n",
       "\n",
       "[32951 rows x 9 columns]"
      ]
     },
     "execution_count": 4,
     "metadata": {},
     "output_type": "execute_result"
    }
   ],
   "source": [
    "SQL = \"\"\"\n",
    "SELECT product_id 제품ID,product_category_name 제품이름,product_name_length 제품이름길이,product_description_length 제품설명길이,product_photos_qty 제품사진수,product_weight_g 제품무게,product_length_cm 제품길이,\n",
    "        product_height_cm 제품높이,product_width_cm 제품높이\n",
    "FROM products;\n",
    "\"\"\"\n",
    "\n",
    "products = pd.read_sql(SQL, rds_python_conn())\n",
    "products"
   ]
  },
  {
   "cell_type": "code",
   "execution_count": 5,
   "metadata": {},
   "outputs": [
    {
     "data": {
      "text/html": [
       "<div>\n",
       "<style scoped>\n",
       "    .dataframe tbody tr th:only-of-type {\n",
       "        vertical-align: middle;\n",
       "    }\n",
       "\n",
       "    .dataframe tbody tr th {\n",
       "        vertical-align: top;\n",
       "    }\n",
       "\n",
       "    .dataframe thead th {\n",
       "        text-align: right;\n",
       "    }\n",
       "</style>\n",
       "<table border=\"1\" class=\"dataframe\">\n",
       "  <thead>\n",
       "    <tr style=\"text-align: right;\">\n",
       "      <th></th>\n",
       "      <th>주문id</th>\n",
       "      <th>주문아이템id</th>\n",
       "      <th>제품id</th>\n",
       "      <th>가격</th>\n",
       "    </tr>\n",
       "  </thead>\n",
       "  <tbody>\n",
       "    <tr>\n",
       "      <th>0</th>\n",
       "      <td>96870</td>\n",
       "      <td>1</td>\n",
       "      <td>12130</td>\n",
       "      <td>72.19</td>\n",
       "    </tr>\n",
       "    <tr>\n",
       "      <th>1</th>\n",
       "      <td>9433</td>\n",
       "      <td>1</td>\n",
       "      <td>29611</td>\n",
       "      <td>259.83</td>\n",
       "    </tr>\n",
       "    <tr>\n",
       "      <th>2</th>\n",
       "      <td>87326</td>\n",
       "      <td>1</td>\n",
       "      <td>23255</td>\n",
       "      <td>216.87</td>\n",
       "    </tr>\n",
       "    <tr>\n",
       "      <th>3</th>\n",
       "      <td>91182</td>\n",
       "      <td>1</td>\n",
       "      <td>1404</td>\n",
       "      <td>25.78</td>\n",
       "    </tr>\n",
       "    <tr>\n",
       "      <th>4</th>\n",
       "      <td>79789</td>\n",
       "      <td>1</td>\n",
       "      <td>30255</td>\n",
       "      <td>218.04</td>\n",
       "    </tr>\n",
       "    <tr>\n",
       "      <th>...</th>\n",
       "      <td>...</td>\n",
       "      <td>...</td>\n",
       "      <td>...</td>\n",
       "      <td>...</td>\n",
       "    </tr>\n",
       "    <tr>\n",
       "      <th>112645</th>\n",
       "      <td>59834</td>\n",
       "      <td>1</td>\n",
       "      <td>32313</td>\n",
       "      <td>343.40</td>\n",
       "    </tr>\n",
       "    <tr>\n",
       "      <th>112646</th>\n",
       "      <td>72009</td>\n",
       "      <td>1</td>\n",
       "      <td>25525</td>\n",
       "      <td>386.53</td>\n",
       "    </tr>\n",
       "    <tr>\n",
       "      <th>112647</th>\n",
       "      <td>56253</td>\n",
       "      <td>1</td>\n",
       "      <td>159</td>\n",
       "      <td>116.85</td>\n",
       "    </tr>\n",
       "    <tr>\n",
       "      <th>112648</th>\n",
       "      <td>89718</td>\n",
       "      <td>1</td>\n",
       "      <td>11543</td>\n",
       "      <td>64.71</td>\n",
       "    </tr>\n",
       "    <tr>\n",
       "      <th>112649</th>\n",
       "      <td>86468</td>\n",
       "      <td>1</td>\n",
       "      <td>31128</td>\n",
       "      <td>55.79</td>\n",
       "    </tr>\n",
       "  </tbody>\n",
       "</table>\n",
       "<p>112650 rows × 4 columns</p>\n",
       "</div>"
      ],
      "text/plain": [
       "         주문id  주문아이템id   제품id      가격\n",
       "0       96870        1  12130   72.19\n",
       "1        9433        1  29611  259.83\n",
       "2       87326        1  23255  216.87\n",
       "3       91182        1   1404   25.78\n",
       "4       79789        1  30255  218.04\n",
       "...       ...      ...    ...     ...\n",
       "112645  59834        1  32313  343.40\n",
       "112646  72009        1  25525  386.53\n",
       "112647  56253        1    159  116.85\n",
       "112648  89718        1  11543   64.71\n",
       "112649  86468        1  31128   55.79\n",
       "\n",
       "[112650 rows x 4 columns]"
      ]
     },
     "execution_count": 5,
     "metadata": {},
     "output_type": "execute_result"
    }
   ],
   "source": [
    "SQL = \"\"\"\n",
    "SELECT order_id 주문ID ,order_item_id 주문아이템ID ,product_id 제품ID, price+freight_value as 가격\n",
    "FROM order_items;\n",
    "\"\"\"\n",
    "\n",
    "items = pd.read_sql(SQL, rds_python_conn())\n",
    "items"
   ]
  },
  {
   "cell_type": "markdown",
   "metadata": {},
   "source": [
    "### 가설설정"
   ]
  },
  {
   "cell_type": "code",
   "execution_count": 6,
   "metadata": {},
   "outputs": [
    {
     "data": {
      "text/html": [
       "<div>\n",
       "<style scoped>\n",
       "    .dataframe tbody tr th:only-of-type {\n",
       "        vertical-align: middle;\n",
       "    }\n",
       "\n",
       "    .dataframe tbody tr th {\n",
       "        vertical-align: top;\n",
       "    }\n",
       "\n",
       "    .dataframe thead th {\n",
       "        text-align: right;\n",
       "    }\n",
       "</style>\n",
       "<table border=\"1\" class=\"dataframe\">\n",
       "  <thead>\n",
       "    <tr style=\"text-align: right;\">\n",
       "      <th></th>\n",
       "      <th>주문id</th>\n",
       "      <th>주문아이템id</th>\n",
       "      <th>제품id</th>\n",
       "      <th>가격</th>\n",
       "      <th>제품이름</th>\n",
       "      <th>제품이름길이</th>\n",
       "      <th>제품설명길이</th>\n",
       "      <th>제품사진수</th>\n",
       "      <th>제품무게</th>\n",
       "      <th>제품길이</th>\n",
       "      <th>제품높이</th>\n",
       "      <th>제품높이</th>\n",
       "    </tr>\n",
       "  </thead>\n",
       "  <tbody>\n",
       "    <tr>\n",
       "      <th>0</th>\n",
       "      <td>96870</td>\n",
       "      <td>1</td>\n",
       "      <td>12130</td>\n",
       "      <td>72.19</td>\n",
       "      <td>cool_stuff</td>\n",
       "      <td>58.0</td>\n",
       "      <td>598.0</td>\n",
       "      <td>4.0</td>\n",
       "      <td>650.0</td>\n",
       "      <td>28.0</td>\n",
       "      <td>9.0</td>\n",
       "      <td>14.0</td>\n",
       "    </tr>\n",
       "    <tr>\n",
       "      <th>1</th>\n",
       "      <td>9433</td>\n",
       "      <td>1</td>\n",
       "      <td>29611</td>\n",
       "      <td>259.83</td>\n",
       "      <td>pet_shop</td>\n",
       "      <td>56.0</td>\n",
       "      <td>239.0</td>\n",
       "      <td>2.0</td>\n",
       "      <td>30000.0</td>\n",
       "      <td>50.0</td>\n",
       "      <td>30.0</td>\n",
       "      <td>40.0</td>\n",
       "    </tr>\n",
       "    <tr>\n",
       "      <th>2</th>\n",
       "      <td>87326</td>\n",
       "      <td>1</td>\n",
       "      <td>23255</td>\n",
       "      <td>216.87</td>\n",
       "      <td>furniture_decor</td>\n",
       "      <td>59.0</td>\n",
       "      <td>695.0</td>\n",
       "      <td>2.0</td>\n",
       "      <td>3050.0</td>\n",
       "      <td>33.0</td>\n",
       "      <td>13.0</td>\n",
       "      <td>33.0</td>\n",
       "    </tr>\n",
       "    <tr>\n",
       "      <th>3</th>\n",
       "      <td>91182</td>\n",
       "      <td>1</td>\n",
       "      <td>1404</td>\n",
       "      <td>25.78</td>\n",
       "      <td>perfumery</td>\n",
       "      <td>42.0</td>\n",
       "      <td>480.0</td>\n",
       "      <td>1.0</td>\n",
       "      <td>200.0</td>\n",
       "      <td>16.0</td>\n",
       "      <td>10.0</td>\n",
       "      <td>15.0</td>\n",
       "    </tr>\n",
       "    <tr>\n",
       "      <th>4</th>\n",
       "      <td>79789</td>\n",
       "      <td>1</td>\n",
       "      <td>30255</td>\n",
       "      <td>218.04</td>\n",
       "      <td>garden_tools</td>\n",
       "      <td>59.0</td>\n",
       "      <td>409.0</td>\n",
       "      <td>1.0</td>\n",
       "      <td>3750.0</td>\n",
       "      <td>35.0</td>\n",
       "      <td>40.0</td>\n",
       "      <td>30.0</td>\n",
       "    </tr>\n",
       "    <tr>\n",
       "      <th>...</th>\n",
       "      <td>...</td>\n",
       "      <td>...</td>\n",
       "      <td>...</td>\n",
       "      <td>...</td>\n",
       "      <td>...</td>\n",
       "      <td>...</td>\n",
       "      <td>...</td>\n",
       "      <td>...</td>\n",
       "      <td>...</td>\n",
       "      <td>...</td>\n",
       "      <td>...</td>\n",
       "      <td>...</td>\n",
       "    </tr>\n",
       "    <tr>\n",
       "      <th>112645</th>\n",
       "      <td>59834</td>\n",
       "      <td>1</td>\n",
       "      <td>32313</td>\n",
       "      <td>343.40</td>\n",
       "      <td>housewares</td>\n",
       "      <td>43.0</td>\n",
       "      <td>1002.0</td>\n",
       "      <td>3.0</td>\n",
       "      <td>10150.0</td>\n",
       "      <td>89.0</td>\n",
       "      <td>15.0</td>\n",
       "      <td>40.0</td>\n",
       "    </tr>\n",
       "    <tr>\n",
       "      <th>112646</th>\n",
       "      <td>72009</td>\n",
       "      <td>1</td>\n",
       "      <td>25525</td>\n",
       "      <td>386.53</td>\n",
       "      <td>computers_accessories</td>\n",
       "      <td>31.0</td>\n",
       "      <td>232.0</td>\n",
       "      <td>1.0</td>\n",
       "      <td>8950.0</td>\n",
       "      <td>45.0</td>\n",
       "      <td>26.0</td>\n",
       "      <td>38.0</td>\n",
       "    </tr>\n",
       "    <tr>\n",
       "      <th>112647</th>\n",
       "      <td>56253</td>\n",
       "      <td>1</td>\n",
       "      <td>159</td>\n",
       "      <td>116.85</td>\n",
       "      <td>sports_leisure</td>\n",
       "      <td>43.0</td>\n",
       "      <td>869.0</td>\n",
       "      <td>1.0</td>\n",
       "      <td>967.0</td>\n",
       "      <td>21.0</td>\n",
       "      <td>24.0</td>\n",
       "      <td>19.0</td>\n",
       "    </tr>\n",
       "    <tr>\n",
       "      <th>112648</th>\n",
       "      <td>89718</td>\n",
       "      <td>1</td>\n",
       "      <td>11543</td>\n",
       "      <td>64.71</td>\n",
       "      <td>computers_accessories</td>\n",
       "      <td>56.0</td>\n",
       "      <td>1306.0</td>\n",
       "      <td>1.0</td>\n",
       "      <td>100.0</td>\n",
       "      <td>20.0</td>\n",
       "      <td>20.0</td>\n",
       "      <td>20.0</td>\n",
       "    </tr>\n",
       "    <tr>\n",
       "      <th>112649</th>\n",
       "      <td>86468</td>\n",
       "      <td>1</td>\n",
       "      <td>31128</td>\n",
       "      <td>55.79</td>\n",
       "      <td>bed_bath_table</td>\n",
       "      <td>47.0</td>\n",
       "      <td>511.0</td>\n",
       "      <td>1.0</td>\n",
       "      <td>600.0</td>\n",
       "      <td>30.0</td>\n",
       "      <td>3.0</td>\n",
       "      <td>19.0</td>\n",
       "    </tr>\n",
       "  </tbody>\n",
       "</table>\n",
       "<p>112650 rows × 12 columns</p>\n",
       "</div>"
      ],
      "text/plain": [
       "         주문id  주문아이템id   제품id      가격                   제품이름  제품이름길이  제품설명길이  \\\n",
       "0       96870        1  12130   72.19             cool_stuff    58.0   598.0   \n",
       "1        9433        1  29611  259.83               pet_shop    56.0   239.0   \n",
       "2       87326        1  23255  216.87        furniture_decor    59.0   695.0   \n",
       "3       91182        1   1404   25.78              perfumery    42.0   480.0   \n",
       "4       79789        1  30255  218.04           garden_tools    59.0   409.0   \n",
       "...       ...      ...    ...     ...                    ...     ...     ...   \n",
       "112645  59834        1  32313  343.40             housewares    43.0  1002.0   \n",
       "112646  72009        1  25525  386.53  computers_accessories    31.0   232.0   \n",
       "112647  56253        1    159  116.85         sports_leisure    43.0   869.0   \n",
       "112648  89718        1  11543   64.71  computers_accessories    56.0  1306.0   \n",
       "112649  86468        1  31128   55.79         bed_bath_table    47.0   511.0   \n",
       "\n",
       "        제품사진수     제품무게  제품길이  제품높이  제품높이  \n",
       "0         4.0    650.0  28.0   9.0  14.0  \n",
       "1         2.0  30000.0  50.0  30.0  40.0  \n",
       "2         2.0   3050.0  33.0  13.0  33.0  \n",
       "3         1.0    200.0  16.0  10.0  15.0  \n",
       "4         1.0   3750.0  35.0  40.0  30.0  \n",
       "...       ...      ...   ...   ...   ...  \n",
       "112645    3.0  10150.0  89.0  15.0  40.0  \n",
       "112646    1.0   8950.0  45.0  26.0  38.0  \n",
       "112647    1.0    967.0  21.0  24.0  19.0  \n",
       "112648    1.0    100.0  20.0  20.0  20.0  \n",
       "112649    1.0    600.0  30.0   3.0  19.0  \n",
       "\n",
       "[112650 rows x 12 columns]"
      ]
     },
     "execution_count": 6,
     "metadata": {},
     "output_type": "execute_result"
    }
   ],
   "source": [
    "df = items.merge(products, on='제품id', how='left')\n",
    "df\n",
    "\n",
    "# 가설 \n",
    "# (귀무가설) : 제품 사진이 1개인 경우의 제품별 매출평균과 아닌 경우의 제품별 매출평균은 차이가 없을 것\n",
    "# (대립가설) : 제품 사진이 1개인 경우의 제품별 매출평균과 아닌 경우의 제품별 매출평균은 차이가 있을 것."
   ]
  },
  {
   "cell_type": "code",
   "execution_count": 7,
   "metadata": {},
   "outputs": [
    {
     "data": {
      "text/plain": [
       "제품사진수\n",
       "1.0     0.504543\n",
       "2.0     0.197781\n",
       "3.0     0.111592\n",
       "4.0     0.075977\n",
       "5.0     0.048340\n",
       "6.0     0.034094\n",
       "7.0     0.013517\n",
       "8.0     0.006547\n",
       "10.0    0.003080\n",
       "9.0     0.002819\n",
       "11.0    0.000639\n",
       "12.0    0.000477\n",
       "13.0    0.000270\n",
       "15.0    0.000108\n",
       "17.0    0.000099\n",
       "14.0    0.000054\n",
       "18.0    0.000036\n",
       "19.0    0.000018\n",
       "20.0    0.000009\n",
       "Name: proportion, dtype: float64"
      ]
     },
     "execution_count": 7,
     "metadata": {},
     "output_type": "execute_result"
    }
   ],
   "source": [
    "# 제품사진수에 따른 분포 확인\n",
    "df.제품사진수.value_counts(normalize=True)"
   ]
  },
  {
   "cell_type": "code",
   "execution_count": 8,
   "metadata": {},
   "outputs": [
    {
     "data": {
      "text/plain": [
       "[352.5299056603773,\n",
       " 180.8431506849315,\n",
       " 105.61549382716049,\n",
       " 59.89333333333334,\n",
       " 165.68283018867925,\n",
       " 158.61310520361988,\n",
       " 112.09580671580673,\n",
       " 108.42893100097182,\n",
       " 100.45466334164588,\n",
       " 92.06122448979592,\n",
       " 89.0406719367589,\n",
       " 66.24897727272727,\n",
       " 83.975,\n",
       " 689.185,\n",
       " 139.322160710597,\n",
       " 139.81164305949008,\n",
       " 173.92643442622952,\n",
       " 203.8773544973545,\n",
       " 287.2927027027027,\n",
       " 180.0804618376276,\n",
       " 131.89255319148936,\n",
       " 228.2044,\n",
       " 58.09315789473684,\n",
       " 84.76078048780488,\n",
       " 101.68862745098039,\n",
       " 49.52978272390037,\n",
       " 99.666,\n",
       " 104.31071283095723,\n",
       " 50.21666666666667,\n",
       " 81.88274509803921,\n",
       " 52.545,\n",
       " 150.81599999999997,\n",
       " 63.79245901639344,\n",
       " 157.30787234042555,\n",
       " 46.86533333333333,\n",
       " 69.45136363636364,\n",
       " 72.71840206185567,\n",
       " 147.5726,\n",
       " 106.73886876640421,\n",
       " 218.3496629213483,\n",
       " 143.54964285714286,\n",
       " 181.1001226993865,\n",
       " 133.07214764030613,\n",
       " 121.834091954023,\n",
       " 660.6280555555555,\n",
       " 32.168965517241375,\n",
       " 112.41641891891892,\n",
       " 185.15990099009903,\n",
       " 93.31161669242658,\n",
       " 273.4290277777778,\n",
       " 224.07666666666668,\n",
       " 150.91076923076923,\n",
       " 137.2083180987203,\n",
       " 91.34729999999999,\n",
       " 30.965384615384615,\n",
       " 347.6472357723577,\n",
       " 196.9325678358703,\n",
       " 150.6951724137931,\n",
       " 143.2411938202247,\n",
       " 121.69148351648352,\n",
       " 209.06,\n",
       " 118.37182926829269,\n",
       " 220.6166253869969,\n",
       " 206.28733333333332,\n",
       " 126.3745477126889,\n",
       " 103.76110271903325,\n",
       " 86.69929824561403,\n",
       " 83.56814898419864,\n",
       " 127.05123115577891,\n",
       " 273.92087373468297]"
      ]
     },
     "execution_count": 8,
     "metadata": {},
     "output_type": "execute_result"
    }
   ],
   "source": [
    "list(df[df.제품사진수==1].groupby('제품이름')['가격'].mean())"
   ]
  },
  {
   "cell_type": "markdown",
   "metadata": {},
   "source": [
    "### 등분산 확인"
   ]
  },
  {
   "cell_type": "code",
   "execution_count": 9,
   "metadata": {},
   "outputs": [
    {
     "name": "stdout",
     "output_type": "stream",
     "text": [
      "Levene's test statistic: 0.6858910650545844\n",
      "p-value: 0.4089852348743198\n",
      "두 그룹의 분산이 통계적으로 유의미하게 다르지 않습니다. 등분산 가정을 만족할 수 있습니다.\n"
     ]
    }
   ],
   "source": [
    "from scipy.stats import levene\n",
    "\n",
    "group1_sales = list(df[df.제품사진수==1].groupby('제품이름')['가격'].mean())  # 사진 수가 1인 그룹의 매출 데이터\n",
    "group2_sales = list(df[df.제품사진수>1].groupby('제품이름')['가격'].mean())  # 사진 수가 1개 이상인 그룹의 매출 데이터\n",
    "\n",
    "# Levene's test 수행\n",
    "statistic, p_value = levene(group1_sales, group2_sales)\n",
    "\n",
    "# 결과 출력\n",
    "print(\"Levene's test statistic:\", statistic)\n",
    "print(\"p-value:\", p_value)\n",
    "\n",
    "if p_value < 0.05:\n",
    "    print(\"두 그룹의 분산이 통계적으로 유의미하게 다릅니다. 등분산 가정이 만족되지 않을 수 있습니다.\")\n",
    "else:\n",
    "    print(\"두 그룹의 분산이 통계적으로 유의미하게 다르지 않습니다. 등분산 가정을 만족할 수 있습니다.\")\n"
   ]
  },
  {
   "cell_type": "markdown",
   "metadata": {},
   "source": [
    "### t-test"
   ]
  },
  {
   "cell_type": "code",
   "execution_count": 11,
   "metadata": {},
   "outputs": [
    {
     "name": "stdout",
     "output_type": "stream",
     "text": [
      "T-statistic: -1.287628992637242\n",
      "p-value: 0.20001484774986658\n",
      "귀무 가설을 채택합니다.\n"
     ]
    }
   ],
   "source": [
    "# 실제로 이 평균값이 유의미한가를 t-test를 통해 확인\n",
    "\n",
    "# 가설설정\n",
    "# 귀무가설 : 평균은 차이가 없다.\n",
    "# 대립가설 : 평균은 차이가 있다.\n",
    "\n",
    "from scipy import stats\n",
    "\n",
    "group1_sales = list(df[df.제품사진수==1].groupby('제품이름')['가격'].mean()) # 사진 수가 1인 그룹의 매출 데이터\n",
    "group2_sales = list(df[df.제품사진수>1].groupby('제품이름')['가격'].mean())   # 사진 수가 1개 이상인 그룹의 매출 데이터\n",
    "\n",
    "# 등분산 가정을 확인하고 독립표본 T-test 수행\n",
    "statistic, p_value = stats.ttest_ind(group1_sales, group2_sales, equal_var=True)  # equal_var=False: 등분산 가정이 만족되지 않을 경우 Welch's t-test 사용\n",
    "\n",
    "# 결과 출력\n",
    "print(\"T-statistic:\", statistic)\n",
    "print(\"p-value:\", p_value)\n",
    "\n",
    "if p_value < 0.05:\n",
    "    print(\"귀무 가설을 기각하고 대립 가설을 채택합니다.\")\n",
    "else:\n",
    "    print(\"귀무 가설을 채택합니다.\")"
   ]
  },
  {
   "cell_type": "code",
   "execution_count": 12,
   "metadata": {},
   "outputs": [
    {
     "data": {
      "application/vnd.plotly.v1+json": {
       "config": {
        "plotlyServerURL": "https://plotly.com"
       },
       "data": [
        {
         "histnorm": "density",
         "marker": {
          "color": "#4A55A2"
         },
         "name": "사진 수 1개",
         "type": "histogram",
         "x": [
          352.5299056603773,
          180.8431506849315,
          105.61549382716049,
          59.89333333333334,
          165.68283018867925,
          158.61310520361988,
          112.09580671580673,
          108.42893100097182,
          100.45466334164588,
          92.06122448979592,
          89.0406719367589,
          66.24897727272727,
          83.975,
          689.185,
          139.322160710597,
          139.81164305949008,
          173.92643442622952,
          203.8773544973545,
          287.2927027027027,
          180.0804618376276,
          131.89255319148936,
          228.2044,
          58.09315789473684,
          84.76078048780488,
          101.68862745098039,
          49.52978272390037,
          99.666,
          104.31071283095723,
          50.21666666666667,
          81.88274509803921,
          52.545,
          150.81599999999997,
          63.79245901639344,
          157.30787234042555,
          46.86533333333333,
          69.45136363636364,
          72.71840206185567,
          147.5726,
          106.73886876640421,
          218.3496629213483,
          143.54964285714286,
          181.1001226993865,
          133.07214764030613,
          121.834091954023,
          660.6280555555555,
          32.168965517241375,
          112.41641891891892,
          185.15990099009903,
          93.31161669242658,
          273.4290277777778,
          224.07666666666668,
          150.91076923076923,
          137.2083180987203,
          91.34729999999999,
          30.965384615384615,
          347.6472357723577,
          196.9325678358703,
          150.6951724137931,
          143.2411938202247,
          121.69148351648352,
          209.06,
          118.37182926829269,
          220.6166253869969,
          206.28733333333332,
          126.3745477126889,
          103.76110271903325,
          86.69929824561403,
          83.56814898419864,
          127.05123115577891,
          273.92087373468297
         ]
        },
        {
         "histnorm": "density",
         "marker": {
          "color": "#A0BFE0"
         },
         "name": "사진 수 1개 초과",
         "type": "histogram",
         "x": [
          386.84811320754716,
          234.24562913907286,
          236.9808510638298,
          101.37666666666667,
          139.96171052631578,
          164.1493109039319,
          186.1437201735358,
          121.08732570239334,
          103.75052631578947,
          81.7,
          60.845000000000006,
          68.21357142857143,
          95.38784615384616,
          155.42366666666666,
          1357.49345323741,
          128.87267916945748,
          163.18843112244897,
          182.43061224489796,
          88.09547826086956,
          193.36633333333333,
          200.63510063254745,
          128.14886597938144,
          156.7828205128205,
          51.875,
          62.03442528735632,
          161.69307692307694,
          128.82086363636364,
          63.913947368421056,
          86.40063636363637,
          102.94200000000001,
          108.32358024691356,
          109.5793023255814,
          77.7424,
          108.09142857142858,
          261.8771428571428,
          64.31666666666666,
          82.97576086956522,
          66.4297619047619,
          292.92169491525425,
          109.6013925729443,
          147.7492,
          197.91500000000002,
          117.77416406737366,
          178.52253090052974,
          124.97797619047618,
          404.3853076923077,
          237.68,
          244.913115942029,
          148.05487562189055,
          127.79155001340843,
          142.18061224489796,
          203.09140271493212,
          426.7,
          175.8206605504587,
          117.060663507109,
          252.8924,
          287.1339861751152,
          249.81966666666668,
          67.35642857142857,
          114.86790335151987,
          135.5908531583265,
          115.45,
          156.50051282051282,
          380.3642134831461,
          956.6293478260869,
          143.34410498687666,
          112.69642048517521,
          146.64423076923077,
          88.25287624378109,
          140.15510776599385,
          192.3656125425377
         ]
        }
       ],
       "layout": {
        "barmode": "stack",
        "template": {
         "data": {
          "bar": [
           {
            "error_x": {
             "color": "#2a3f5f"
            },
            "error_y": {
             "color": "#2a3f5f"
            },
            "marker": {
             "line": {
              "color": "#E5ECF6",
              "width": 0.5
             },
             "pattern": {
              "fillmode": "overlay",
              "size": 10,
              "solidity": 0.2
             }
            },
            "type": "bar"
           }
          ],
          "barpolar": [
           {
            "marker": {
             "line": {
              "color": "#E5ECF6",
              "width": 0.5
             },
             "pattern": {
              "fillmode": "overlay",
              "size": 10,
              "solidity": 0.2
             }
            },
            "type": "barpolar"
           }
          ],
          "carpet": [
           {
            "aaxis": {
             "endlinecolor": "#2a3f5f",
             "gridcolor": "white",
             "linecolor": "white",
             "minorgridcolor": "white",
             "startlinecolor": "#2a3f5f"
            },
            "baxis": {
             "endlinecolor": "#2a3f5f",
             "gridcolor": "white",
             "linecolor": "white",
             "minorgridcolor": "white",
             "startlinecolor": "#2a3f5f"
            },
            "type": "carpet"
           }
          ],
          "choropleth": [
           {
            "colorbar": {
             "outlinewidth": 0,
             "ticks": ""
            },
            "type": "choropleth"
           }
          ],
          "contour": [
           {
            "colorbar": {
             "outlinewidth": 0,
             "ticks": ""
            },
            "colorscale": [
             [
              0,
              "#0d0887"
             ],
             [
              0.1111111111111111,
              "#46039f"
             ],
             [
              0.2222222222222222,
              "#7201a8"
             ],
             [
              0.3333333333333333,
              "#9c179e"
             ],
             [
              0.4444444444444444,
              "#bd3786"
             ],
             [
              0.5555555555555556,
              "#d8576b"
             ],
             [
              0.6666666666666666,
              "#ed7953"
             ],
             [
              0.7777777777777778,
              "#fb9f3a"
             ],
             [
              0.8888888888888888,
              "#fdca26"
             ],
             [
              1,
              "#f0f921"
             ]
            ],
            "type": "contour"
           }
          ],
          "contourcarpet": [
           {
            "colorbar": {
             "outlinewidth": 0,
             "ticks": ""
            },
            "type": "contourcarpet"
           }
          ],
          "heatmap": [
           {
            "colorbar": {
             "outlinewidth": 0,
             "ticks": ""
            },
            "colorscale": [
             [
              0,
              "#0d0887"
             ],
             [
              0.1111111111111111,
              "#46039f"
             ],
             [
              0.2222222222222222,
              "#7201a8"
             ],
             [
              0.3333333333333333,
              "#9c179e"
             ],
             [
              0.4444444444444444,
              "#bd3786"
             ],
             [
              0.5555555555555556,
              "#d8576b"
             ],
             [
              0.6666666666666666,
              "#ed7953"
             ],
             [
              0.7777777777777778,
              "#fb9f3a"
             ],
             [
              0.8888888888888888,
              "#fdca26"
             ],
             [
              1,
              "#f0f921"
             ]
            ],
            "type": "heatmap"
           }
          ],
          "heatmapgl": [
           {
            "colorbar": {
             "outlinewidth": 0,
             "ticks": ""
            },
            "colorscale": [
             [
              0,
              "#0d0887"
             ],
             [
              0.1111111111111111,
              "#46039f"
             ],
             [
              0.2222222222222222,
              "#7201a8"
             ],
             [
              0.3333333333333333,
              "#9c179e"
             ],
             [
              0.4444444444444444,
              "#bd3786"
             ],
             [
              0.5555555555555556,
              "#d8576b"
             ],
             [
              0.6666666666666666,
              "#ed7953"
             ],
             [
              0.7777777777777778,
              "#fb9f3a"
             ],
             [
              0.8888888888888888,
              "#fdca26"
             ],
             [
              1,
              "#f0f921"
             ]
            ],
            "type": "heatmapgl"
           }
          ],
          "histogram": [
           {
            "marker": {
             "pattern": {
              "fillmode": "overlay",
              "size": 10,
              "solidity": 0.2
             }
            },
            "type": "histogram"
           }
          ],
          "histogram2d": [
           {
            "colorbar": {
             "outlinewidth": 0,
             "ticks": ""
            },
            "colorscale": [
             [
              0,
              "#0d0887"
             ],
             [
              0.1111111111111111,
              "#46039f"
             ],
             [
              0.2222222222222222,
              "#7201a8"
             ],
             [
              0.3333333333333333,
              "#9c179e"
             ],
             [
              0.4444444444444444,
              "#bd3786"
             ],
             [
              0.5555555555555556,
              "#d8576b"
             ],
             [
              0.6666666666666666,
              "#ed7953"
             ],
             [
              0.7777777777777778,
              "#fb9f3a"
             ],
             [
              0.8888888888888888,
              "#fdca26"
             ],
             [
              1,
              "#f0f921"
             ]
            ],
            "type": "histogram2d"
           }
          ],
          "histogram2dcontour": [
           {
            "colorbar": {
             "outlinewidth": 0,
             "ticks": ""
            },
            "colorscale": [
             [
              0,
              "#0d0887"
             ],
             [
              0.1111111111111111,
              "#46039f"
             ],
             [
              0.2222222222222222,
              "#7201a8"
             ],
             [
              0.3333333333333333,
              "#9c179e"
             ],
             [
              0.4444444444444444,
              "#bd3786"
             ],
             [
              0.5555555555555556,
              "#d8576b"
             ],
             [
              0.6666666666666666,
              "#ed7953"
             ],
             [
              0.7777777777777778,
              "#fb9f3a"
             ],
             [
              0.8888888888888888,
              "#fdca26"
             ],
             [
              1,
              "#f0f921"
             ]
            ],
            "type": "histogram2dcontour"
           }
          ],
          "mesh3d": [
           {
            "colorbar": {
             "outlinewidth": 0,
             "ticks": ""
            },
            "type": "mesh3d"
           }
          ],
          "parcoords": [
           {
            "line": {
             "colorbar": {
              "outlinewidth": 0,
              "ticks": ""
             }
            },
            "type": "parcoords"
           }
          ],
          "pie": [
           {
            "automargin": true,
            "type": "pie"
           }
          ],
          "scatter": [
           {
            "fillpattern": {
             "fillmode": "overlay",
             "size": 10,
             "solidity": 0.2
            },
            "type": "scatter"
           }
          ],
          "scatter3d": [
           {
            "line": {
             "colorbar": {
              "outlinewidth": 0,
              "ticks": ""
             }
            },
            "marker": {
             "colorbar": {
              "outlinewidth": 0,
              "ticks": ""
             }
            },
            "type": "scatter3d"
           }
          ],
          "scattercarpet": [
           {
            "marker": {
             "colorbar": {
              "outlinewidth": 0,
              "ticks": ""
             }
            },
            "type": "scattercarpet"
           }
          ],
          "scattergeo": [
           {
            "marker": {
             "colorbar": {
              "outlinewidth": 0,
              "ticks": ""
             }
            },
            "type": "scattergeo"
           }
          ],
          "scattergl": [
           {
            "marker": {
             "colorbar": {
              "outlinewidth": 0,
              "ticks": ""
             }
            },
            "type": "scattergl"
           }
          ],
          "scattermapbox": [
           {
            "marker": {
             "colorbar": {
              "outlinewidth": 0,
              "ticks": ""
             }
            },
            "type": "scattermapbox"
           }
          ],
          "scatterpolar": [
           {
            "marker": {
             "colorbar": {
              "outlinewidth": 0,
              "ticks": ""
             }
            },
            "type": "scatterpolar"
           }
          ],
          "scatterpolargl": [
           {
            "marker": {
             "colorbar": {
              "outlinewidth": 0,
              "ticks": ""
             }
            },
            "type": "scatterpolargl"
           }
          ],
          "scatterternary": [
           {
            "marker": {
             "colorbar": {
              "outlinewidth": 0,
              "ticks": ""
             }
            },
            "type": "scatterternary"
           }
          ],
          "surface": [
           {
            "colorbar": {
             "outlinewidth": 0,
             "ticks": ""
            },
            "colorscale": [
             [
              0,
              "#0d0887"
             ],
             [
              0.1111111111111111,
              "#46039f"
             ],
             [
              0.2222222222222222,
              "#7201a8"
             ],
             [
              0.3333333333333333,
              "#9c179e"
             ],
             [
              0.4444444444444444,
              "#bd3786"
             ],
             [
              0.5555555555555556,
              "#d8576b"
             ],
             [
              0.6666666666666666,
              "#ed7953"
             ],
             [
              0.7777777777777778,
              "#fb9f3a"
             ],
             [
              0.8888888888888888,
              "#fdca26"
             ],
             [
              1,
              "#f0f921"
             ]
            ],
            "type": "surface"
           }
          ],
          "table": [
           {
            "cells": {
             "fill": {
              "color": "#EBF0F8"
             },
             "line": {
              "color": "white"
             }
            },
            "header": {
             "fill": {
              "color": "#C8D4E3"
             },
             "line": {
              "color": "white"
             }
            },
            "type": "table"
           }
          ]
         },
         "layout": {
          "annotationdefaults": {
           "arrowcolor": "#2a3f5f",
           "arrowhead": 0,
           "arrowwidth": 1
          },
          "autotypenumbers": "strict",
          "coloraxis": {
           "colorbar": {
            "outlinewidth": 0,
            "ticks": ""
           }
          },
          "colorscale": {
           "diverging": [
            [
             0,
             "#8e0152"
            ],
            [
             0.1,
             "#c51b7d"
            ],
            [
             0.2,
             "#de77ae"
            ],
            [
             0.3,
             "#f1b6da"
            ],
            [
             0.4,
             "#fde0ef"
            ],
            [
             0.5,
             "#f7f7f7"
            ],
            [
             0.6,
             "#e6f5d0"
            ],
            [
             0.7,
             "#b8e186"
            ],
            [
             0.8,
             "#7fbc41"
            ],
            [
             0.9,
             "#4d9221"
            ],
            [
             1,
             "#276419"
            ]
           ],
           "sequential": [
            [
             0,
             "#0d0887"
            ],
            [
             0.1111111111111111,
             "#46039f"
            ],
            [
             0.2222222222222222,
             "#7201a8"
            ],
            [
             0.3333333333333333,
             "#9c179e"
            ],
            [
             0.4444444444444444,
             "#bd3786"
            ],
            [
             0.5555555555555556,
             "#d8576b"
            ],
            [
             0.6666666666666666,
             "#ed7953"
            ],
            [
             0.7777777777777778,
             "#fb9f3a"
            ],
            [
             0.8888888888888888,
             "#fdca26"
            ],
            [
             1,
             "#f0f921"
            ]
           ],
           "sequentialminus": [
            [
             0,
             "#0d0887"
            ],
            [
             0.1111111111111111,
             "#46039f"
            ],
            [
             0.2222222222222222,
             "#7201a8"
            ],
            [
             0.3333333333333333,
             "#9c179e"
            ],
            [
             0.4444444444444444,
             "#bd3786"
            ],
            [
             0.5555555555555556,
             "#d8576b"
            ],
            [
             0.6666666666666666,
             "#ed7953"
            ],
            [
             0.7777777777777778,
             "#fb9f3a"
            ],
            [
             0.8888888888888888,
             "#fdca26"
            ],
            [
             1,
             "#f0f921"
            ]
           ]
          },
          "colorway": [
           "#636efa",
           "#EF553B",
           "#00cc96",
           "#ab63fa",
           "#FFA15A",
           "#19d3f3",
           "#FF6692",
           "#B6E880",
           "#FF97FF",
           "#FECB52"
          ],
          "font": {
           "color": "#2a3f5f"
          },
          "geo": {
           "bgcolor": "white",
           "lakecolor": "white",
           "landcolor": "#E5ECF6",
           "showlakes": true,
           "showland": true,
           "subunitcolor": "white"
          },
          "hoverlabel": {
           "align": "left"
          },
          "hovermode": "closest",
          "mapbox": {
           "style": "light"
          },
          "paper_bgcolor": "white",
          "plot_bgcolor": "#E5ECF6",
          "polar": {
           "angularaxis": {
            "gridcolor": "white",
            "linecolor": "white",
            "ticks": ""
           },
           "bgcolor": "#E5ECF6",
           "radialaxis": {
            "gridcolor": "white",
            "linecolor": "white",
            "ticks": ""
           }
          },
          "scene": {
           "xaxis": {
            "backgroundcolor": "#E5ECF6",
            "gridcolor": "white",
            "gridwidth": 2,
            "linecolor": "white",
            "showbackground": true,
            "ticks": "",
            "zerolinecolor": "white"
           },
           "yaxis": {
            "backgroundcolor": "#E5ECF6",
            "gridcolor": "white",
            "gridwidth": 2,
            "linecolor": "white",
            "showbackground": true,
            "ticks": "",
            "zerolinecolor": "white"
           },
           "zaxis": {
            "backgroundcolor": "#E5ECF6",
            "gridcolor": "white",
            "gridwidth": 2,
            "linecolor": "white",
            "showbackground": true,
            "ticks": "",
            "zerolinecolor": "white"
           }
          },
          "shapedefaults": {
           "line": {
            "color": "#2a3f5f"
           }
          },
          "ternary": {
           "aaxis": {
            "gridcolor": "white",
            "linecolor": "white",
            "ticks": ""
           },
           "baxis": {
            "gridcolor": "white",
            "linecolor": "white",
            "ticks": ""
           },
           "bgcolor": "#E5ECF6",
           "caxis": {
            "gridcolor": "white",
            "linecolor": "white",
            "ticks": ""
           }
          },
          "title": {
           "x": 0.05
          },
          "xaxis": {
           "automargin": true,
           "gridcolor": "white",
           "linecolor": "white",
           "ticks": "",
           "title": {
            "standoff": 15
           },
           "zerolinecolor": "white",
           "zerolinewidth": 2
          },
          "yaxis": {
           "automargin": true,
           "gridcolor": "white",
           "linecolor": "white",
           "ticks": "",
           "title": {
            "standoff": 15
           },
           "zerolinecolor": "white",
           "zerolinewidth": 2
          }
         }
        },
        "title": {
         "text": "두 그룹의 매출 분포"
        },
        "width": 800,
        "xaxis": {
         "title": {
          "text": "매출"
         }
        },
        "yaxis": {
         "title": {
          "text": "확률 밀도"
         }
        }
       }
      }
     },
     "metadata": {},
     "output_type": "display_data"
    },
    {
     "data": {
      "text/plain": [
       "'https://plotly.com/~ghktkf7788/1/'"
      ]
     },
     "execution_count": 12,
     "metadata": {},
     "output_type": "execute_result"
    }
   ],
   "source": [
    "import chart_studio\n",
    "chart_studio.tools.set_credentials_file(username='ghktkf7788', api_key='D9ASyMzNm4ltyTqLQ8CH')\n",
    "\n",
    "\n",
    "from chart_studio.plotly import plot, iplot\n",
    "\n",
    "\n",
    "fig = go.Figure()\n",
    "\n",
    "fig.add_trace(go.Histogram(x=group1_sales, name='사진 수 1개', histnorm='density', marker_color='#4A55A2'))\n",
    "fig.add_trace(go.Histogram(x=group2_sales, name='사진 수 1개 초과', histnorm='density', marker_color='#A0BFE0'))\n",
    "\n",
    "fig.update_layout(\n",
    "    xaxis_title='매출',\n",
    "    yaxis_title='확률 밀도',\n",
    "    title='두 그룹의 매출 분포',\n",
    "    width=800,\n",
    "    barmode='stack',\n",
    ")\n",
    "\n",
    "fig.show()\n",
    "\n",
    "plot(fig, filename = '두 그룹의 매출 분포', auto_open=True)"
   ]
  },
  {
   "cell_type": "code",
   "execution_count": 13,
   "metadata": {},
   "outputs": [
    {
     "data": {
      "application/vnd.plotly.v1+json": {
       "config": {
        "plotlyServerURL": "https://plotly.com"
       },
       "data": [
        {
         "marker": {
          "color": "#4A55A2"
         },
         "name": "사진 수 1개",
         "type": "box",
         "y": [
          352.5299056603773,
          180.8431506849315,
          105.61549382716049,
          59.89333333333334,
          165.68283018867925,
          158.61310520361988,
          112.09580671580673,
          108.42893100097182,
          100.45466334164588,
          92.06122448979592,
          89.0406719367589,
          66.24897727272727,
          83.975,
          689.185,
          139.322160710597,
          139.81164305949008,
          173.92643442622952,
          203.8773544973545,
          287.2927027027027,
          180.0804618376276,
          131.89255319148936,
          228.2044,
          58.09315789473684,
          84.76078048780488,
          101.68862745098039,
          49.52978272390037,
          99.666,
          104.31071283095723,
          50.21666666666667,
          81.88274509803921,
          52.545,
          150.81599999999997,
          63.79245901639344,
          157.30787234042555,
          46.86533333333333,
          69.45136363636364,
          72.71840206185567,
          147.5726,
          106.73886876640421,
          218.3496629213483,
          143.54964285714286,
          181.1001226993865,
          133.07214764030613,
          121.834091954023,
          660.6280555555555,
          32.168965517241375,
          112.41641891891892,
          185.15990099009903,
          93.31161669242658,
          273.4290277777778,
          224.07666666666668,
          150.91076923076923,
          137.2083180987203,
          91.34729999999999,
          30.965384615384615,
          347.6472357723577,
          196.9325678358703,
          150.6951724137931,
          143.2411938202247,
          121.69148351648352,
          209.06,
          118.37182926829269,
          220.6166253869969,
          206.28733333333332,
          126.3745477126889,
          103.76110271903325,
          86.69929824561403,
          83.56814898419864,
          127.05123115577891,
          273.92087373468297
         ]
        },
        {
         "marker": {
          "color": "#A0BFE0"
         },
         "name": "사진 수 1개 초과",
         "type": "box",
         "y": [
          386.84811320754716,
          234.24562913907286,
          236.9808510638298,
          101.37666666666667,
          139.96171052631578,
          164.1493109039319,
          186.1437201735358,
          121.08732570239334,
          103.75052631578947,
          81.7,
          60.845000000000006,
          68.21357142857143,
          95.38784615384616,
          155.42366666666666,
          1357.49345323741,
          128.87267916945748,
          163.18843112244897,
          182.43061224489796,
          88.09547826086956,
          193.36633333333333,
          200.63510063254745,
          128.14886597938144,
          156.7828205128205,
          51.875,
          62.03442528735632,
          161.69307692307694,
          128.82086363636364,
          63.913947368421056,
          86.40063636363637,
          102.94200000000001,
          108.32358024691356,
          109.5793023255814,
          77.7424,
          108.09142857142858,
          261.8771428571428,
          64.31666666666666,
          82.97576086956522,
          66.4297619047619,
          292.92169491525425,
          109.6013925729443,
          147.7492,
          197.91500000000002,
          117.77416406737366,
          178.52253090052974,
          124.97797619047618,
          404.3853076923077,
          237.68,
          244.913115942029,
          148.05487562189055,
          127.79155001340843,
          142.18061224489796,
          203.09140271493212,
          426.7,
          175.8206605504587,
          117.060663507109,
          252.8924,
          287.1339861751152,
          249.81966666666668,
          67.35642857142857,
          114.86790335151987,
          135.5908531583265,
          115.45,
          156.50051282051282,
          380.3642134831461,
          956.6293478260869,
          143.34410498687666,
          112.69642048517521,
          146.64423076923077,
          88.25287624378109,
          140.15510776599385,
          192.3656125425377
         ]
        }
       ],
       "layout": {
        "template": {
         "data": {
          "bar": [
           {
            "error_x": {
             "color": "#2a3f5f"
            },
            "error_y": {
             "color": "#2a3f5f"
            },
            "marker": {
             "line": {
              "color": "#E5ECF6",
              "width": 0.5
             },
             "pattern": {
              "fillmode": "overlay",
              "size": 10,
              "solidity": 0.2
             }
            },
            "type": "bar"
           }
          ],
          "barpolar": [
           {
            "marker": {
             "line": {
              "color": "#E5ECF6",
              "width": 0.5
             },
             "pattern": {
              "fillmode": "overlay",
              "size": 10,
              "solidity": 0.2
             }
            },
            "type": "barpolar"
           }
          ],
          "carpet": [
           {
            "aaxis": {
             "endlinecolor": "#2a3f5f",
             "gridcolor": "white",
             "linecolor": "white",
             "minorgridcolor": "white",
             "startlinecolor": "#2a3f5f"
            },
            "baxis": {
             "endlinecolor": "#2a3f5f",
             "gridcolor": "white",
             "linecolor": "white",
             "minorgridcolor": "white",
             "startlinecolor": "#2a3f5f"
            },
            "type": "carpet"
           }
          ],
          "choropleth": [
           {
            "colorbar": {
             "outlinewidth": 0,
             "ticks": ""
            },
            "type": "choropleth"
           }
          ],
          "contour": [
           {
            "colorbar": {
             "outlinewidth": 0,
             "ticks": ""
            },
            "colorscale": [
             [
              0,
              "#0d0887"
             ],
             [
              0.1111111111111111,
              "#46039f"
             ],
             [
              0.2222222222222222,
              "#7201a8"
             ],
             [
              0.3333333333333333,
              "#9c179e"
             ],
             [
              0.4444444444444444,
              "#bd3786"
             ],
             [
              0.5555555555555556,
              "#d8576b"
             ],
             [
              0.6666666666666666,
              "#ed7953"
             ],
             [
              0.7777777777777778,
              "#fb9f3a"
             ],
             [
              0.8888888888888888,
              "#fdca26"
             ],
             [
              1,
              "#f0f921"
             ]
            ],
            "type": "contour"
           }
          ],
          "contourcarpet": [
           {
            "colorbar": {
             "outlinewidth": 0,
             "ticks": ""
            },
            "type": "contourcarpet"
           }
          ],
          "heatmap": [
           {
            "colorbar": {
             "outlinewidth": 0,
             "ticks": ""
            },
            "colorscale": [
             [
              0,
              "#0d0887"
             ],
             [
              0.1111111111111111,
              "#46039f"
             ],
             [
              0.2222222222222222,
              "#7201a8"
             ],
             [
              0.3333333333333333,
              "#9c179e"
             ],
             [
              0.4444444444444444,
              "#bd3786"
             ],
             [
              0.5555555555555556,
              "#d8576b"
             ],
             [
              0.6666666666666666,
              "#ed7953"
             ],
             [
              0.7777777777777778,
              "#fb9f3a"
             ],
             [
              0.8888888888888888,
              "#fdca26"
             ],
             [
              1,
              "#f0f921"
             ]
            ],
            "type": "heatmap"
           }
          ],
          "heatmapgl": [
           {
            "colorbar": {
             "outlinewidth": 0,
             "ticks": ""
            },
            "colorscale": [
             [
              0,
              "#0d0887"
             ],
             [
              0.1111111111111111,
              "#46039f"
             ],
             [
              0.2222222222222222,
              "#7201a8"
             ],
             [
              0.3333333333333333,
              "#9c179e"
             ],
             [
              0.4444444444444444,
              "#bd3786"
             ],
             [
              0.5555555555555556,
              "#d8576b"
             ],
             [
              0.6666666666666666,
              "#ed7953"
             ],
             [
              0.7777777777777778,
              "#fb9f3a"
             ],
             [
              0.8888888888888888,
              "#fdca26"
             ],
             [
              1,
              "#f0f921"
             ]
            ],
            "type": "heatmapgl"
           }
          ],
          "histogram": [
           {
            "marker": {
             "pattern": {
              "fillmode": "overlay",
              "size": 10,
              "solidity": 0.2
             }
            },
            "type": "histogram"
           }
          ],
          "histogram2d": [
           {
            "colorbar": {
             "outlinewidth": 0,
             "ticks": ""
            },
            "colorscale": [
             [
              0,
              "#0d0887"
             ],
             [
              0.1111111111111111,
              "#46039f"
             ],
             [
              0.2222222222222222,
              "#7201a8"
             ],
             [
              0.3333333333333333,
              "#9c179e"
             ],
             [
              0.4444444444444444,
              "#bd3786"
             ],
             [
              0.5555555555555556,
              "#d8576b"
             ],
             [
              0.6666666666666666,
              "#ed7953"
             ],
             [
              0.7777777777777778,
              "#fb9f3a"
             ],
             [
              0.8888888888888888,
              "#fdca26"
             ],
             [
              1,
              "#f0f921"
             ]
            ],
            "type": "histogram2d"
           }
          ],
          "histogram2dcontour": [
           {
            "colorbar": {
             "outlinewidth": 0,
             "ticks": ""
            },
            "colorscale": [
             [
              0,
              "#0d0887"
             ],
             [
              0.1111111111111111,
              "#46039f"
             ],
             [
              0.2222222222222222,
              "#7201a8"
             ],
             [
              0.3333333333333333,
              "#9c179e"
             ],
             [
              0.4444444444444444,
              "#bd3786"
             ],
             [
              0.5555555555555556,
              "#d8576b"
             ],
             [
              0.6666666666666666,
              "#ed7953"
             ],
             [
              0.7777777777777778,
              "#fb9f3a"
             ],
             [
              0.8888888888888888,
              "#fdca26"
             ],
             [
              1,
              "#f0f921"
             ]
            ],
            "type": "histogram2dcontour"
           }
          ],
          "mesh3d": [
           {
            "colorbar": {
             "outlinewidth": 0,
             "ticks": ""
            },
            "type": "mesh3d"
           }
          ],
          "parcoords": [
           {
            "line": {
             "colorbar": {
              "outlinewidth": 0,
              "ticks": ""
             }
            },
            "type": "parcoords"
           }
          ],
          "pie": [
           {
            "automargin": true,
            "type": "pie"
           }
          ],
          "scatter": [
           {
            "fillpattern": {
             "fillmode": "overlay",
             "size": 10,
             "solidity": 0.2
            },
            "type": "scatter"
           }
          ],
          "scatter3d": [
           {
            "line": {
             "colorbar": {
              "outlinewidth": 0,
              "ticks": ""
             }
            },
            "marker": {
             "colorbar": {
              "outlinewidth": 0,
              "ticks": ""
             }
            },
            "type": "scatter3d"
           }
          ],
          "scattercarpet": [
           {
            "marker": {
             "colorbar": {
              "outlinewidth": 0,
              "ticks": ""
             }
            },
            "type": "scattercarpet"
           }
          ],
          "scattergeo": [
           {
            "marker": {
             "colorbar": {
              "outlinewidth": 0,
              "ticks": ""
             }
            },
            "type": "scattergeo"
           }
          ],
          "scattergl": [
           {
            "marker": {
             "colorbar": {
              "outlinewidth": 0,
              "ticks": ""
             }
            },
            "type": "scattergl"
           }
          ],
          "scattermapbox": [
           {
            "marker": {
             "colorbar": {
              "outlinewidth": 0,
              "ticks": ""
             }
            },
            "type": "scattermapbox"
           }
          ],
          "scatterpolar": [
           {
            "marker": {
             "colorbar": {
              "outlinewidth": 0,
              "ticks": ""
             }
            },
            "type": "scatterpolar"
           }
          ],
          "scatterpolargl": [
           {
            "marker": {
             "colorbar": {
              "outlinewidth": 0,
              "ticks": ""
             }
            },
            "type": "scatterpolargl"
           }
          ],
          "scatterternary": [
           {
            "marker": {
             "colorbar": {
              "outlinewidth": 0,
              "ticks": ""
             }
            },
            "type": "scatterternary"
           }
          ],
          "surface": [
           {
            "colorbar": {
             "outlinewidth": 0,
             "ticks": ""
            },
            "colorscale": [
             [
              0,
              "#0d0887"
             ],
             [
              0.1111111111111111,
              "#46039f"
             ],
             [
              0.2222222222222222,
              "#7201a8"
             ],
             [
              0.3333333333333333,
              "#9c179e"
             ],
             [
              0.4444444444444444,
              "#bd3786"
             ],
             [
              0.5555555555555556,
              "#d8576b"
             ],
             [
              0.6666666666666666,
              "#ed7953"
             ],
             [
              0.7777777777777778,
              "#fb9f3a"
             ],
             [
              0.8888888888888888,
              "#fdca26"
             ],
             [
              1,
              "#f0f921"
             ]
            ],
            "type": "surface"
           }
          ],
          "table": [
           {
            "cells": {
             "fill": {
              "color": "#EBF0F8"
             },
             "line": {
              "color": "white"
             }
            },
            "header": {
             "fill": {
              "color": "#C8D4E3"
             },
             "line": {
              "color": "white"
             }
            },
            "type": "table"
           }
          ]
         },
         "layout": {
          "annotationdefaults": {
           "arrowcolor": "#2a3f5f",
           "arrowhead": 0,
           "arrowwidth": 1
          },
          "autotypenumbers": "strict",
          "coloraxis": {
           "colorbar": {
            "outlinewidth": 0,
            "ticks": ""
           }
          },
          "colorscale": {
           "diverging": [
            [
             0,
             "#8e0152"
            ],
            [
             0.1,
             "#c51b7d"
            ],
            [
             0.2,
             "#de77ae"
            ],
            [
             0.3,
             "#f1b6da"
            ],
            [
             0.4,
             "#fde0ef"
            ],
            [
             0.5,
             "#f7f7f7"
            ],
            [
             0.6,
             "#e6f5d0"
            ],
            [
             0.7,
             "#b8e186"
            ],
            [
             0.8,
             "#7fbc41"
            ],
            [
             0.9,
             "#4d9221"
            ],
            [
             1,
             "#276419"
            ]
           ],
           "sequential": [
            [
             0,
             "#0d0887"
            ],
            [
             0.1111111111111111,
             "#46039f"
            ],
            [
             0.2222222222222222,
             "#7201a8"
            ],
            [
             0.3333333333333333,
             "#9c179e"
            ],
            [
             0.4444444444444444,
             "#bd3786"
            ],
            [
             0.5555555555555556,
             "#d8576b"
            ],
            [
             0.6666666666666666,
             "#ed7953"
            ],
            [
             0.7777777777777778,
             "#fb9f3a"
            ],
            [
             0.8888888888888888,
             "#fdca26"
            ],
            [
             1,
             "#f0f921"
            ]
           ],
           "sequentialminus": [
            [
             0,
             "#0d0887"
            ],
            [
             0.1111111111111111,
             "#46039f"
            ],
            [
             0.2222222222222222,
             "#7201a8"
            ],
            [
             0.3333333333333333,
             "#9c179e"
            ],
            [
             0.4444444444444444,
             "#bd3786"
            ],
            [
             0.5555555555555556,
             "#d8576b"
            ],
            [
             0.6666666666666666,
             "#ed7953"
            ],
            [
             0.7777777777777778,
             "#fb9f3a"
            ],
            [
             0.8888888888888888,
             "#fdca26"
            ],
            [
             1,
             "#f0f921"
            ]
           ]
          },
          "colorway": [
           "#636efa",
           "#EF553B",
           "#00cc96",
           "#ab63fa",
           "#FFA15A",
           "#19d3f3",
           "#FF6692",
           "#B6E880",
           "#FF97FF",
           "#FECB52"
          ],
          "font": {
           "color": "#2a3f5f"
          },
          "geo": {
           "bgcolor": "white",
           "lakecolor": "white",
           "landcolor": "#E5ECF6",
           "showlakes": true,
           "showland": true,
           "subunitcolor": "white"
          },
          "hoverlabel": {
           "align": "left"
          },
          "hovermode": "closest",
          "mapbox": {
           "style": "light"
          },
          "paper_bgcolor": "white",
          "plot_bgcolor": "#E5ECF6",
          "polar": {
           "angularaxis": {
            "gridcolor": "white",
            "linecolor": "white",
            "ticks": ""
           },
           "bgcolor": "#E5ECF6",
           "radialaxis": {
            "gridcolor": "white",
            "linecolor": "white",
            "ticks": ""
           }
          },
          "scene": {
           "xaxis": {
            "backgroundcolor": "#E5ECF6",
            "gridcolor": "white",
            "gridwidth": 2,
            "linecolor": "white",
            "showbackground": true,
            "ticks": "",
            "zerolinecolor": "white"
           },
           "yaxis": {
            "backgroundcolor": "#E5ECF6",
            "gridcolor": "white",
            "gridwidth": 2,
            "linecolor": "white",
            "showbackground": true,
            "ticks": "",
            "zerolinecolor": "white"
           },
           "zaxis": {
            "backgroundcolor": "#E5ECF6",
            "gridcolor": "white",
            "gridwidth": 2,
            "linecolor": "white",
            "showbackground": true,
            "ticks": "",
            "zerolinecolor": "white"
           }
          },
          "shapedefaults": {
           "line": {
            "color": "#2a3f5f"
           }
          },
          "ternary": {
           "aaxis": {
            "gridcolor": "white",
            "linecolor": "white",
            "ticks": ""
           },
           "baxis": {
            "gridcolor": "white",
            "linecolor": "white",
            "ticks": ""
           },
           "bgcolor": "#E5ECF6",
           "caxis": {
            "gridcolor": "white",
            "linecolor": "white",
            "ticks": ""
           }
          },
          "title": {
           "x": 0.05
          },
          "xaxis": {
           "automargin": true,
           "gridcolor": "white",
           "linecolor": "white",
           "ticks": "",
           "title": {
            "standoff": 15
           },
           "zerolinecolor": "white",
           "zerolinewidth": 2
          },
          "yaxis": {
           "automargin": true,
           "gridcolor": "white",
           "linecolor": "white",
           "ticks": "",
           "title": {
            "standoff": 15
           },
           "zerolinecolor": "white",
           "zerolinewidth": 2
          }
         }
        },
        "title": {
         "text": "두 그룹의 매출 분포"
        },
        "width": 800,
        "xaxis": {
         "title": {
          "text": "사진 장수"
         }
        },
        "yaxis": {
         "title": {
          "text": "매출"
         }
        }
       }
      }
     },
     "metadata": {},
     "output_type": "display_data"
    },
    {
     "data": {
      "text/plain": [
       "'https://plotly.com/~ghktkf7788/1/'"
      ]
     },
     "execution_count": 13,
     "metadata": {},
     "output_type": "execute_result"
    }
   ],
   "source": [
    "import chart_studio\n",
    "chart_studio.tools.set_credentials_file(username='ghktkf7788', api_key='D9ASyMzNm4ltyTqLQ8CH')\n",
    "\n",
    "\n",
    "from chart_studio.plotly import plot, iplot\n",
    "\n",
    "\n",
    "fig = go.Figure()\n",
    "\n",
    "# Scatter Trace 추가\n",
    "fig.add_trace(go.Box(y=group1_sales,name='사진 수 1개', marker_color='#4A55A2'))\n",
    "fig.add_trace(go.Box(y=group2_sales,name='사진 수 1개 초과', marker_color='#A0BFE0'))\n",
    "fig.update_layout(\n",
    "    xaxis_title='사진 장수',\n",
    "    yaxis_title='매출',\n",
    "    title='두 그룹의 매출 분포',\n",
    "    width=800,\n",
    ")\n",
    "fig.show()\n",
    "\n",
    "plot(fig, filename = '두 그룹의 매출 분포', auto_open=True)"
   ]
  },
  {
   "cell_type": "markdown",
   "metadata": {},
   "source": [
    "## 제품설명길이에 따른 A/B TEST"
   ]
  },
  {
   "cell_type": "code",
   "execution_count": 61,
   "metadata": {},
   "outputs": [
    {
     "data": {
      "text/html": [
       "<div>\n",
       "<style scoped>\n",
       "    .dataframe tbody tr th:only-of-type {\n",
       "        vertical-align: middle;\n",
       "    }\n",
       "\n",
       "    .dataframe tbody tr th {\n",
       "        vertical-align: top;\n",
       "    }\n",
       "\n",
       "    .dataframe thead th {\n",
       "        text-align: right;\n",
       "    }\n",
       "</style>\n",
       "<table border=\"1\" class=\"dataframe\">\n",
       "  <thead>\n",
       "    <tr style=\"text-align: right;\">\n",
       "      <th></th>\n",
       "      <th>주문id</th>\n",
       "      <th>주문아이템id</th>\n",
       "      <th>제품id</th>\n",
       "      <th>가격</th>\n",
       "      <th>제품이름</th>\n",
       "      <th>제품이름길이</th>\n",
       "      <th>제품설명길이</th>\n",
       "      <th>제품사진수</th>\n",
       "      <th>제품무게</th>\n",
       "      <th>제품길이</th>\n",
       "      <th>제품높이</th>\n",
       "      <th>제품높이</th>\n",
       "    </tr>\n",
       "  </thead>\n",
       "  <tbody>\n",
       "    <tr>\n",
       "      <th>0</th>\n",
       "      <td>96870</td>\n",
       "      <td>1</td>\n",
       "      <td>12130</td>\n",
       "      <td>72.19</td>\n",
       "      <td>cool_stuff</td>\n",
       "      <td>58.0</td>\n",
       "      <td>598.0</td>\n",
       "      <td>4.0</td>\n",
       "      <td>650.0</td>\n",
       "      <td>28.0</td>\n",
       "      <td>9.0</td>\n",
       "      <td>14.0</td>\n",
       "    </tr>\n",
       "    <tr>\n",
       "      <th>1</th>\n",
       "      <td>9433</td>\n",
       "      <td>1</td>\n",
       "      <td>29611</td>\n",
       "      <td>259.83</td>\n",
       "      <td>pet_shop</td>\n",
       "      <td>56.0</td>\n",
       "      <td>239.0</td>\n",
       "      <td>2.0</td>\n",
       "      <td>30000.0</td>\n",
       "      <td>50.0</td>\n",
       "      <td>30.0</td>\n",
       "      <td>40.0</td>\n",
       "    </tr>\n",
       "    <tr>\n",
       "      <th>3</th>\n",
       "      <td>91182</td>\n",
       "      <td>1</td>\n",
       "      <td>1404</td>\n",
       "      <td>25.78</td>\n",
       "      <td>perfumery</td>\n",
       "      <td>42.0</td>\n",
       "      <td>480.0</td>\n",
       "      <td>1.0</td>\n",
       "      <td>200.0</td>\n",
       "      <td>16.0</td>\n",
       "      <td>10.0</td>\n",
       "      <td>15.0</td>\n",
       "    </tr>\n",
       "    <tr>\n",
       "      <th>4</th>\n",
       "      <td>79789</td>\n",
       "      <td>1</td>\n",
       "      <td>30255</td>\n",
       "      <td>218.04</td>\n",
       "      <td>garden_tools</td>\n",
       "      <td>59.0</td>\n",
       "      <td>409.0</td>\n",
       "      <td>1.0</td>\n",
       "      <td>3750.0</td>\n",
       "      <td>35.0</td>\n",
       "      <td>40.0</td>\n",
       "      <td>30.0</td>\n",
       "    </tr>\n",
       "    <tr>\n",
       "      <th>5</th>\n",
       "      <td>6229</td>\n",
       "      <td>1</td>\n",
       "      <td>29635</td>\n",
       "      <td>34.59</td>\n",
       "      <td>housewares</td>\n",
       "      <td>36.0</td>\n",
       "      <td>558.0</td>\n",
       "      <td>1.0</td>\n",
       "      <td>450.0</td>\n",
       "      <td>24.0</td>\n",
       "      <td>8.0</td>\n",
       "      <td>15.0</td>\n",
       "    </tr>\n",
       "    <tr>\n",
       "      <th>...</th>\n",
       "      <td>...</td>\n",
       "      <td>...</td>\n",
       "      <td>...</td>\n",
       "      <td>...</td>\n",
       "      <td>...</td>\n",
       "      <td>...</td>\n",
       "      <td>...</td>\n",
       "      <td>...</td>\n",
       "      <td>...</td>\n",
       "      <td>...</td>\n",
       "      <td>...</td>\n",
       "      <td>...</td>\n",
       "    </tr>\n",
       "    <tr>\n",
       "      <th>112630</th>\n",
       "      <td>67765</td>\n",
       "      <td>1</td>\n",
       "      <td>673</td>\n",
       "      <td>123.60</td>\n",
       "      <td>luggage_accessories</td>\n",
       "      <td>41.0</td>\n",
       "      <td>155.0</td>\n",
       "      <td>3.0</td>\n",
       "      <td>16050.0</td>\n",
       "      <td>60.0</td>\n",
       "      <td>40.0</td>\n",
       "      <td>40.0</td>\n",
       "    </tr>\n",
       "    <tr>\n",
       "      <th>112637</th>\n",
       "      <td>49559</td>\n",
       "      <td>1</td>\n",
       "      <td>20653</td>\n",
       "      <td>273.92</td>\n",
       "      <td>sports_leisure</td>\n",
       "      <td>32.0</td>\n",
       "      <td>280.0</td>\n",
       "      <td>2.0</td>\n",
       "      <td>2700.0</td>\n",
       "      <td>60.0</td>\n",
       "      <td>15.0</td>\n",
       "      <td>15.0</td>\n",
       "    </tr>\n",
       "    <tr>\n",
       "      <th>112638</th>\n",
       "      <td>55002</td>\n",
       "      <td>1</td>\n",
       "      <td>16390</td>\n",
       "      <td>15.86</td>\n",
       "      <td>musical_instruments</td>\n",
       "      <td>41.0</td>\n",
       "      <td>103.0</td>\n",
       "      <td>1.0</td>\n",
       "      <td>100.0</td>\n",
       "      <td>60.0</td>\n",
       "      <td>16.0</td>\n",
       "      <td>11.0</td>\n",
       "    </tr>\n",
       "    <tr>\n",
       "      <th>112646</th>\n",
       "      <td>72009</td>\n",
       "      <td>1</td>\n",
       "      <td>25525</td>\n",
       "      <td>386.53</td>\n",
       "      <td>computers_accessories</td>\n",
       "      <td>31.0</td>\n",
       "      <td>232.0</td>\n",
       "      <td>1.0</td>\n",
       "      <td>8950.0</td>\n",
       "      <td>45.0</td>\n",
       "      <td>26.0</td>\n",
       "      <td>38.0</td>\n",
       "    </tr>\n",
       "    <tr>\n",
       "      <th>112649</th>\n",
       "      <td>86468</td>\n",
       "      <td>1</td>\n",
       "      <td>31128</td>\n",
       "      <td>55.79</td>\n",
       "      <td>bed_bath_table</td>\n",
       "      <td>47.0</td>\n",
       "      <td>511.0</td>\n",
       "      <td>1.0</td>\n",
       "      <td>600.0</td>\n",
       "      <td>30.0</td>\n",
       "      <td>3.0</td>\n",
       "      <td>19.0</td>\n",
       "    </tr>\n",
       "  </tbody>\n",
       "</table>\n",
       "<p>55720 rows × 12 columns</p>\n",
       "</div>"
      ],
      "text/plain": [
       "         주문id  주문아이템id   제품id      가격                   제품이름  제품이름길이  제품설명길이  \\\n",
       "0       96870        1  12130   72.19             cool_stuff    58.0   598.0   \n",
       "1        9433        1  29611  259.83               pet_shop    56.0   239.0   \n",
       "3       91182        1   1404   25.78              perfumery    42.0   480.0   \n",
       "4       79789        1  30255  218.04           garden_tools    59.0   409.0   \n",
       "5        6229        1  29635   34.59             housewares    36.0   558.0   \n",
       "...       ...      ...    ...     ...                    ...     ...     ...   \n",
       "112630  67765        1    673  123.60    luggage_accessories    41.0   155.0   \n",
       "112637  49559        1  20653  273.92         sports_leisure    32.0   280.0   \n",
       "112638  55002        1  16390   15.86    musical_instruments    41.0   103.0   \n",
       "112646  72009        1  25525  386.53  computers_accessories    31.0   232.0   \n",
       "112649  86468        1  31128   55.79         bed_bath_table    47.0   511.0   \n",
       "\n",
       "        제품사진수     제품무게  제품길이  제품높이  제품높이  \n",
       "0         4.0    650.0  28.0   9.0  14.0  \n",
       "1         2.0  30000.0  50.0  30.0  40.0  \n",
       "3         1.0    200.0  16.0  10.0  15.0  \n",
       "4         1.0   3750.0  35.0  40.0  30.0  \n",
       "5         1.0    450.0  24.0   8.0  15.0  \n",
       "...       ...      ...   ...   ...   ...  \n",
       "112630    3.0  16050.0  60.0  40.0  40.0  \n",
       "112637    2.0   2700.0  60.0  15.0  15.0  \n",
       "112638    1.0    100.0  60.0  16.0  11.0  \n",
       "112646    1.0   8950.0  45.0  26.0  38.0  \n",
       "112649    1.0    600.0  30.0   3.0  19.0  \n",
       "\n",
       "[55720 rows x 12 columns]"
      ]
     },
     "execution_count": 61,
     "metadata": {},
     "output_type": "execute_result"
    }
   ],
   "source": [
    "df[df.제품설명길이<=603]"
   ]
  },
  {
   "cell_type": "code",
   "execution_count": 62,
   "metadata": {},
   "outputs": [
    {
     "data": {
      "text/html": [
       "<div>\n",
       "<style scoped>\n",
       "    .dataframe tbody tr th:only-of-type {\n",
       "        vertical-align: middle;\n",
       "    }\n",
       "\n",
       "    .dataframe tbody tr th {\n",
       "        vertical-align: top;\n",
       "    }\n",
       "\n",
       "    .dataframe thead th {\n",
       "        text-align: right;\n",
       "    }\n",
       "</style>\n",
       "<table border=\"1\" class=\"dataframe\">\n",
       "  <thead>\n",
       "    <tr style=\"text-align: right;\">\n",
       "      <th></th>\n",
       "      <th>주문id</th>\n",
       "      <th>주문아이템id</th>\n",
       "      <th>제품id</th>\n",
       "      <th>가격</th>\n",
       "      <th>제품이름</th>\n",
       "      <th>제품이름길이</th>\n",
       "      <th>제품설명길이</th>\n",
       "      <th>제품사진수</th>\n",
       "      <th>제품무게</th>\n",
       "      <th>제품길이</th>\n",
       "      <th>제품높이</th>\n",
       "      <th>제품높이</th>\n",
       "    </tr>\n",
       "  </thead>\n",
       "  <tbody>\n",
       "    <tr>\n",
       "      <th>2</th>\n",
       "      <td>87326</td>\n",
       "      <td>1</td>\n",
       "      <td>23255</td>\n",
       "      <td>216.87</td>\n",
       "      <td>furniture_decor</td>\n",
       "      <td>59.0</td>\n",
       "      <td>695.0</td>\n",
       "      <td>2.0</td>\n",
       "      <td>3050.0</td>\n",
       "      <td>33.0</td>\n",
       "      <td>13.0</td>\n",
       "      <td>33.0</td>\n",
       "    </tr>\n",
       "    <tr>\n",
       "      <th>6</th>\n",
       "      <td>96789</td>\n",
       "      <td>1</td>\n",
       "      <td>9435</td>\n",
       "      <td>31.75</td>\n",
       "      <td>telephony</td>\n",
       "      <td>52.0</td>\n",
       "      <td>815.0</td>\n",
       "      <td>1.0</td>\n",
       "      <td>200.0</td>\n",
       "      <td>27.0</td>\n",
       "      <td>5.0</td>\n",
       "      <td>20.0</td>\n",
       "    </tr>\n",
       "    <tr>\n",
       "      <th>7</th>\n",
       "      <td>72881</td>\n",
       "      <td>1</td>\n",
       "      <td>15354</td>\n",
       "      <td>880.75</td>\n",
       "      <td>garden_tools</td>\n",
       "      <td>39.0</td>\n",
       "      <td>1310.0</td>\n",
       "      <td>3.0</td>\n",
       "      <td>13805.0</td>\n",
       "      <td>35.0</td>\n",
       "      <td>75.0</td>\n",
       "      <td>45.0</td>\n",
       "    </tr>\n",
       "    <tr>\n",
       "      <th>9</th>\n",
       "      <td>15161</td>\n",
       "      <td>1</td>\n",
       "      <td>19855</td>\n",
       "      <td>65.39</td>\n",
       "      <td>books_technical</td>\n",
       "      <td>52.0</td>\n",
       "      <td>1192.0</td>\n",
       "      <td>1.0</td>\n",
       "      <td>850.0</td>\n",
       "      <td>29.0</td>\n",
       "      <td>3.0</td>\n",
       "      <td>21.0</td>\n",
       "    </tr>\n",
       "    <tr>\n",
       "      <th>10</th>\n",
       "      <td>52460</td>\n",
       "      <td>1</td>\n",
       "      <td>30801</td>\n",
       "      <td>68.87</td>\n",
       "      <td>health_beauty</td>\n",
       "      <td>57.0</td>\n",
       "      <td>614.0</td>\n",
       "      <td>1.0</td>\n",
       "      <td>950.0</td>\n",
       "      <td>35.0</td>\n",
       "      <td>25.0</td>\n",
       "      <td>20.0</td>\n",
       "    </tr>\n",
       "    <tr>\n",
       "      <th>...</th>\n",
       "      <td>...</td>\n",
       "      <td>...</td>\n",
       "      <td>...</td>\n",
       "      <td>...</td>\n",
       "      <td>...</td>\n",
       "      <td>...</td>\n",
       "      <td>...</td>\n",
       "      <td>...</td>\n",
       "      <td>...</td>\n",
       "      <td>...</td>\n",
       "      <td>...</td>\n",
       "      <td>...</td>\n",
       "    </tr>\n",
       "    <tr>\n",
       "      <th>112643</th>\n",
       "      <td>24522</td>\n",
       "      <td>4</td>\n",
       "      <td>15078</td>\n",
       "      <td>89.19</td>\n",
       "      <td>watches_gifts</td>\n",
       "      <td>41.0</td>\n",
       "      <td>1159.0</td>\n",
       "      <td>4.0</td>\n",
       "      <td>350.0</td>\n",
       "      <td>16.0</td>\n",
       "      <td>14.0</td>\n",
       "      <td>11.0</td>\n",
       "    </tr>\n",
       "    <tr>\n",
       "      <th>112644</th>\n",
       "      <td>45510</td>\n",
       "      <td>1</td>\n",
       "      <td>31403</td>\n",
       "      <td>139.88</td>\n",
       "      <td>home_construction</td>\n",
       "      <td>58.0</td>\n",
       "      <td>918.0</td>\n",
       "      <td>6.0</td>\n",
       "      <td>1050.0</td>\n",
       "      <td>16.0</td>\n",
       "      <td>20.0</td>\n",
       "      <td>16.0</td>\n",
       "    </tr>\n",
       "    <tr>\n",
       "      <th>112645</th>\n",
       "      <td>59834</td>\n",
       "      <td>1</td>\n",
       "      <td>32313</td>\n",
       "      <td>343.40</td>\n",
       "      <td>housewares</td>\n",
       "      <td>43.0</td>\n",
       "      <td>1002.0</td>\n",
       "      <td>3.0</td>\n",
       "      <td>10150.0</td>\n",
       "      <td>89.0</td>\n",
       "      <td>15.0</td>\n",
       "      <td>40.0</td>\n",
       "    </tr>\n",
       "    <tr>\n",
       "      <th>112647</th>\n",
       "      <td>56253</td>\n",
       "      <td>1</td>\n",
       "      <td>159</td>\n",
       "      <td>116.85</td>\n",
       "      <td>sports_leisure</td>\n",
       "      <td>43.0</td>\n",
       "      <td>869.0</td>\n",
       "      <td>1.0</td>\n",
       "      <td>967.0</td>\n",
       "      <td>21.0</td>\n",
       "      <td>24.0</td>\n",
       "      <td>19.0</td>\n",
       "    </tr>\n",
       "    <tr>\n",
       "      <th>112648</th>\n",
       "      <td>89718</td>\n",
       "      <td>1</td>\n",
       "      <td>11543</td>\n",
       "      <td>64.71</td>\n",
       "      <td>computers_accessories</td>\n",
       "      <td>56.0</td>\n",
       "      <td>1306.0</td>\n",
       "      <td>1.0</td>\n",
       "      <td>100.0</td>\n",
       "      <td>20.0</td>\n",
       "      <td>20.0</td>\n",
       "      <td>20.0</td>\n",
       "    </tr>\n",
       "  </tbody>\n",
       "</table>\n",
       "<p>55327 rows × 12 columns</p>\n",
       "</div>"
      ],
      "text/plain": [
       "         주문id  주문아이템id   제품id      가격                   제품이름  제품이름길이  제품설명길이  \\\n",
       "2       87326        1  23255  216.87        furniture_decor    59.0   695.0   \n",
       "6       96789        1   9435   31.75              telephony    52.0   815.0   \n",
       "7       72881        1  15354  880.75           garden_tools    39.0  1310.0   \n",
       "9       15161        1  19855   65.39        books_technical    52.0  1192.0   \n",
       "10      52460        1  30801   68.87          health_beauty    57.0   614.0   \n",
       "...       ...      ...    ...     ...                    ...     ...     ...   \n",
       "112643  24522        4  15078   89.19          watches_gifts    41.0  1159.0   \n",
       "112644  45510        1  31403  139.88      home_construction    58.0   918.0   \n",
       "112645  59834        1  32313  343.40             housewares    43.0  1002.0   \n",
       "112647  56253        1    159  116.85         sports_leisure    43.0   869.0   \n",
       "112648  89718        1  11543   64.71  computers_accessories    56.0  1306.0   \n",
       "\n",
       "        제품사진수     제품무게  제품길이  제품높이  제품높이  \n",
       "2         2.0   3050.0  33.0  13.0  33.0  \n",
       "6         1.0    200.0  27.0   5.0  20.0  \n",
       "7         3.0  13805.0  35.0  75.0  45.0  \n",
       "9         1.0    850.0  29.0   3.0  21.0  \n",
       "10        1.0    950.0  35.0  25.0  20.0  \n",
       "...       ...      ...   ...   ...   ...  \n",
       "112643    4.0    350.0  16.0  14.0  11.0  \n",
       "112644    6.0   1050.0  16.0  20.0  16.0  \n",
       "112645    3.0  10150.0  89.0  15.0  40.0  \n",
       "112647    1.0    967.0  21.0  24.0  19.0  \n",
       "112648    1.0    100.0  20.0  20.0  20.0  \n",
       "\n",
       "[55327 rows x 12 columns]"
      ]
     },
     "execution_count": 62,
     "metadata": {},
     "output_type": "execute_result"
    }
   ],
   "source": [
    "df[df.제품설명길이>603]"
   ]
  },
  {
   "cell_type": "markdown",
   "metadata": {},
   "source": [
    "### 등분산 확인"
   ]
  },
  {
   "cell_type": "code",
   "execution_count": 64,
   "metadata": {},
   "outputs": [
    {
     "name": "stdout",
     "output_type": "stream",
     "text": [
      "Levene's test statistic: 0.6714050662533737\n",
      "p-value: 0.41399578577264895\n",
      "두 그룹의 분산이 통계적으로 유의미하게 다르지 않습니다. 등분산 가정을 만족할 수 있습니다.\n"
     ]
    }
   ],
   "source": [
    "from scipy.stats import levene\n",
    "\n",
    "group1_sales = list(df[df.제품설명길이<=603].groupby('제품이름')['가격'].mean())  # 사진 수가 1인 그룹의 매출 데이터\n",
    "group2_sales = list(df[df.제품설명길이>603].groupby('제품이름')['가격'].mean())  # 사진 수가 1개 이상인 그룹의 매출 데이터\n",
    "\n",
    "# Levene's test 수행\n",
    "statistic, p_value = levene(group1_sales, group2_sales)\n",
    "\n",
    "# 결과 출력\n",
    "print(\"Levene's test statistic:\", statistic)\n",
    "print(\"p-value:\", p_value)\n",
    "\n",
    "if p_value < 0.05:\n",
    "    print(\"두 그룹의 분산이 통계적으로 유의미하게 다릅니다. 등분산 가정이 만족되지 않을 수 있습니다.\")\n",
    "else:\n",
    "    print(\"두 그룹의 분산이 통계적으로 유의미하게 다르지 않습니다. 등분산 가정을 만족할 수 있습니다.\")\n"
   ]
  },
  {
   "cell_type": "markdown",
   "metadata": {},
   "source": [
    "### t-test"
   ]
  },
  {
   "cell_type": "code",
   "execution_count": 65,
   "metadata": {},
   "outputs": [
    {
     "name": "stdout",
     "output_type": "stream",
     "text": [
      "T-statistic: -1.911009844488918\n",
      "p-value: 0.05810756728397581\n",
      "귀무 가설을 채택합니다.\n"
     ]
    }
   ],
   "source": [
    "# 실제로 이 평균값이 유의미한가를 t-test를 통해 확인\n",
    "\n",
    "# 가설설정\n",
    "# 귀무가설 : 제품 설명 길이에 따른 제품별 평균은 차이가 없다.\n",
    "# 대립가설 : 제품 설명 길이에 따른 제품별 평균은 차이가 있다.\n",
    "group1_sales = list(df[df.제품설명길이<=603].groupby('제품이름')['가격'].mean())  # 사진 수가 1인 그룹의 매출 데이터\n",
    "group2_sales = list(df[df.제품설명길이>603].groupby('제품이름')['가격'].mean())  # 사진 수가 1개 이상인 그룹의 매출 데이터\n",
    "\n",
    "# 등분산 가정을 확인하고 독립표본 T-test 수행\n",
    "statistic, p_value = stats.ttest_ind(group1_sales, group2_sales, equal_var=True)  # equal_var=False: 등분산 가정이 만족되지 않을 경우 Welch's t-test 사용\n",
    "\n",
    "# 결과 출력\n",
    "print(\"T-statistic:\", statistic)\n",
    "print(\"p-value:\", p_value)\n",
    "\n",
    "if p_value < 0.05:\n",
    "    print(\"귀무 가설을 기각하고 대립 가설을 채택합니다.\")\n",
    "else:\n",
    "    print(\"귀무 가설을 채택합니다.\")"
   ]
  },
  {
   "cell_type": "code",
   "execution_count": 66,
   "metadata": {},
   "outputs": [
    {
     "data": {
      "application/vnd.plotly.v1+json": {
       "config": {
        "plotlyServerURL": "https://plot.ly"
       },
       "data": [
        {
         "histnorm": "density",
         "marker": {
          "color": "#4A55A2"
         },
         "name": "제품설명길이<=603",
         "type": "histogram",
         "x": [
          287.6783486238532,
          139.4262105263158,
          76.9104081632653,
          45.72555555555556,
          166.1174611398964,
          127.01810265282585,
          102.29228789323165,
          113.10768202602885,
          142.87091603053435,
          77.34765957446808,
          81.43394736842104,
          68.21357142857143,
          67.8819298245614,
          63.588857142857144,
          1135.415,
          123.30015889830509,
          84.23138413685848,
          152.29724373576312,
          167.56609375,
          170.65,
          163.50282550930027,
          76.3088679245283,
          139.47042253521127,
          61.630434782608695,
          89.16236842105263,
          39.452,
          57.69939672801636,
          71.866,
          90.59730483271375,
          83.17,
          95.71604938271605,
          106.71796610169491,
          76.09863636363637,
          100.67729411764705,
          50.43266666666667,
          49.93689655172413,
          89.565,
          77.70910891089109,
          207.13352112676057,
          102.09575954297586,
          177.81075697211156,
          312.26,
          96.39887872628726,
          102.02126402835204,
          111.7131941923775,
          678.6928409090909,
          39.01933333333333,
          156.02850710900475,
          141.92550264550263,
          90.57480478087649,
          327.23517241379307,
          200.15820512820514,
          175.46727272727273,
          129.16592493297588,
          133.0514049586777,
          71.17833333333333,
          181.7561029411765,
          201.10414634146343,
          105.7145945945946,
          137.75842581423402,
          102.10623529411764,
          162.255,
          121.80774193548388,
          149.75821917808221,
          251.58727272727273,
          107.04387405886379,
          106.07273562107298,
          91.98460526315789,
          58.66678328474247,
          105.57976011288805,
          196.62389902524367
         ]
        },
        {
         "histnorm": "density",
         "marker": {
          "color": "#A0BFE0"
         },
         "name": "제품설명길이>603",
         "type": "histogram",
         "x": [
          456.4769902912621,
          240.24108910891087,
          152.995,
          118.174,
          142.32906432748538,
          185.97958016793282,
          184.9272767857143,
          107.1099381283836,
          88.47466824644549,
          136.48923076923077,
          88.57917030567685,
          110.04051282051282,
          161.19054054054055,
          1146.908457711443,
          146.55418415206123,
          249.255991902834,
          200.95818367346936,
          158.08154166666665,
          262.24290322580646,
          200.50065991751032,
          145.8536216216216,
          250.9928125,
          45.235625,
          70.60597359735974,
          136.66020408163263,
          115.86318125770653,
          70.00615384615385,
          91.2457793764988,
          101.90647058823531,
          126.77692307692307,
          127.93374999999999,
          63.04717391304348,
          403.950625,
          37.685,
          70.0548051948052,
          66.88615819209039,
          261.9613157894737,
          113.61610974793665,
          167.67551587301585,
          149.27833333333334,
          214.80266666666665,
          174.3800238701464,
          151.9839090909091,
          427.953,
          102.43666666666667,
          168.9070843373494,
          136.7251109721788,
          159.2655648535565,
          210.42098522167487,
          152.79999999999998,
          215.36829479768784,
          93.34373684210527,
          225.7969230769231,
          393.8718382352941,
          202.71877537655533,
          233.61833333333334,
          127.73153889835321,
          142.84278106508876,
          157.44273584905662,
          377.9821304347826,
          827.0120370370371,
          147.5562650813079,
          130.08308035714285,
          251.96857142857144,
          110.23203860072377,
          169.21646408839777,
          260.72833668341707
         ]
        }
       ],
       "layout": {
        "barmode": "stack",
        "template": {
         "data": {
          "bar": [
           {
            "error_x": {
             "color": "#2a3f5f"
            },
            "error_y": {
             "color": "#2a3f5f"
            },
            "marker": {
             "line": {
              "color": "#E5ECF6",
              "width": 0.5
             },
             "pattern": {
              "fillmode": "overlay",
              "size": 10,
              "solidity": 0.2
             }
            },
            "type": "bar"
           }
          ],
          "barpolar": [
           {
            "marker": {
             "line": {
              "color": "#E5ECF6",
              "width": 0.5
             },
             "pattern": {
              "fillmode": "overlay",
              "size": 10,
              "solidity": 0.2
             }
            },
            "type": "barpolar"
           }
          ],
          "carpet": [
           {
            "aaxis": {
             "endlinecolor": "#2a3f5f",
             "gridcolor": "white",
             "linecolor": "white",
             "minorgridcolor": "white",
             "startlinecolor": "#2a3f5f"
            },
            "baxis": {
             "endlinecolor": "#2a3f5f",
             "gridcolor": "white",
             "linecolor": "white",
             "minorgridcolor": "white",
             "startlinecolor": "#2a3f5f"
            },
            "type": "carpet"
           }
          ],
          "choropleth": [
           {
            "colorbar": {
             "outlinewidth": 0,
             "ticks": ""
            },
            "type": "choropleth"
           }
          ],
          "contour": [
           {
            "colorbar": {
             "outlinewidth": 0,
             "ticks": ""
            },
            "colorscale": [
             [
              0,
              "#0d0887"
             ],
             [
              0.1111111111111111,
              "#46039f"
             ],
             [
              0.2222222222222222,
              "#7201a8"
             ],
             [
              0.3333333333333333,
              "#9c179e"
             ],
             [
              0.4444444444444444,
              "#bd3786"
             ],
             [
              0.5555555555555556,
              "#d8576b"
             ],
             [
              0.6666666666666666,
              "#ed7953"
             ],
             [
              0.7777777777777778,
              "#fb9f3a"
             ],
             [
              0.8888888888888888,
              "#fdca26"
             ],
             [
              1,
              "#f0f921"
             ]
            ],
            "type": "contour"
           }
          ],
          "contourcarpet": [
           {
            "colorbar": {
             "outlinewidth": 0,
             "ticks": ""
            },
            "type": "contourcarpet"
           }
          ],
          "heatmap": [
           {
            "colorbar": {
             "outlinewidth": 0,
             "ticks": ""
            },
            "colorscale": [
             [
              0,
              "#0d0887"
             ],
             [
              0.1111111111111111,
              "#46039f"
             ],
             [
              0.2222222222222222,
              "#7201a8"
             ],
             [
              0.3333333333333333,
              "#9c179e"
             ],
             [
              0.4444444444444444,
              "#bd3786"
             ],
             [
              0.5555555555555556,
              "#d8576b"
             ],
             [
              0.6666666666666666,
              "#ed7953"
             ],
             [
              0.7777777777777778,
              "#fb9f3a"
             ],
             [
              0.8888888888888888,
              "#fdca26"
             ],
             [
              1,
              "#f0f921"
             ]
            ],
            "type": "heatmap"
           }
          ],
          "heatmapgl": [
           {
            "colorbar": {
             "outlinewidth": 0,
             "ticks": ""
            },
            "colorscale": [
             [
              0,
              "#0d0887"
             ],
             [
              0.1111111111111111,
              "#46039f"
             ],
             [
              0.2222222222222222,
              "#7201a8"
             ],
             [
              0.3333333333333333,
              "#9c179e"
             ],
             [
              0.4444444444444444,
              "#bd3786"
             ],
             [
              0.5555555555555556,
              "#d8576b"
             ],
             [
              0.6666666666666666,
              "#ed7953"
             ],
             [
              0.7777777777777778,
              "#fb9f3a"
             ],
             [
              0.8888888888888888,
              "#fdca26"
             ],
             [
              1,
              "#f0f921"
             ]
            ],
            "type": "heatmapgl"
           }
          ],
          "histogram": [
           {
            "marker": {
             "pattern": {
              "fillmode": "overlay",
              "size": 10,
              "solidity": 0.2
             }
            },
            "type": "histogram"
           }
          ],
          "histogram2d": [
           {
            "colorbar": {
             "outlinewidth": 0,
             "ticks": ""
            },
            "colorscale": [
             [
              0,
              "#0d0887"
             ],
             [
              0.1111111111111111,
              "#46039f"
             ],
             [
              0.2222222222222222,
              "#7201a8"
             ],
             [
              0.3333333333333333,
              "#9c179e"
             ],
             [
              0.4444444444444444,
              "#bd3786"
             ],
             [
              0.5555555555555556,
              "#d8576b"
             ],
             [
              0.6666666666666666,
              "#ed7953"
             ],
             [
              0.7777777777777778,
              "#fb9f3a"
             ],
             [
              0.8888888888888888,
              "#fdca26"
             ],
             [
              1,
              "#f0f921"
             ]
            ],
            "type": "histogram2d"
           }
          ],
          "histogram2dcontour": [
           {
            "colorbar": {
             "outlinewidth": 0,
             "ticks": ""
            },
            "colorscale": [
             [
              0,
              "#0d0887"
             ],
             [
              0.1111111111111111,
              "#46039f"
             ],
             [
              0.2222222222222222,
              "#7201a8"
             ],
             [
              0.3333333333333333,
              "#9c179e"
             ],
             [
              0.4444444444444444,
              "#bd3786"
             ],
             [
              0.5555555555555556,
              "#d8576b"
             ],
             [
              0.6666666666666666,
              "#ed7953"
             ],
             [
              0.7777777777777778,
              "#fb9f3a"
             ],
             [
              0.8888888888888888,
              "#fdca26"
             ],
             [
              1,
              "#f0f921"
             ]
            ],
            "type": "histogram2dcontour"
           }
          ],
          "mesh3d": [
           {
            "colorbar": {
             "outlinewidth": 0,
             "ticks": ""
            },
            "type": "mesh3d"
           }
          ],
          "parcoords": [
           {
            "line": {
             "colorbar": {
              "outlinewidth": 0,
              "ticks": ""
             }
            },
            "type": "parcoords"
           }
          ],
          "pie": [
           {
            "automargin": true,
            "type": "pie"
           }
          ],
          "scatter": [
           {
            "fillpattern": {
             "fillmode": "overlay",
             "size": 10,
             "solidity": 0.2
            },
            "type": "scatter"
           }
          ],
          "scatter3d": [
           {
            "line": {
             "colorbar": {
              "outlinewidth": 0,
              "ticks": ""
             }
            },
            "marker": {
             "colorbar": {
              "outlinewidth": 0,
              "ticks": ""
             }
            },
            "type": "scatter3d"
           }
          ],
          "scattercarpet": [
           {
            "marker": {
             "colorbar": {
              "outlinewidth": 0,
              "ticks": ""
             }
            },
            "type": "scattercarpet"
           }
          ],
          "scattergeo": [
           {
            "marker": {
             "colorbar": {
              "outlinewidth": 0,
              "ticks": ""
             }
            },
            "type": "scattergeo"
           }
          ],
          "scattergl": [
           {
            "marker": {
             "colorbar": {
              "outlinewidth": 0,
              "ticks": ""
             }
            },
            "type": "scattergl"
           }
          ],
          "scattermapbox": [
           {
            "marker": {
             "colorbar": {
              "outlinewidth": 0,
              "ticks": ""
             }
            },
            "type": "scattermapbox"
           }
          ],
          "scatterpolar": [
           {
            "marker": {
             "colorbar": {
              "outlinewidth": 0,
              "ticks": ""
             }
            },
            "type": "scatterpolar"
           }
          ],
          "scatterpolargl": [
           {
            "marker": {
             "colorbar": {
              "outlinewidth": 0,
              "ticks": ""
             }
            },
            "type": "scatterpolargl"
           }
          ],
          "scatterternary": [
           {
            "marker": {
             "colorbar": {
              "outlinewidth": 0,
              "ticks": ""
             }
            },
            "type": "scatterternary"
           }
          ],
          "surface": [
           {
            "colorbar": {
             "outlinewidth": 0,
             "ticks": ""
            },
            "colorscale": [
             [
              0,
              "#0d0887"
             ],
             [
              0.1111111111111111,
              "#46039f"
             ],
             [
              0.2222222222222222,
              "#7201a8"
             ],
             [
              0.3333333333333333,
              "#9c179e"
             ],
             [
              0.4444444444444444,
              "#bd3786"
             ],
             [
              0.5555555555555556,
              "#d8576b"
             ],
             [
              0.6666666666666666,
              "#ed7953"
             ],
             [
              0.7777777777777778,
              "#fb9f3a"
             ],
             [
              0.8888888888888888,
              "#fdca26"
             ],
             [
              1,
              "#f0f921"
             ]
            ],
            "type": "surface"
           }
          ],
          "table": [
           {
            "cells": {
             "fill": {
              "color": "#EBF0F8"
             },
             "line": {
              "color": "white"
             }
            },
            "header": {
             "fill": {
              "color": "#C8D4E3"
             },
             "line": {
              "color": "white"
             }
            },
            "type": "table"
           }
          ]
         },
         "layout": {
          "annotationdefaults": {
           "arrowcolor": "#2a3f5f",
           "arrowhead": 0,
           "arrowwidth": 1
          },
          "autotypenumbers": "strict",
          "coloraxis": {
           "colorbar": {
            "outlinewidth": 0,
            "ticks": ""
           }
          },
          "colorscale": {
           "diverging": [
            [
             0,
             "#8e0152"
            ],
            [
             0.1,
             "#c51b7d"
            ],
            [
             0.2,
             "#de77ae"
            ],
            [
             0.3,
             "#f1b6da"
            ],
            [
             0.4,
             "#fde0ef"
            ],
            [
             0.5,
             "#f7f7f7"
            ],
            [
             0.6,
             "#e6f5d0"
            ],
            [
             0.7,
             "#b8e186"
            ],
            [
             0.8,
             "#7fbc41"
            ],
            [
             0.9,
             "#4d9221"
            ],
            [
             1,
             "#276419"
            ]
           ],
           "sequential": [
            [
             0,
             "#0d0887"
            ],
            [
             0.1111111111111111,
             "#46039f"
            ],
            [
             0.2222222222222222,
             "#7201a8"
            ],
            [
             0.3333333333333333,
             "#9c179e"
            ],
            [
             0.4444444444444444,
             "#bd3786"
            ],
            [
             0.5555555555555556,
             "#d8576b"
            ],
            [
             0.6666666666666666,
             "#ed7953"
            ],
            [
             0.7777777777777778,
             "#fb9f3a"
            ],
            [
             0.8888888888888888,
             "#fdca26"
            ],
            [
             1,
             "#f0f921"
            ]
           ],
           "sequentialminus": [
            [
             0,
             "#0d0887"
            ],
            [
             0.1111111111111111,
             "#46039f"
            ],
            [
             0.2222222222222222,
             "#7201a8"
            ],
            [
             0.3333333333333333,
             "#9c179e"
            ],
            [
             0.4444444444444444,
             "#bd3786"
            ],
            [
             0.5555555555555556,
             "#d8576b"
            ],
            [
             0.6666666666666666,
             "#ed7953"
            ],
            [
             0.7777777777777778,
             "#fb9f3a"
            ],
            [
             0.8888888888888888,
             "#fdca26"
            ],
            [
             1,
             "#f0f921"
            ]
           ]
          },
          "colorway": [
           "#636efa",
           "#EF553B",
           "#00cc96",
           "#ab63fa",
           "#FFA15A",
           "#19d3f3",
           "#FF6692",
           "#B6E880",
           "#FF97FF",
           "#FECB52"
          ],
          "font": {
           "color": "#2a3f5f"
          },
          "geo": {
           "bgcolor": "white",
           "lakecolor": "white",
           "landcolor": "#E5ECF6",
           "showlakes": true,
           "showland": true,
           "subunitcolor": "white"
          },
          "hoverlabel": {
           "align": "left"
          },
          "hovermode": "closest",
          "mapbox": {
           "style": "light"
          },
          "paper_bgcolor": "white",
          "plot_bgcolor": "#E5ECF6",
          "polar": {
           "angularaxis": {
            "gridcolor": "white",
            "linecolor": "white",
            "ticks": ""
           },
           "bgcolor": "#E5ECF6",
           "radialaxis": {
            "gridcolor": "white",
            "linecolor": "white",
            "ticks": ""
           }
          },
          "scene": {
           "xaxis": {
            "backgroundcolor": "#E5ECF6",
            "gridcolor": "white",
            "gridwidth": 2,
            "linecolor": "white",
            "showbackground": true,
            "ticks": "",
            "zerolinecolor": "white"
           },
           "yaxis": {
            "backgroundcolor": "#E5ECF6",
            "gridcolor": "white",
            "gridwidth": 2,
            "linecolor": "white",
            "showbackground": true,
            "ticks": "",
            "zerolinecolor": "white"
           },
           "zaxis": {
            "backgroundcolor": "#E5ECF6",
            "gridcolor": "white",
            "gridwidth": 2,
            "linecolor": "white",
            "showbackground": true,
            "ticks": "",
            "zerolinecolor": "white"
           }
          },
          "shapedefaults": {
           "line": {
            "color": "#2a3f5f"
           }
          },
          "ternary": {
           "aaxis": {
            "gridcolor": "white",
            "linecolor": "white",
            "ticks": ""
           },
           "baxis": {
            "gridcolor": "white",
            "linecolor": "white",
            "ticks": ""
           },
           "bgcolor": "#E5ECF6",
           "caxis": {
            "gridcolor": "white",
            "linecolor": "white",
            "ticks": ""
           }
          },
          "title": {
           "x": 0.05
          },
          "xaxis": {
           "automargin": true,
           "gridcolor": "white",
           "linecolor": "white",
           "ticks": "",
           "title": {
            "standoff": 15
           },
           "zerolinecolor": "white",
           "zerolinewidth": 2
          },
          "yaxis": {
           "automargin": true,
           "gridcolor": "white",
           "linecolor": "white",
           "ticks": "",
           "title": {
            "standoff": 15
           },
           "zerolinecolor": "white",
           "zerolinewidth": 2
          }
         }
        },
        "title": {
         "text": "두 그룹의 매출 분포"
        },
        "width": 800,
        "xaxis": {
         "title": {
          "text": "매출"
         }
        },
        "yaxis": {
         "title": {
          "text": "확률 밀도"
         }
        }
       }
      }
     },
     "metadata": {},
     "output_type": "display_data"
    }
   ],
   "source": [
    "fig = go.Figure()\n",
    "\n",
    "fig.add_trace(go.Histogram(x=group1_sales, name='제품설명길이<=603', histnorm='density', marker_color='#4A55A2'))\n",
    "fig.add_trace(go.Histogram(x=group2_sales, name='제품설명길이>603', histnorm='density', marker_color='#A0BFE0'))\n",
    "\n",
    "fig.update_layout(\n",
    "    xaxis_title='매출',\n",
    "    yaxis_title='확률 밀도',\n",
    "    title='두 그룹의 매출 분포',\n",
    "    width=800,\n",
    "    barmode='stack',\n",
    ")\n",
    "\n",
    "fig.show()"
   ]
  },
  {
   "cell_type": "code",
   "execution_count": 67,
   "metadata": {},
   "outputs": [
    {
     "data": {
      "application/vnd.plotly.v1+json": {
       "config": {
        "plotlyServerURL": "https://plot.ly"
       },
       "data": [
        {
         "marker": {
          "color": "#4A55A2"
         },
         "name": "제품설명길이<=603",
         "type": "box",
         "y": [
          287.6783486238532,
          139.4262105263158,
          76.9104081632653,
          45.72555555555556,
          166.1174611398964,
          127.01810265282585,
          102.29228789323165,
          113.10768202602885,
          142.87091603053435,
          77.34765957446808,
          81.43394736842104,
          68.21357142857143,
          67.8819298245614,
          63.588857142857144,
          1135.415,
          123.30015889830509,
          84.23138413685848,
          152.29724373576312,
          167.56609375,
          170.65,
          163.50282550930027,
          76.3088679245283,
          139.47042253521127,
          61.630434782608695,
          89.16236842105263,
          39.452,
          57.69939672801636,
          71.866,
          90.59730483271375,
          83.17,
          95.71604938271605,
          106.71796610169491,
          76.09863636363637,
          100.67729411764705,
          50.43266666666667,
          49.93689655172413,
          89.565,
          77.70910891089109,
          207.13352112676057,
          102.09575954297586,
          177.81075697211156,
          312.26,
          96.39887872628726,
          102.02126402835204,
          111.7131941923775,
          678.6928409090909,
          39.01933333333333,
          156.02850710900475,
          141.92550264550263,
          90.57480478087649,
          327.23517241379307,
          200.15820512820514,
          175.46727272727273,
          129.16592493297588,
          133.0514049586777,
          71.17833333333333,
          181.7561029411765,
          201.10414634146343,
          105.7145945945946,
          137.75842581423402,
          102.10623529411764,
          162.255,
          121.80774193548388,
          149.75821917808221,
          251.58727272727273,
          107.04387405886379,
          106.07273562107298,
          91.98460526315789,
          58.66678328474247,
          105.57976011288805,
          196.62389902524367
         ]
        },
        {
         "marker": {
          "color": "#A0BFE0"
         },
         "name": "제품설명길이>603",
         "type": "box",
         "y": [
          456.4769902912621,
          240.24108910891087,
          152.995,
          118.174,
          142.32906432748538,
          185.97958016793282,
          184.9272767857143,
          107.1099381283836,
          88.47466824644549,
          136.48923076923077,
          88.57917030567685,
          110.04051282051282,
          161.19054054054055,
          1146.908457711443,
          146.55418415206123,
          249.255991902834,
          200.95818367346936,
          158.08154166666665,
          262.24290322580646,
          200.50065991751032,
          145.8536216216216,
          250.9928125,
          45.235625,
          70.60597359735974,
          136.66020408163263,
          115.86318125770653,
          70.00615384615385,
          91.2457793764988,
          101.90647058823531,
          126.77692307692307,
          127.93374999999999,
          63.04717391304348,
          403.950625,
          37.685,
          70.0548051948052,
          66.88615819209039,
          261.9613157894737,
          113.61610974793665,
          167.67551587301585,
          149.27833333333334,
          214.80266666666665,
          174.3800238701464,
          151.9839090909091,
          427.953,
          102.43666666666667,
          168.9070843373494,
          136.7251109721788,
          159.2655648535565,
          210.42098522167487,
          152.79999999999998,
          215.36829479768784,
          93.34373684210527,
          225.7969230769231,
          393.8718382352941,
          202.71877537655533,
          233.61833333333334,
          127.73153889835321,
          142.84278106508876,
          157.44273584905662,
          377.9821304347826,
          827.0120370370371,
          147.5562650813079,
          130.08308035714285,
          251.96857142857144,
          110.23203860072377,
          169.21646408839777,
          260.72833668341707
         ]
        }
       ],
       "layout": {
        "template": {
         "data": {
          "bar": [
           {
            "error_x": {
             "color": "#2a3f5f"
            },
            "error_y": {
             "color": "#2a3f5f"
            },
            "marker": {
             "line": {
              "color": "#E5ECF6",
              "width": 0.5
             },
             "pattern": {
              "fillmode": "overlay",
              "size": 10,
              "solidity": 0.2
             }
            },
            "type": "bar"
           }
          ],
          "barpolar": [
           {
            "marker": {
             "line": {
              "color": "#E5ECF6",
              "width": 0.5
             },
             "pattern": {
              "fillmode": "overlay",
              "size": 10,
              "solidity": 0.2
             }
            },
            "type": "barpolar"
           }
          ],
          "carpet": [
           {
            "aaxis": {
             "endlinecolor": "#2a3f5f",
             "gridcolor": "white",
             "linecolor": "white",
             "minorgridcolor": "white",
             "startlinecolor": "#2a3f5f"
            },
            "baxis": {
             "endlinecolor": "#2a3f5f",
             "gridcolor": "white",
             "linecolor": "white",
             "minorgridcolor": "white",
             "startlinecolor": "#2a3f5f"
            },
            "type": "carpet"
           }
          ],
          "choropleth": [
           {
            "colorbar": {
             "outlinewidth": 0,
             "ticks": ""
            },
            "type": "choropleth"
           }
          ],
          "contour": [
           {
            "colorbar": {
             "outlinewidth": 0,
             "ticks": ""
            },
            "colorscale": [
             [
              0,
              "#0d0887"
             ],
             [
              0.1111111111111111,
              "#46039f"
             ],
             [
              0.2222222222222222,
              "#7201a8"
             ],
             [
              0.3333333333333333,
              "#9c179e"
             ],
             [
              0.4444444444444444,
              "#bd3786"
             ],
             [
              0.5555555555555556,
              "#d8576b"
             ],
             [
              0.6666666666666666,
              "#ed7953"
             ],
             [
              0.7777777777777778,
              "#fb9f3a"
             ],
             [
              0.8888888888888888,
              "#fdca26"
             ],
             [
              1,
              "#f0f921"
             ]
            ],
            "type": "contour"
           }
          ],
          "contourcarpet": [
           {
            "colorbar": {
             "outlinewidth": 0,
             "ticks": ""
            },
            "type": "contourcarpet"
           }
          ],
          "heatmap": [
           {
            "colorbar": {
             "outlinewidth": 0,
             "ticks": ""
            },
            "colorscale": [
             [
              0,
              "#0d0887"
             ],
             [
              0.1111111111111111,
              "#46039f"
             ],
             [
              0.2222222222222222,
              "#7201a8"
             ],
             [
              0.3333333333333333,
              "#9c179e"
             ],
             [
              0.4444444444444444,
              "#bd3786"
             ],
             [
              0.5555555555555556,
              "#d8576b"
             ],
             [
              0.6666666666666666,
              "#ed7953"
             ],
             [
              0.7777777777777778,
              "#fb9f3a"
             ],
             [
              0.8888888888888888,
              "#fdca26"
             ],
             [
              1,
              "#f0f921"
             ]
            ],
            "type": "heatmap"
           }
          ],
          "heatmapgl": [
           {
            "colorbar": {
             "outlinewidth": 0,
             "ticks": ""
            },
            "colorscale": [
             [
              0,
              "#0d0887"
             ],
             [
              0.1111111111111111,
              "#46039f"
             ],
             [
              0.2222222222222222,
              "#7201a8"
             ],
             [
              0.3333333333333333,
              "#9c179e"
             ],
             [
              0.4444444444444444,
              "#bd3786"
             ],
             [
              0.5555555555555556,
              "#d8576b"
             ],
             [
              0.6666666666666666,
              "#ed7953"
             ],
             [
              0.7777777777777778,
              "#fb9f3a"
             ],
             [
              0.8888888888888888,
              "#fdca26"
             ],
             [
              1,
              "#f0f921"
             ]
            ],
            "type": "heatmapgl"
           }
          ],
          "histogram": [
           {
            "marker": {
             "pattern": {
              "fillmode": "overlay",
              "size": 10,
              "solidity": 0.2
             }
            },
            "type": "histogram"
           }
          ],
          "histogram2d": [
           {
            "colorbar": {
             "outlinewidth": 0,
             "ticks": ""
            },
            "colorscale": [
             [
              0,
              "#0d0887"
             ],
             [
              0.1111111111111111,
              "#46039f"
             ],
             [
              0.2222222222222222,
              "#7201a8"
             ],
             [
              0.3333333333333333,
              "#9c179e"
             ],
             [
              0.4444444444444444,
              "#bd3786"
             ],
             [
              0.5555555555555556,
              "#d8576b"
             ],
             [
              0.6666666666666666,
              "#ed7953"
             ],
             [
              0.7777777777777778,
              "#fb9f3a"
             ],
             [
              0.8888888888888888,
              "#fdca26"
             ],
             [
              1,
              "#f0f921"
             ]
            ],
            "type": "histogram2d"
           }
          ],
          "histogram2dcontour": [
           {
            "colorbar": {
             "outlinewidth": 0,
             "ticks": ""
            },
            "colorscale": [
             [
              0,
              "#0d0887"
             ],
             [
              0.1111111111111111,
              "#46039f"
             ],
             [
              0.2222222222222222,
              "#7201a8"
             ],
             [
              0.3333333333333333,
              "#9c179e"
             ],
             [
              0.4444444444444444,
              "#bd3786"
             ],
             [
              0.5555555555555556,
              "#d8576b"
             ],
             [
              0.6666666666666666,
              "#ed7953"
             ],
             [
              0.7777777777777778,
              "#fb9f3a"
             ],
             [
              0.8888888888888888,
              "#fdca26"
             ],
             [
              1,
              "#f0f921"
             ]
            ],
            "type": "histogram2dcontour"
           }
          ],
          "mesh3d": [
           {
            "colorbar": {
             "outlinewidth": 0,
             "ticks": ""
            },
            "type": "mesh3d"
           }
          ],
          "parcoords": [
           {
            "line": {
             "colorbar": {
              "outlinewidth": 0,
              "ticks": ""
             }
            },
            "type": "parcoords"
           }
          ],
          "pie": [
           {
            "automargin": true,
            "type": "pie"
           }
          ],
          "scatter": [
           {
            "fillpattern": {
             "fillmode": "overlay",
             "size": 10,
             "solidity": 0.2
            },
            "type": "scatter"
           }
          ],
          "scatter3d": [
           {
            "line": {
             "colorbar": {
              "outlinewidth": 0,
              "ticks": ""
             }
            },
            "marker": {
             "colorbar": {
              "outlinewidth": 0,
              "ticks": ""
             }
            },
            "type": "scatter3d"
           }
          ],
          "scattercarpet": [
           {
            "marker": {
             "colorbar": {
              "outlinewidth": 0,
              "ticks": ""
             }
            },
            "type": "scattercarpet"
           }
          ],
          "scattergeo": [
           {
            "marker": {
             "colorbar": {
              "outlinewidth": 0,
              "ticks": ""
             }
            },
            "type": "scattergeo"
           }
          ],
          "scattergl": [
           {
            "marker": {
             "colorbar": {
              "outlinewidth": 0,
              "ticks": ""
             }
            },
            "type": "scattergl"
           }
          ],
          "scattermapbox": [
           {
            "marker": {
             "colorbar": {
              "outlinewidth": 0,
              "ticks": ""
             }
            },
            "type": "scattermapbox"
           }
          ],
          "scatterpolar": [
           {
            "marker": {
             "colorbar": {
              "outlinewidth": 0,
              "ticks": ""
             }
            },
            "type": "scatterpolar"
           }
          ],
          "scatterpolargl": [
           {
            "marker": {
             "colorbar": {
              "outlinewidth": 0,
              "ticks": ""
             }
            },
            "type": "scatterpolargl"
           }
          ],
          "scatterternary": [
           {
            "marker": {
             "colorbar": {
              "outlinewidth": 0,
              "ticks": ""
             }
            },
            "type": "scatterternary"
           }
          ],
          "surface": [
           {
            "colorbar": {
             "outlinewidth": 0,
             "ticks": ""
            },
            "colorscale": [
             [
              0,
              "#0d0887"
             ],
             [
              0.1111111111111111,
              "#46039f"
             ],
             [
              0.2222222222222222,
              "#7201a8"
             ],
             [
              0.3333333333333333,
              "#9c179e"
             ],
             [
              0.4444444444444444,
              "#bd3786"
             ],
             [
              0.5555555555555556,
              "#d8576b"
             ],
             [
              0.6666666666666666,
              "#ed7953"
             ],
             [
              0.7777777777777778,
              "#fb9f3a"
             ],
             [
              0.8888888888888888,
              "#fdca26"
             ],
             [
              1,
              "#f0f921"
             ]
            ],
            "type": "surface"
           }
          ],
          "table": [
           {
            "cells": {
             "fill": {
              "color": "#EBF0F8"
             },
             "line": {
              "color": "white"
             }
            },
            "header": {
             "fill": {
              "color": "#C8D4E3"
             },
             "line": {
              "color": "white"
             }
            },
            "type": "table"
           }
          ]
         },
         "layout": {
          "annotationdefaults": {
           "arrowcolor": "#2a3f5f",
           "arrowhead": 0,
           "arrowwidth": 1
          },
          "autotypenumbers": "strict",
          "coloraxis": {
           "colorbar": {
            "outlinewidth": 0,
            "ticks": ""
           }
          },
          "colorscale": {
           "diverging": [
            [
             0,
             "#8e0152"
            ],
            [
             0.1,
             "#c51b7d"
            ],
            [
             0.2,
             "#de77ae"
            ],
            [
             0.3,
             "#f1b6da"
            ],
            [
             0.4,
             "#fde0ef"
            ],
            [
             0.5,
             "#f7f7f7"
            ],
            [
             0.6,
             "#e6f5d0"
            ],
            [
             0.7,
             "#b8e186"
            ],
            [
             0.8,
             "#7fbc41"
            ],
            [
             0.9,
             "#4d9221"
            ],
            [
             1,
             "#276419"
            ]
           ],
           "sequential": [
            [
             0,
             "#0d0887"
            ],
            [
             0.1111111111111111,
             "#46039f"
            ],
            [
             0.2222222222222222,
             "#7201a8"
            ],
            [
             0.3333333333333333,
             "#9c179e"
            ],
            [
             0.4444444444444444,
             "#bd3786"
            ],
            [
             0.5555555555555556,
             "#d8576b"
            ],
            [
             0.6666666666666666,
             "#ed7953"
            ],
            [
             0.7777777777777778,
             "#fb9f3a"
            ],
            [
             0.8888888888888888,
             "#fdca26"
            ],
            [
             1,
             "#f0f921"
            ]
           ],
           "sequentialminus": [
            [
             0,
             "#0d0887"
            ],
            [
             0.1111111111111111,
             "#46039f"
            ],
            [
             0.2222222222222222,
             "#7201a8"
            ],
            [
             0.3333333333333333,
             "#9c179e"
            ],
            [
             0.4444444444444444,
             "#bd3786"
            ],
            [
             0.5555555555555556,
             "#d8576b"
            ],
            [
             0.6666666666666666,
             "#ed7953"
            ],
            [
             0.7777777777777778,
             "#fb9f3a"
            ],
            [
             0.8888888888888888,
             "#fdca26"
            ],
            [
             1,
             "#f0f921"
            ]
           ]
          },
          "colorway": [
           "#636efa",
           "#EF553B",
           "#00cc96",
           "#ab63fa",
           "#FFA15A",
           "#19d3f3",
           "#FF6692",
           "#B6E880",
           "#FF97FF",
           "#FECB52"
          ],
          "font": {
           "color": "#2a3f5f"
          },
          "geo": {
           "bgcolor": "white",
           "lakecolor": "white",
           "landcolor": "#E5ECF6",
           "showlakes": true,
           "showland": true,
           "subunitcolor": "white"
          },
          "hoverlabel": {
           "align": "left"
          },
          "hovermode": "closest",
          "mapbox": {
           "style": "light"
          },
          "paper_bgcolor": "white",
          "plot_bgcolor": "#E5ECF6",
          "polar": {
           "angularaxis": {
            "gridcolor": "white",
            "linecolor": "white",
            "ticks": ""
           },
           "bgcolor": "#E5ECF6",
           "radialaxis": {
            "gridcolor": "white",
            "linecolor": "white",
            "ticks": ""
           }
          },
          "scene": {
           "xaxis": {
            "backgroundcolor": "#E5ECF6",
            "gridcolor": "white",
            "gridwidth": 2,
            "linecolor": "white",
            "showbackground": true,
            "ticks": "",
            "zerolinecolor": "white"
           },
           "yaxis": {
            "backgroundcolor": "#E5ECF6",
            "gridcolor": "white",
            "gridwidth": 2,
            "linecolor": "white",
            "showbackground": true,
            "ticks": "",
            "zerolinecolor": "white"
           },
           "zaxis": {
            "backgroundcolor": "#E5ECF6",
            "gridcolor": "white",
            "gridwidth": 2,
            "linecolor": "white",
            "showbackground": true,
            "ticks": "",
            "zerolinecolor": "white"
           }
          },
          "shapedefaults": {
           "line": {
            "color": "#2a3f5f"
           }
          },
          "ternary": {
           "aaxis": {
            "gridcolor": "white",
            "linecolor": "white",
            "ticks": ""
           },
           "baxis": {
            "gridcolor": "white",
            "linecolor": "white",
            "ticks": ""
           },
           "bgcolor": "#E5ECF6",
           "caxis": {
            "gridcolor": "white",
            "linecolor": "white",
            "ticks": ""
           }
          },
          "title": {
           "x": 0.05
          },
          "xaxis": {
           "automargin": true,
           "gridcolor": "white",
           "linecolor": "white",
           "ticks": "",
           "title": {
            "standoff": 15
           },
           "zerolinecolor": "white",
           "zerolinewidth": 2
          },
          "yaxis": {
           "automargin": true,
           "gridcolor": "white",
           "linecolor": "white",
           "ticks": "",
           "title": {
            "standoff": 15
           },
           "zerolinecolor": "white",
           "zerolinewidth": 2
          }
         }
        },
        "title": {
         "text": "두 그룹의 매출 분포"
        },
        "width": 800,
        "xaxis": {
         "title": {
          "text": "제품설명길이"
         }
        },
        "yaxis": {
         "title": {
          "text": "매출"
         }
        }
       }
      }
     },
     "metadata": {},
     "output_type": "display_data"
    }
   ],
   "source": [
    "fig = go.Figure()\n",
    "\n",
    "# Scatter Trace 추가\n",
    "fig.add_trace(go.Box(y=group1_sales,name='제품설명길이<=603', marker_color='#4A55A2'))\n",
    "fig.add_trace(go.Box(y=group2_sales,name='제품설명길이>603', marker_color='#A0BFE0'))\n",
    "fig.update_layout(\n",
    "    xaxis_title='제품설명길이',\n",
    "    yaxis_title='매출',\n",
    "    title='두 그룹의 매출 분포',\n",
    "    width=800,\n",
    ")\n",
    "fig.show()"
   ]
  }
 ],
 "metadata": {
  "kernelspec": {
   "display_name": "DEAPROJECT",
   "language": "python",
   "name": "python3"
  },
  "language_info": {
   "codemirror_mode": {
    "name": "ipython",
    "version": 3
   },
   "file_extension": ".py",
   "mimetype": "text/x-python",
   "name": "python",
   "nbconvert_exporter": "python",
   "pygments_lexer": "ipython3",
   "version": "3.8.17"
  },
  "orig_nbformat": 4
 },
 "nbformat": 4,
 "nbformat_minor": 2
}
