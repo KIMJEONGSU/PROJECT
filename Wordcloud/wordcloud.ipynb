{
 "cells": [
  {
   "cell_type": "markdown",
   "metadata": {},
   "source": [
    "### 분석준비"
   ]
  },
  {
   "cell_type": "code",
   "execution_count": 2,
   "metadata": {},
   "outputs": [],
   "source": [
    "# 필요 라이브러리\n",
    "\n",
    "# 분석을 위한 라이브러리\n",
    "import numpy as np\n",
    "import pandas as pd\n",
    "\n",
    "# 시각화를 위한 라이브러리\n",
    "import matplotlib.pyplot as plt\n",
    "import seaborn as sns\n",
    "\n",
    "from datetime import datetime\n",
    "import os\n",
    "\n",
    "# 에러메세지 안나오게\n",
    "import warnings\n",
    "warnings.filterwarnings('ignore')\n",
    "\n",
    "# pd.options.display.float_format = '{:.2f}'.format\n",
    "pd.set_option('display.max_columns',None)\n",
    "# pd.set_option('display.max_rows',None)\n",
    "\n",
    "#워드클라우드\n",
    "from wordcloud import WordCloud \n",
    "from PIL import *\n",
    "\n",
    "from plotly.subplots import make_subplots\n",
    "import plotly.graph_objects as go\n",
    "import plotly.express as px\n",
    "\n",
    "from nltk.tokenize.regexp import RegexpTokenizer\n",
    "from collections import Counter\n",
    "from wordcloud import WordCloud\n",
    "import nltk\n",
    "from nltk.corpus import stopwords\n",
    "from nltk.tokenize import word_tokenize\n",
    "import re"
   ]
  },
  {
   "cell_type": "code",
   "execution_count": 3,
   "metadata": {},
   "outputs": [],
   "source": [
    "# 그래프 글씨 한글\n",
    "import matplotlib\n",
    "\n",
    "matplotlib.rcParams['font.family'] ='Malgun Gothic'\n",
    "\n",
    "matplotlib.rcParams['axes.unicode_minus'] =False"
   ]
  },
  {
   "cell_type": "code",
   "execution_count": 4,
   "metadata": {},
   "outputs": [],
   "source": [
    "# 디비 연결\n",
    "import psycopg2\n",
    "import json\n",
    "\n",
    "def rds_python_conn():\n",
    "    # rds와 python 연동을 위한 정보 입력\n",
    "    with open('postgres.info.json','r') as json_file:\n",
    "        db_info = json.load(json_file)\n",
    "\n",
    "    host = db_info.get('host')\n",
    "    dbname = 'postgres' \n",
    "    user = 'postgres' \n",
    "    password = db_info.get('password')\n",
    "    port = 5432\n",
    "\n",
    "    connection = psycopg2.connect(host=host,\n",
    "                                  dbname=dbname ,\n",
    "                                  user=user ,\n",
    "                                  password=password ,\n",
    "                                  port=port)\n",
    "    return connection"
   ]
  },
  {
   "cell_type": "code",
   "execution_count": 5,
   "metadata": {},
   "outputs": [],
   "source": [
    "# reviews 테이블에서 order_id, review_score, review_comment_message만 추출\n",
    "SQL = \"\"\"\n",
    "SELECT order_id, review_score, review_comment_message\n",
    "FROM reviews\n",
    "\"\"\"\n",
    "reviews = pd.read_sql(SQL, rds_python_conn())\n",
    "\n",
    "\n",
    "# order 테이블에서 order_id,customer_id,order_purchase_timestamp만 추출\n",
    "SQL = \"\"\"\n",
    "SELECT order_id,customer_id,order_purchase_timestamp\n",
    "FROM \"order\"\n",
    "where order_status in  ('delivered','shipped','invoiced','processing') and order_purchase_timestamp<='2018-09-01'\n",
    "\"\"\"\n",
    "order = pd.read_sql(SQL, rds_python_conn())"
   ]
  },
  {
   "cell_type": "code",
   "execution_count": 6,
   "metadata": {},
   "outputs": [
    {
     "data": {
      "text/html": [
       "<div>\n",
       "<style scoped>\n",
       "    .dataframe tbody tr th:only-of-type {\n",
       "        vertical-align: middle;\n",
       "    }\n",
       "\n",
       "    .dataframe tbody tr th {\n",
       "        vertical-align: top;\n",
       "    }\n",
       "\n",
       "    .dataframe thead th {\n",
       "        text-align: right;\n",
       "    }\n",
       "</style>\n",
       "<table border=\"1\" class=\"dataframe\">\n",
       "  <thead>\n",
       "    <tr style=\"text-align: right;\">\n",
       "      <th></th>\n",
       "      <th>order_id</th>\n",
       "      <th>customer_id</th>\n",
       "      <th>order_purchase_timestamp</th>\n",
       "      <th>review_score</th>\n",
       "      <th>review_comment_message</th>\n",
       "    </tr>\n",
       "  </thead>\n",
       "  <tbody>\n",
       "    <tr>\n",
       "      <th>0</th>\n",
       "      <td>13974</td>\n",
       "      <td>65773</td>\n",
       "      <td>2017-10-02 10:56:33</td>\n",
       "      <td>4.0</td>\n",
       "      <td>Não testei o produto ainda, mas ele veio corre...</td>\n",
       "    </tr>\n",
       "    <tr>\n",
       "      <th>1</th>\n",
       "      <td>83165</td>\n",
       "      <td>13301</td>\n",
       "      <td>2018-07-24 20:41:37</td>\n",
       "      <td>4.0</td>\n",
       "      <td>Muito bom o produto.</td>\n",
       "    </tr>\n",
       "    <tr>\n",
       "      <th>2</th>\n",
       "      <td>66104</td>\n",
       "      <td>44559</td>\n",
       "      <td>2018-08-08 08:38:49</td>\n",
       "      <td>5.0</td>\n",
       "      <td>None</td>\n",
       "    </tr>\n",
       "    <tr>\n",
       "      <th>3</th>\n",
       "      <td>64037</td>\n",
       "      <td>69256</td>\n",
       "      <td>2017-11-18 19:28:06</td>\n",
       "      <td>5.0</td>\n",
       "      <td>O produto foi exatamente o que eu esperava e e...</td>\n",
       "    </tr>\n",
       "    <tr>\n",
       "      <th>4</th>\n",
       "      <td>14183</td>\n",
       "      <td>35294</td>\n",
       "      <td>2018-02-13 21:18:39</td>\n",
       "      <td>5.0</td>\n",
       "      <td>None</td>\n",
       "    </tr>\n",
       "    <tr>\n",
       "      <th>...</th>\n",
       "      <td>...</td>\n",
       "      <td>...</td>\n",
       "      <td>...</td>\n",
       "      <td>...</td>\n",
       "      <td>...</td>\n",
       "    </tr>\n",
       "    <tr>\n",
       "      <th>98739</th>\n",
       "      <td>63791</td>\n",
       "      <td>92532</td>\n",
       "      <td>2017-03-09 09:54:05</td>\n",
       "      <td>5.0</td>\n",
       "      <td>None</td>\n",
       "    </tr>\n",
       "    <tr>\n",
       "      <th>98740</th>\n",
       "      <td>85704</td>\n",
       "      <td>30689</td>\n",
       "      <td>2018-02-06 12:58:58</td>\n",
       "      <td>4.0</td>\n",
       "      <td>So uma peça que veio rachado mas tudo bem rs</td>\n",
       "    </tr>\n",
       "    <tr>\n",
       "      <th>98741</th>\n",
       "      <td>19817</td>\n",
       "      <td>23177</td>\n",
       "      <td>2017-08-27 14:46:43</td>\n",
       "      <td>5.0</td>\n",
       "      <td>Foi entregue antes do prazo.</td>\n",
       "    </tr>\n",
       "    <tr>\n",
       "      <th>98742</th>\n",
       "      <td>6896</td>\n",
       "      <td>84231</td>\n",
       "      <td>2018-01-08 21:28:27</td>\n",
       "      <td>2.0</td>\n",
       "      <td>Foi entregue somente 1. Quero saber do outro p...</td>\n",
       "    </tr>\n",
       "    <tr>\n",
       "      <th>98743</th>\n",
       "      <td>75574</td>\n",
       "      <td>41987</td>\n",
       "      <td>2018-03-08 20:57:30</td>\n",
       "      <td>5.0</td>\n",
       "      <td>None</td>\n",
       "    </tr>\n",
       "  </tbody>\n",
       "</table>\n",
       "<p>98744 rows × 5 columns</p>\n",
       "</div>"
      ],
      "text/plain": [
       "       order_id  customer_id order_purchase_timestamp  review_score  \\\n",
       "0         13974        65773      2017-10-02 10:56:33           4.0   \n",
       "1         83165        13301      2018-07-24 20:41:37           4.0   \n",
       "2         66104        44559      2018-08-08 08:38:49           5.0   \n",
       "3         64037        69256      2017-11-18 19:28:06           5.0   \n",
       "4         14183        35294      2018-02-13 21:18:39           5.0   \n",
       "...         ...          ...                      ...           ...   \n",
       "98739     63791        92532      2017-03-09 09:54:05           5.0   \n",
       "98740     85704        30689      2018-02-06 12:58:58           4.0   \n",
       "98741     19817        23177      2017-08-27 14:46:43           5.0   \n",
       "98742      6896        84231      2018-01-08 21:28:27           2.0   \n",
       "98743     75574        41987      2018-03-08 20:57:30           5.0   \n",
       "\n",
       "                                  review_comment_message  \n",
       "0      Não testei o produto ainda, mas ele veio corre...  \n",
       "1                                   Muito bom o produto.  \n",
       "2                                                   None  \n",
       "3      O produto foi exatamente o que eu esperava e e...  \n",
       "4                                                   None  \n",
       "...                                                  ...  \n",
       "98739                                               None  \n",
       "98740       So uma peça que veio rachado mas tudo bem rs  \n",
       "98741                       Foi entregue antes do prazo.  \n",
       "98742  Foi entregue somente 1. Quero saber do outro p...  \n",
       "98743                                               None  \n",
       "\n",
       "[98744 rows x 5 columns]"
      ]
     },
     "execution_count": 6,
     "metadata": {},
     "output_type": "execute_result"
    }
   ],
   "source": [
    "# reviews와 order merge\n",
    "revi = order.merge(reviews,on='order_id',how='left')\n",
    "revi"
   ]
  },
  {
   "cell_type": "code",
   "execution_count": 8,
   "metadata": {},
   "outputs": [
    {
     "data": {
      "text/plain": [
       "review_score\n",
       "5.0    0.634594\n",
       "4.0    0.226983\n",
       "3.0    0.079158\n",
       "1.0    0.042258\n",
       "2.0    0.017007\n",
       "Name: proportion, dtype: float64"
      ]
     },
     "execution_count": 8,
     "metadata": {},
     "output_type": "execute_result"
    }
   ],
   "source": [
    "revi[revi['review_comment_message'].isnull()]['review_score'].value_counts(normalize=True)"
   ]
  },
  {
   "cell_type": "code",
   "execution_count": 9,
   "metadata": {},
   "outputs": [
    {
     "data": {
      "text/plain": [
       "review_score\n",
       "5.0    58.382647\n",
       "4.0    19.482308\n",
       "1.0    10.748684\n",
       "3.0     8.260213\n",
       "2.0     3.126148\n",
       "Name: proportion, dtype: float64"
      ]
     },
     "execution_count": 9,
     "metadata": {},
     "output_type": "execute_result"
    }
   ],
   "source": [
    "(revi.review_score.value_counts(normalize=True)*100)"
   ]
  },
  {
   "cell_type": "code",
   "execution_count": 10,
   "metadata": {},
   "outputs": [
    {
     "data": {
      "text/html": [
       "<div>\n",
       "<style scoped>\n",
       "    .dataframe tbody tr th:only-of-type {\n",
       "        vertical-align: middle;\n",
       "    }\n",
       "\n",
       "    .dataframe tbody tr th {\n",
       "        vertical-align: top;\n",
       "    }\n",
       "\n",
       "    .dataframe thead th {\n",
       "        text-align: right;\n",
       "    }\n",
       "</style>\n",
       "<table border=\"1\" class=\"dataframe\">\n",
       "  <thead>\n",
       "    <tr style=\"text-align: right;\">\n",
       "      <th></th>\n",
       "      <th>review_score</th>\n",
       "      <th>proportion</th>\n",
       "    </tr>\n",
       "  </thead>\n",
       "  <tbody>\n",
       "    <tr>\n",
       "      <th>0</th>\n",
       "      <td>5.0</td>\n",
       "      <td>58.382647</td>\n",
       "    </tr>\n",
       "    <tr>\n",
       "      <th>1</th>\n",
       "      <td>4.0</td>\n",
       "      <td>19.482308</td>\n",
       "    </tr>\n",
       "    <tr>\n",
       "      <th>2</th>\n",
       "      <td>1.0</td>\n",
       "      <td>10.748684</td>\n",
       "    </tr>\n",
       "    <tr>\n",
       "      <th>3</th>\n",
       "      <td>3.0</td>\n",
       "      <td>8.260213</td>\n",
       "    </tr>\n",
       "    <tr>\n",
       "      <th>4</th>\n",
       "      <td>2.0</td>\n",
       "      <td>3.126148</td>\n",
       "    </tr>\n",
       "  </tbody>\n",
       "</table>\n",
       "</div>"
      ],
      "text/plain": [
       "   review_score  proportion\n",
       "0           5.0   58.382647\n",
       "1           4.0   19.482308\n",
       "2           1.0   10.748684\n",
       "3           3.0    8.260213\n",
       "4           2.0    3.126148"
      ]
     },
     "execution_count": 10,
     "metadata": {},
     "output_type": "execute_result"
    }
   ],
   "source": [
    "(revi.review_score.value_counts(normalize=True)*100).sort_values(ascending=False).reset_index()"
   ]
  },
  {
   "cell_type": "markdown",
   "metadata": {},
   "source": [
    "### 별점 비율"
   ]
  },
  {
   "cell_type": "code",
   "execution_count": 11,
   "metadata": {},
   "outputs": [
    {
     "data": {
      "application/vnd.plotly.v1+json": {
       "config": {
        "plotlyServerURL": "https://plotly.com"
       },
       "data": [
        {
         "alignmentgroup": "True",
         "hovertemplate": "colors=#4A55A2<br>review_score=%{x}<br>proportion=%{y}<extra></extra>",
         "legendgroup": "#4A55A2",
         "marker": {
          "color": "#19d3f3",
          "pattern": {
           "shape": ""
          }
         },
         "name": "#4A55A2",
         "offsetgroup": "#4A55A2",
         "orientation": "v",
         "showlegend": true,
         "textposition": "auto",
         "type": "bar",
         "x": [
          5
         ],
         "xaxis": "x",
         "y": [
          58.382647022813536
         ],
         "yaxis": "y"
        },
        {
         "alignmentgroup": "True",
         "hovertemplate": "colors=#6A75BB<br>review_score=%{x}<br>proportion=%{y}<extra></extra>",
         "legendgroup": "#6A75BB",
         "marker": {
          "color": "#FF6692",
          "pattern": {
           "shape": ""
          }
         },
         "name": "#6A75BB",
         "offsetgroup": "#6A75BB",
         "orientation": "v",
         "showlegend": true,
         "textposition": "auto",
         "type": "bar",
         "x": [
          4
         ],
         "xaxis": "x",
         "y": [
          19.482308288780967
         ],
         "yaxis": "y"
        },
        {
         "alignmentgroup": "True",
         "hovertemplate": "colors=#A0BFE0<br>review_score=%{x}<br>proportion=%{y}<extra></extra>",
         "legendgroup": "#A0BFE0",
         "marker": {
          "color": "#B6E880",
          "pattern": {
           "shape": ""
          }
         },
         "name": "#A0BFE0",
         "offsetgroup": "#A0BFE0",
         "orientation": "v",
         "showlegend": true,
         "textposition": "auto",
         "type": "bar",
         "x": [
          3
         ],
         "xaxis": "x",
         "y": [
          8.260213035138554
         ],
         "yaxis": "y"
        },
        {
         "alignmentgroup": "True",
         "hovertemplate": "colors=#C5DFF8<br>review_score=%{x}<br>proportion=%{y}<extra></extra>",
         "legendgroup": "#C5DFF8",
         "marker": {
          "color": "#FF97FF",
          "pattern": {
           "shape": ""
          }
         },
         "name": "#C5DFF8",
         "offsetgroup": "#C5DFF8",
         "orientation": "v",
         "showlegend": true,
         "textposition": "auto",
         "type": "bar",
         "x": [
          2
         ],
         "xaxis": "x",
         "y": [
          3.126147818634453
         ],
         "yaxis": "y"
        },
        {
         "alignmentgroup": "True",
         "hovertemplate": "colors=#7895CB<br>review_score=%{x}<br>proportion=%{y}<extra></extra>",
         "legendgroup": "#7895CB",
         "marker": {
          "color": "#FECB52",
          "pattern": {
           "shape": ""
          }
         },
         "name": "#7895CB",
         "offsetgroup": "#7895CB",
         "orientation": "v",
         "showlegend": true,
         "textposition": "auto",
         "type": "bar",
         "x": [
          1
         ],
         "xaxis": "x",
         "y": [
          10.748683834632494
         ],
         "yaxis": "y"
        }
       ],
       "layout": {
        "barmode": "relative",
        "legend": {
         "title": {
          "text": "colors"
         },
         "tracegroupgap": 0
        },
        "margin": {
         "t": 60
        },
        "template": {
         "data": {
          "bar": [
           {
            "error_x": {
             "color": "#2a3f5f"
            },
            "error_y": {
             "color": "#2a3f5f"
            },
            "marker": {
             "line": {
              "color": "#E5ECF6",
              "width": 0.5
             },
             "pattern": {
              "fillmode": "overlay",
              "size": 10,
              "solidity": 0.2
             }
            },
            "type": "bar"
           }
          ],
          "barpolar": [
           {
            "marker": {
             "line": {
              "color": "#E5ECF6",
              "width": 0.5
             },
             "pattern": {
              "fillmode": "overlay",
              "size": 10,
              "solidity": 0.2
             }
            },
            "type": "barpolar"
           }
          ],
          "carpet": [
           {
            "aaxis": {
             "endlinecolor": "#2a3f5f",
             "gridcolor": "white",
             "linecolor": "white",
             "minorgridcolor": "white",
             "startlinecolor": "#2a3f5f"
            },
            "baxis": {
             "endlinecolor": "#2a3f5f",
             "gridcolor": "white",
             "linecolor": "white",
             "minorgridcolor": "white",
             "startlinecolor": "#2a3f5f"
            },
            "type": "carpet"
           }
          ],
          "choropleth": [
           {
            "colorbar": {
             "outlinewidth": 0,
             "ticks": ""
            },
            "type": "choropleth"
           }
          ],
          "contour": [
           {
            "colorbar": {
             "outlinewidth": 0,
             "ticks": ""
            },
            "colorscale": [
             [
              0,
              "#0d0887"
             ],
             [
              0.1111111111111111,
              "#46039f"
             ],
             [
              0.2222222222222222,
              "#7201a8"
             ],
             [
              0.3333333333333333,
              "#9c179e"
             ],
             [
              0.4444444444444444,
              "#bd3786"
             ],
             [
              0.5555555555555556,
              "#d8576b"
             ],
             [
              0.6666666666666666,
              "#ed7953"
             ],
             [
              0.7777777777777778,
              "#fb9f3a"
             ],
             [
              0.8888888888888888,
              "#fdca26"
             ],
             [
              1,
              "#f0f921"
             ]
            ],
            "type": "contour"
           }
          ],
          "contourcarpet": [
           {
            "colorbar": {
             "outlinewidth": 0,
             "ticks": ""
            },
            "type": "contourcarpet"
           }
          ],
          "heatmap": [
           {
            "colorbar": {
             "outlinewidth": 0,
             "ticks": ""
            },
            "colorscale": [
             [
              0,
              "#0d0887"
             ],
             [
              0.1111111111111111,
              "#46039f"
             ],
             [
              0.2222222222222222,
              "#7201a8"
             ],
             [
              0.3333333333333333,
              "#9c179e"
             ],
             [
              0.4444444444444444,
              "#bd3786"
             ],
             [
              0.5555555555555556,
              "#d8576b"
             ],
             [
              0.6666666666666666,
              "#ed7953"
             ],
             [
              0.7777777777777778,
              "#fb9f3a"
             ],
             [
              0.8888888888888888,
              "#fdca26"
             ],
             [
              1,
              "#f0f921"
             ]
            ],
            "type": "heatmap"
           }
          ],
          "heatmapgl": [
           {
            "colorbar": {
             "outlinewidth": 0,
             "ticks": ""
            },
            "colorscale": [
             [
              0,
              "#0d0887"
             ],
             [
              0.1111111111111111,
              "#46039f"
             ],
             [
              0.2222222222222222,
              "#7201a8"
             ],
             [
              0.3333333333333333,
              "#9c179e"
             ],
             [
              0.4444444444444444,
              "#bd3786"
             ],
             [
              0.5555555555555556,
              "#d8576b"
             ],
             [
              0.6666666666666666,
              "#ed7953"
             ],
             [
              0.7777777777777778,
              "#fb9f3a"
             ],
             [
              0.8888888888888888,
              "#fdca26"
             ],
             [
              1,
              "#f0f921"
             ]
            ],
            "type": "heatmapgl"
           }
          ],
          "histogram": [
           {
            "marker": {
             "pattern": {
              "fillmode": "overlay",
              "size": 10,
              "solidity": 0.2
             }
            },
            "type": "histogram"
           }
          ],
          "histogram2d": [
           {
            "colorbar": {
             "outlinewidth": 0,
             "ticks": ""
            },
            "colorscale": [
             [
              0,
              "#0d0887"
             ],
             [
              0.1111111111111111,
              "#46039f"
             ],
             [
              0.2222222222222222,
              "#7201a8"
             ],
             [
              0.3333333333333333,
              "#9c179e"
             ],
             [
              0.4444444444444444,
              "#bd3786"
             ],
             [
              0.5555555555555556,
              "#d8576b"
             ],
             [
              0.6666666666666666,
              "#ed7953"
             ],
             [
              0.7777777777777778,
              "#fb9f3a"
             ],
             [
              0.8888888888888888,
              "#fdca26"
             ],
             [
              1,
              "#f0f921"
             ]
            ],
            "type": "histogram2d"
           }
          ],
          "histogram2dcontour": [
           {
            "colorbar": {
             "outlinewidth": 0,
             "ticks": ""
            },
            "colorscale": [
             [
              0,
              "#0d0887"
             ],
             [
              0.1111111111111111,
              "#46039f"
             ],
             [
              0.2222222222222222,
              "#7201a8"
             ],
             [
              0.3333333333333333,
              "#9c179e"
             ],
             [
              0.4444444444444444,
              "#bd3786"
             ],
             [
              0.5555555555555556,
              "#d8576b"
             ],
             [
              0.6666666666666666,
              "#ed7953"
             ],
             [
              0.7777777777777778,
              "#fb9f3a"
             ],
             [
              0.8888888888888888,
              "#fdca26"
             ],
             [
              1,
              "#f0f921"
             ]
            ],
            "type": "histogram2dcontour"
           }
          ],
          "mesh3d": [
           {
            "colorbar": {
             "outlinewidth": 0,
             "ticks": ""
            },
            "type": "mesh3d"
           }
          ],
          "parcoords": [
           {
            "line": {
             "colorbar": {
              "outlinewidth": 0,
              "ticks": ""
             }
            },
            "type": "parcoords"
           }
          ],
          "pie": [
           {
            "automargin": true,
            "type": "pie"
           }
          ],
          "scatter": [
           {
            "fillpattern": {
             "fillmode": "overlay",
             "size": 10,
             "solidity": 0.2
            },
            "type": "scatter"
           }
          ],
          "scatter3d": [
           {
            "line": {
             "colorbar": {
              "outlinewidth": 0,
              "ticks": ""
             }
            },
            "marker": {
             "colorbar": {
              "outlinewidth": 0,
              "ticks": ""
             }
            },
            "type": "scatter3d"
           }
          ],
          "scattercarpet": [
           {
            "marker": {
             "colorbar": {
              "outlinewidth": 0,
              "ticks": ""
             }
            },
            "type": "scattercarpet"
           }
          ],
          "scattergeo": [
           {
            "marker": {
             "colorbar": {
              "outlinewidth": 0,
              "ticks": ""
             }
            },
            "type": "scattergeo"
           }
          ],
          "scattergl": [
           {
            "marker": {
             "colorbar": {
              "outlinewidth": 0,
              "ticks": ""
             }
            },
            "type": "scattergl"
           }
          ],
          "scattermapbox": [
           {
            "marker": {
             "colorbar": {
              "outlinewidth": 0,
              "ticks": ""
             }
            },
            "type": "scattermapbox"
           }
          ],
          "scatterpolar": [
           {
            "marker": {
             "colorbar": {
              "outlinewidth": 0,
              "ticks": ""
             }
            },
            "type": "scatterpolar"
           }
          ],
          "scatterpolargl": [
           {
            "marker": {
             "colorbar": {
              "outlinewidth": 0,
              "ticks": ""
             }
            },
            "type": "scatterpolargl"
           }
          ],
          "scatterternary": [
           {
            "marker": {
             "colorbar": {
              "outlinewidth": 0,
              "ticks": ""
             }
            },
            "type": "scatterternary"
           }
          ],
          "surface": [
           {
            "colorbar": {
             "outlinewidth": 0,
             "ticks": ""
            },
            "colorscale": [
             [
              0,
              "#0d0887"
             ],
             [
              0.1111111111111111,
              "#46039f"
             ],
             [
              0.2222222222222222,
              "#7201a8"
             ],
             [
              0.3333333333333333,
              "#9c179e"
             ],
             [
              0.4444444444444444,
              "#bd3786"
             ],
             [
              0.5555555555555556,
              "#d8576b"
             ],
             [
              0.6666666666666666,
              "#ed7953"
             ],
             [
              0.7777777777777778,
              "#fb9f3a"
             ],
             [
              0.8888888888888888,
              "#fdca26"
             ],
             [
              1,
              "#f0f921"
             ]
            ],
            "type": "surface"
           }
          ],
          "table": [
           {
            "cells": {
             "fill": {
              "color": "#EBF0F8"
             },
             "line": {
              "color": "white"
             }
            },
            "header": {
             "fill": {
              "color": "#C8D4E3"
             },
             "line": {
              "color": "white"
             }
            },
            "type": "table"
           }
          ]
         },
         "layout": {
          "annotationdefaults": {
           "arrowcolor": "#2a3f5f",
           "arrowhead": 0,
           "arrowwidth": 1
          },
          "autotypenumbers": "strict",
          "coloraxis": {
           "colorbar": {
            "outlinewidth": 0,
            "ticks": ""
           }
          },
          "colorscale": {
           "diverging": [
            [
             0,
             "#8e0152"
            ],
            [
             0.1,
             "#c51b7d"
            ],
            [
             0.2,
             "#de77ae"
            ],
            [
             0.3,
             "#f1b6da"
            ],
            [
             0.4,
             "#fde0ef"
            ],
            [
             0.5,
             "#f7f7f7"
            ],
            [
             0.6,
             "#e6f5d0"
            ],
            [
             0.7,
             "#b8e186"
            ],
            [
             0.8,
             "#7fbc41"
            ],
            [
             0.9,
             "#4d9221"
            ],
            [
             1,
             "#276419"
            ]
           ],
           "sequential": [
            [
             0,
             "#0d0887"
            ],
            [
             0.1111111111111111,
             "#46039f"
            ],
            [
             0.2222222222222222,
             "#7201a8"
            ],
            [
             0.3333333333333333,
             "#9c179e"
            ],
            [
             0.4444444444444444,
             "#bd3786"
            ],
            [
             0.5555555555555556,
             "#d8576b"
            ],
            [
             0.6666666666666666,
             "#ed7953"
            ],
            [
             0.7777777777777778,
             "#fb9f3a"
            ],
            [
             0.8888888888888888,
             "#fdca26"
            ],
            [
             1,
             "#f0f921"
            ]
           ],
           "sequentialminus": [
            [
             0,
             "#0d0887"
            ],
            [
             0.1111111111111111,
             "#46039f"
            ],
            [
             0.2222222222222222,
             "#7201a8"
            ],
            [
             0.3333333333333333,
             "#9c179e"
            ],
            [
             0.4444444444444444,
             "#bd3786"
            ],
            [
             0.5555555555555556,
             "#d8576b"
            ],
            [
             0.6666666666666666,
             "#ed7953"
            ],
            [
             0.7777777777777778,
             "#fb9f3a"
            ],
            [
             0.8888888888888888,
             "#fdca26"
            ],
            [
             1,
             "#f0f921"
            ]
           ]
          },
          "colorway": [
           "#636efa",
           "#EF553B",
           "#00cc96",
           "#ab63fa",
           "#FFA15A",
           "#19d3f3",
           "#FF6692",
           "#B6E880",
           "#FF97FF",
           "#FECB52"
          ],
          "font": {
           "color": "#2a3f5f"
          },
          "geo": {
           "bgcolor": "white",
           "lakecolor": "white",
           "landcolor": "#E5ECF6",
           "showlakes": true,
           "showland": true,
           "subunitcolor": "white"
          },
          "hoverlabel": {
           "align": "left"
          },
          "hovermode": "closest",
          "mapbox": {
           "style": "light"
          },
          "paper_bgcolor": "white",
          "plot_bgcolor": "#E5ECF6",
          "polar": {
           "angularaxis": {
            "gridcolor": "white",
            "linecolor": "white",
            "ticks": ""
           },
           "bgcolor": "#E5ECF6",
           "radialaxis": {
            "gridcolor": "white",
            "linecolor": "white",
            "ticks": ""
           }
          },
          "scene": {
           "xaxis": {
            "backgroundcolor": "#E5ECF6",
            "gridcolor": "white",
            "gridwidth": 2,
            "linecolor": "white",
            "showbackground": true,
            "ticks": "",
            "zerolinecolor": "white"
           },
           "yaxis": {
            "backgroundcolor": "#E5ECF6",
            "gridcolor": "white",
            "gridwidth": 2,
            "linecolor": "white",
            "showbackground": true,
            "ticks": "",
            "zerolinecolor": "white"
           },
           "zaxis": {
            "backgroundcolor": "#E5ECF6",
            "gridcolor": "white",
            "gridwidth": 2,
            "linecolor": "white",
            "showbackground": true,
            "ticks": "",
            "zerolinecolor": "white"
           }
          },
          "shapedefaults": {
           "line": {
            "color": "#2a3f5f"
           }
          },
          "ternary": {
           "aaxis": {
            "gridcolor": "white",
            "linecolor": "white",
            "ticks": ""
           },
           "baxis": {
            "gridcolor": "white",
            "linecolor": "white",
            "ticks": ""
           },
           "bgcolor": "#E5ECF6",
           "caxis": {
            "gridcolor": "white",
            "linecolor": "white",
            "ticks": ""
           }
          },
          "title": {
           "x": 0.05
          },
          "xaxis": {
           "automargin": true,
           "gridcolor": "white",
           "linecolor": "white",
           "ticks": "",
           "title": {
            "standoff": 15
           },
           "zerolinecolor": "white",
           "zerolinewidth": 2
          },
          "yaxis": {
           "automargin": true,
           "gridcolor": "white",
           "linecolor": "white",
           "ticks": "",
           "title": {
            "standoff": 15
           },
           "zerolinecolor": "white",
           "zerolinewidth": 2
          }
         }
        },
        "title": {
         "text": "별점 비율"
        },
        "width": 800,
        "xaxis": {
         "anchor": "y",
         "domain": [
          0,
          1
         ],
         "title": {
          "text": "별점"
         }
        },
        "yaxis": {
         "anchor": "x",
         "domain": [
          0,
          1
         ],
         "title": {
          "text": "비율"
         }
        }
       }
      }
     },
     "metadata": {},
     "output_type": "display_data"
    }
   ],
   "source": [
    "score_ratio = (revi.review_score.value_counts(normalize=True) * 100).sort_values(ascending=False).reset_index()\n",
    "score_ratio['colors'] = ['#4A55A2', '#6A75BB', '#7895CB', '#A0BFE0', '#C5DFF8']\n",
    "\n",
    "# 비율을 높은 순서대로 정렬\n",
    "score_ratio = score_ratio.sort_values(by='review_score', ascending=False)\n",
    "\n",
    "fig = px.bar(\n",
    "    score_ratio,\n",
    "    x='review_score',\n",
    "    y='proportion',\n",
    "    color='colors',  # 범주형 변수 컬럼 지정\n",
    "    color_discrete_map=dict(zip(score_ratio['review_score'], score_ratio['colors']))\n",
    ")\n",
    "\n",
    "# 레이아웃 설정\n",
    "fig.update_layout(\n",
    "    title='별점 비율',  # 전체 그래프의 제목\n",
    "    xaxis=dict(title='별점'),  # x축 레이블 설정\n",
    "    yaxis=dict(title='비율'),  # y축 범위 설정\n",
    "    width=800\n",
    ")\n",
    "\n",
    "fig.show()\n",
    "\n",
    "\n",
    "\n"
   ]
  },
  {
   "cell_type": "markdown",
   "metadata": {},
   "source": [
    "### 워드클라우드"
   ]
  },
  {
   "cell_type": "code",
   "execution_count": 10,
   "metadata": {},
   "outputs": [
    {
     "data": {
      "text/html": [
       "<div>\n",
       "<style scoped>\n",
       "    .dataframe tbody tr th:only-of-type {\n",
       "        vertical-align: middle;\n",
       "    }\n",
       "\n",
       "    .dataframe tbody tr th {\n",
       "        vertical-align: top;\n",
       "    }\n",
       "\n",
       "    .dataframe thead th {\n",
       "        text-align: right;\n",
       "    }\n",
       "</style>\n",
       "<table border=\"1\" class=\"dataframe\">\n",
       "  <thead>\n",
       "    <tr style=\"text-align: right;\">\n",
       "      <th></th>\n",
       "      <th>order_id</th>\n",
       "      <th>customer_id</th>\n",
       "      <th>order_purchase_timestamp</th>\n",
       "      <th>review_score</th>\n",
       "      <th>review_comment_message</th>\n",
       "    </tr>\n",
       "  </thead>\n",
       "  <tbody>\n",
       "    <tr>\n",
       "      <th>6</th>\n",
       "      <td>5625</td>\n",
       "      <td>16101</td>\n",
       "      <td>2017-04-11 12:22:08</td>\n",
       "      <td>2.0</td>\n",
       "      <td>fiquei triste por n ter me atendido.</td>\n",
       "    </tr>\n",
       "    <tr>\n",
       "      <th>10</th>\n",
       "      <td>89094</td>\n",
       "      <td>32782</td>\n",
       "      <td>2017-05-16 19:41:10</td>\n",
       "      <td>1.0</td>\n",
       "      <td>Aguardando retorno da loja</td>\n",
       "    </tr>\n",
       "    <tr>\n",
       "      <th>20</th>\n",
       "      <td>69654</td>\n",
       "      <td>48736</td>\n",
       "      <td>2017-09-18 14:31:30</td>\n",
       "      <td>2.0</td>\n",
       "      <td>os correios estäo em greve... näo recebi nenhu...</td>\n",
       "    </tr>\n",
       "    <tr>\n",
       "      <th>25</th>\n",
       "      <td>61811</td>\n",
       "      <td>52133</td>\n",
       "      <td>2018-02-20 23:46:53</td>\n",
       "      <td>2.0</td>\n",
       "      <td>Demora muito entregar. Já passou o prazo e ain...</td>\n",
       "    </tr>\n",
       "    <tr>\n",
       "      <th>26</th>\n",
       "      <td>35035</td>\n",
       "      <td>36787</td>\n",
       "      <td>2018-06-04 00:00:13</td>\n",
       "      <td>1.0</td>\n",
       "      <td>Até o momento não recebi o produto Protetor De...</td>\n",
       "    </tr>\n",
       "    <tr>\n",
       "      <th>...</th>\n",
       "      <td>...</td>\n",
       "      <td>...</td>\n",
       "      <td>...</td>\n",
       "      <td>...</td>\n",
       "      <td>...</td>\n",
       "    </tr>\n",
       "    <tr>\n",
       "      <th>98706</th>\n",
       "      <td>69628</td>\n",
       "      <td>56757</td>\n",
       "      <td>2018-02-04 14:35:02</td>\n",
       "      <td>1.0</td>\n",
       "      <td>Não gostei imaginei que era uma cortina de tec...</td>\n",
       "    </tr>\n",
       "    <tr>\n",
       "      <th>98726</th>\n",
       "      <td>35099</td>\n",
       "      <td>21893</td>\n",
       "      <td>2017-10-12 20:54:11</td>\n",
       "      <td>1.0</td>\n",
       "      <td>nao recebi o produto que ja paguei ! nao recom...</td>\n",
       "    </tr>\n",
       "    <tr>\n",
       "      <th>98728</th>\n",
       "      <td>71978</td>\n",
       "      <td>54727</td>\n",
       "      <td>2018-03-21 19:47:18</td>\n",
       "      <td>1.0</td>\n",
       "      <td>Prateleiras com cantos vivo, colunas nao encai...</td>\n",
       "    </tr>\n",
       "    <tr>\n",
       "      <th>98735</th>\n",
       "      <td>73258</td>\n",
       "      <td>82399</td>\n",
       "      <td>2017-12-20 09:52:41</td>\n",
       "      <td>1.0</td>\n",
       "      <td>Ele não é um mini cajon, é um shaker, ou seja,...</td>\n",
       "    </tr>\n",
       "    <tr>\n",
       "      <th>98742</th>\n",
       "      <td>6896</td>\n",
       "      <td>84231</td>\n",
       "      <td>2018-01-08 21:28:27</td>\n",
       "      <td>2.0</td>\n",
       "      <td>Foi entregue somente 1. Quero saber do outro p...</td>\n",
       "    </tr>\n",
       "  </tbody>\n",
       "</table>\n",
       "<p>10170 rows × 5 columns</p>\n",
       "</div>"
      ],
      "text/plain": [
       "       order_id  customer_id order_purchase_timestamp  review_score  \\\n",
       "6          5625        16101      2017-04-11 12:22:08           2.0   \n",
       "10        89094        32782      2017-05-16 19:41:10           1.0   \n",
       "20        69654        48736      2017-09-18 14:31:30           2.0   \n",
       "25        61811        52133      2018-02-20 23:46:53           2.0   \n",
       "26        35035        36787      2018-06-04 00:00:13           1.0   \n",
       "...         ...          ...                      ...           ...   \n",
       "98706     69628        56757      2018-02-04 14:35:02           1.0   \n",
       "98726     35099        21893      2017-10-12 20:54:11           1.0   \n",
       "98728     71978        54727      2018-03-21 19:47:18           1.0   \n",
       "98735     73258        82399      2017-12-20 09:52:41           1.0   \n",
       "98742      6896        84231      2018-01-08 21:28:27           2.0   \n",
       "\n",
       "                                  review_comment_message  \n",
       "6                   fiquei triste por n ter me atendido.  \n",
       "10                            Aguardando retorno da loja  \n",
       "20     os correios estäo em greve... näo recebi nenhu...  \n",
       "25     Demora muito entregar. Já passou o prazo e ain...  \n",
       "26     Até o momento não recebi o produto Protetor De...  \n",
       "...                                                  ...  \n",
       "98706  Não gostei imaginei que era uma cortina de tec...  \n",
       "98726  nao recebi o produto que ja paguei ! nao recom...  \n",
       "98728  Prateleiras com cantos vivo, colunas nao encai...  \n",
       "98735  Ele não é um mini cajon, é um shaker, ou seja,...  \n",
       "98742  Foi entregue somente 1. Quero saber do outro p...  \n",
       "\n",
       "[10170 rows x 5 columns]"
      ]
     },
     "execution_count": 10,
     "metadata": {},
     "output_type": "execute_result"
    }
   ],
   "source": [
    "revi_ =revi[(revi['review_comment_message'].notnull())&(revi['review_score']<=2)] # 여기서 123점과 45점을 나눔.\n",
    "revi_"
   ]
  },
  {
   "cell_type": "code",
   "execution_count": 11,
   "metadata": {},
   "outputs": [],
   "source": [
    "def split_text(text):\n",
    "    return text.lower().split()  # 공백을 기준으로 쪼개어 리스트로 변환\n",
    "\n",
    "revi_['new_message'] = revi_['review_comment_message'].apply(split_text)"
   ]
  },
  {
   "cell_type": "code",
   "execution_count": 12,
   "metadata": {},
   "outputs": [
    {
     "name": "stderr",
     "output_type": "stream",
     "text": [
      "[nltk_data] Downloading package stopwords to C:\\Users\\KIMJEONGSU.DESKT\n",
      "[nltk_data]     OP-3GN3AD1\\AppData\\Roaming\\nltk_data...\n",
      "[nltk_data]   Package stopwords is already up-to-date!\n",
      "[nltk_data] Downloading package punkt to C:\\Users\\KIMJEONGSU.DESKTOP-3\n",
      "[nltk_data]     GN3AD1\\AppData\\Roaming\\nltk_data...\n",
      "[nltk_data]   Package punkt is already up-to-date!\n"
     ]
    }
   ],
   "source": [
    "# 불용어 다운로드\n",
    "nltk.download('stopwords')\n",
    "nltk.download('punkt')\n",
    "\n",
    "# 브라질 포르투갈어의 불용어 가져오기\n",
    "stop_words = set(stopwords.words('portuguese'))\n",
    "\n",
    "# 불용어 제거와 토큰화 수행\n",
    "filtered_texts = []\n",
    "for text_list in revi_['new_message']:\n",
    "    filtered_text = [re.sub(r\"[^\\w\\s]|produto\", '', word) for word in text_list if word.lower() not in stop_words]\n",
    "    filtered_text = [re.sub(r'\\d', '', word) for word in filtered_text]  # 숫자 제거 및 빈 문자열 필터링\n",
    "    filtered_texts.append(filtered_text)\n",
    "\n",
    "\n",
    "# 결과 출력\n",
    "all_ = []\n",
    "for i in filtered_texts:\n",
    "    for j in i:\n",
    "        all_.append(j.strip())"
   ]
  },
  {
   "cell_type": "code",
   "execution_count": 13,
   "metadata": {},
   "outputs": [],
   "source": [
    "from collections import Counter\n",
    "\n",
    "# 각 텍스트 리스트에서 단어 빈도수 계산\n",
    "word_frequencies = Counter(all_)\n",
    "\n",
    "# 상위권 50위\n",
    "word_frequencies = word_frequencies.most_common(50)\n",
    "\n",
    "# 단어와 빈도수로 구성된 리스트를 데이터프레임으로 변환\n",
    "df_word_frequencies = pd.DataFrame(word_frequencies, columns=['Word', 'Frequency'])"
   ]
  },
  {
   "cell_type": "code",
   "execution_count": 14,
   "metadata": {},
   "outputs": [
    {
     "data": {
      "text/plain": [
       "{'': 10101,\n",
       " 'recebi': 3069,\n",
       " 'comprei': 1779,\n",
       " 'veio': 1506,\n",
       " 'ainda': 1312,\n",
       " 'entrega': 1279,\n",
       " 'entregue': 1242,\n",
       " 'chegou': 1125,\n",
       " 'nao': 859,\n",
       " 'prazo': 830,\n",
       " 'compra': 771,\n",
       " 'pedido': 705,\n",
       " 'dia': 698,\n",
       " 'loja': 676,\n",
       " 'agora': 615,\n",
       " 'apenas': 533,\n",
       " 's': 503,\n",
       " 'dois': 483,\n",
       " 'nada': 477,\n",
       " 'pois': 465,\n",
       " 'site': 465,\n",
       " 'quero': 450,\n",
       " 'lannister': 428,\n",
       " 'contato': 426,\n",
       " 'qualidade': 417,\n",
       " 'outro': 412,\n",
       " 'pra': 388,\n",
       " 'aguardando': 386,\n",
       " 'dias': 385,\n",
       " 'porém': 374,\n",
       " 'fiz': 360,\n",
       " 'momento': 357,\n",
       " 'correios': 343,\n",
       " 'nota': 331,\n",
       " 'duas': 326,\n",
       " 'recomendo': 326,\n",
       " 'paguei': 318,\n",
       " 'resposta': 316,\n",
       " 'receber': 305,\n",
       " 'diferente': 305,\n",
       " 'pedi': 289,\n",
       " 'aguardo': 288,\n",
       " 'problema': 286,\n",
       " 'q': 285,\n",
       " 'retorno': 282,\n",
       " 'dinheiro': 268,\n",
       " 'troca': 264,\n",
       " 'vou': 263,\n",
       " 'entregaram': 261,\n",
       " 'errado': 261}"
      ]
     },
     "execution_count": 14,
     "metadata": {},
     "output_type": "execute_result"
    }
   ],
   "source": [
    "dic_ = dict(word_frequencies)\n",
    "dic_"
   ]
  },
  {
   "cell_type": "code",
   "execution_count": 15,
   "metadata": {},
   "outputs": [
    {
     "data": {
      "image/png": "[encoded data removed]",
      "text/plain": [
       "<Figure size 640x480 with 1 Axes>"
      ]
     },
     "metadata": {},
     "output_type": "display_data"
    }
   ],
   "source": [
    "icon = Image.open('images.png')\n",
    "mask = Image.new(\"RGB\", icon.size, (255,255,255))\n",
    "mask.paste(icon,icon)\n",
    "mask = np.array(mask)\n",
    "\n",
    "\n",
    "\n",
    "\n",
    "wordcloud = WordCloud(relative_scaling = 0.2,\n",
    "                      background_color='white',\n",
    "                      colormap='Blues' ,\n",
    "                      mask=mask\n",
    "                      ).generate_from_frequencies(dic_)\n",
    "# plt.figure(figsize=(10,7))\n",
    "plt.imshow(wordcloud)\n",
    "plt.axis('off')\n",
    "plt.title('별점이 1,2점인 경우의 워드 클라우드',fontsize=14)\n",
    "plt.show( )"
   ]
  },
  {
   "cell_type": "markdown",
   "metadata": {},
   "source": [
    "### 리뷰와 부정리뷰 건수"
   ]
  },
  {
   "cell_type": "code",
   "execution_count": 16,
   "metadata": {},
   "outputs": [
    {
     "data": {
      "text/html": [
       "<div>\n",
       "<style scoped>\n",
       "    .dataframe tbody tr th:only-of-type {\n",
       "        vertical-align: middle;\n",
       "    }\n",
       "\n",
       "    .dataframe tbody tr th {\n",
       "        vertical-align: top;\n",
       "    }\n",
       "\n",
       "    .dataframe thead th {\n",
       "        text-align: right;\n",
       "    }\n",
       "</style>\n",
       "<table border=\"1\" class=\"dataframe\">\n",
       "  <thead>\n",
       "    <tr style=\"text-align: right;\">\n",
       "      <th></th>\n",
       "      <th>order_id</th>\n",
       "      <th>payment_value</th>\n",
       "    </tr>\n",
       "  </thead>\n",
       "  <tbody>\n",
       "    <tr>\n",
       "      <th>0</th>\n",
       "      <td>93586</td>\n",
       "      <td>99.33</td>\n",
       "    </tr>\n",
       "    <tr>\n",
       "      <th>1</th>\n",
       "      <td>2955</td>\n",
       "      <td>24.39</td>\n",
       "    </tr>\n",
       "    <tr>\n",
       "      <th>2</th>\n",
       "      <td>82474</td>\n",
       "      <td>65.71</td>\n",
       "    </tr>\n",
       "    <tr>\n",
       "      <th>3</th>\n",
       "      <td>55775</td>\n",
       "      <td>107.78</td>\n",
       "    </tr>\n",
       "    <tr>\n",
       "      <th>4</th>\n",
       "      <td>4054</td>\n",
       "      <td>128.45</td>\n",
       "    </tr>\n",
       "    <tr>\n",
       "      <th>...</th>\n",
       "      <td>...</td>\n",
       "      <td>...</td>\n",
       "    </tr>\n",
       "    <tr>\n",
       "      <th>103881</th>\n",
       "      <td>56307</td>\n",
       "      <td>363.31</td>\n",
       "    </tr>\n",
       "    <tr>\n",
       "      <th>103882</th>\n",
       "      <td>35667</td>\n",
       "      <td>96.80</td>\n",
       "    </tr>\n",
       "    <tr>\n",
       "      <th>103883</th>\n",
       "      <td>61044</td>\n",
       "      <td>47.77</td>\n",
       "    </tr>\n",
       "    <tr>\n",
       "      <th>103884</th>\n",
       "      <td>38153</td>\n",
       "      <td>369.54</td>\n",
       "    </tr>\n",
       "    <tr>\n",
       "      <th>103885</th>\n",
       "      <td>33028</td>\n",
       "      <td>191.58</td>\n",
       "    </tr>\n",
       "  </tbody>\n",
       "</table>\n",
       "<p>103886 rows × 2 columns</p>\n",
       "</div>"
      ],
      "text/plain": [
       "        order_id  payment_value\n",
       "0          93586          99.33\n",
       "1           2955          24.39\n",
       "2          82474          65.71\n",
       "3          55775         107.78\n",
       "4           4054         128.45\n",
       "...          ...            ...\n",
       "103881     56307         363.31\n",
       "103882     35667          96.80\n",
       "103883     61044          47.77\n",
       "103884     38153         369.54\n",
       "103885     33028         191.58\n",
       "\n",
       "[103886 rows x 2 columns]"
      ]
     },
     "execution_count": 16,
     "metadata": {},
     "output_type": "execute_result"
    }
   ],
   "source": [
    "SQL = \"\"\"\n",
    "SELECT order_id, payment_value\n",
    "FROM payments\n",
    "\n",
    "\"\"\"\n",
    "\n",
    "payments = pd.read_sql(SQL, rds_python_conn())\n",
    "payments"
   ]
  },
  {
   "cell_type": "code",
   "execution_count": 17,
   "metadata": {},
   "outputs": [
    {
     "data": {
      "text/html": [
       "<div>\n",
       "<style scoped>\n",
       "    .dataframe tbody tr th:only-of-type {\n",
       "        vertical-align: middle;\n",
       "    }\n",
       "\n",
       "    .dataframe tbody tr th {\n",
       "        vertical-align: top;\n",
       "    }\n",
       "\n",
       "    .dataframe thead th {\n",
       "        text-align: right;\n",
       "    }\n",
       "</style>\n",
       "<table border=\"1\" class=\"dataframe\">\n",
       "  <thead>\n",
       "    <tr style=\"text-align: right;\">\n",
       "      <th></th>\n",
       "      <th>order_id</th>\n",
       "      <th>review_score</th>\n",
       "      <th>review_comment_message</th>\n",
       "    </tr>\n",
       "  </thead>\n",
       "  <tbody>\n",
       "    <tr>\n",
       "      <th>0</th>\n",
       "      <td>64002</td>\n",
       "      <td>4</td>\n",
       "      <td>None</td>\n",
       "    </tr>\n",
       "    <tr>\n",
       "      <th>1</th>\n",
       "      <td>78339</td>\n",
       "      <td>5</td>\n",
       "      <td>None</td>\n",
       "    </tr>\n",
       "    <tr>\n",
       "      <th>2</th>\n",
       "      <td>25907</td>\n",
       "      <td>5</td>\n",
       "      <td>None</td>\n",
       "    </tr>\n",
       "    <tr>\n",
       "      <th>3</th>\n",
       "      <td>80635</td>\n",
       "      <td>5</td>\n",
       "      <td>Recebi bem antes do prazo estipulado.</td>\n",
       "    </tr>\n",
       "    <tr>\n",
       "      <th>4</th>\n",
       "      <td>72488</td>\n",
       "      <td>5</td>\n",
       "      <td>Parabéns lojas lannister adorei comprar pela I...</td>\n",
       "    </tr>\n",
       "    <tr>\n",
       "      <th>...</th>\n",
       "      <td>...</td>\n",
       "      <td>...</td>\n",
       "      <td>...</td>\n",
       "    </tr>\n",
       "    <tr>\n",
       "      <th>99219</th>\n",
       "      <td>96979</td>\n",
       "      <td>5</td>\n",
       "      <td>None</td>\n",
       "    </tr>\n",
       "    <tr>\n",
       "      <th>99220</th>\n",
       "      <td>9999</td>\n",
       "      <td>5</td>\n",
       "      <td>None</td>\n",
       "    </tr>\n",
       "    <tr>\n",
       "      <th>99221</th>\n",
       "      <td>67181</td>\n",
       "      <td>5</td>\n",
       "      <td>Excelente mochila, entrega super rápida. Super...</td>\n",
       "    </tr>\n",
       "    <tr>\n",
       "      <th>99222</th>\n",
       "      <td>81384</td>\n",
       "      <td>4</td>\n",
       "      <td>None</td>\n",
       "    </tr>\n",
       "    <tr>\n",
       "      <th>99223</th>\n",
       "      <td>12584</td>\n",
       "      <td>1</td>\n",
       "      <td>meu produto chegou e ja tenho que devolver, po...</td>\n",
       "    </tr>\n",
       "  </tbody>\n",
       "</table>\n",
       "<p>99224 rows × 3 columns</p>\n",
       "</div>"
      ],
      "text/plain": [
       "       order_id  review_score  \\\n",
       "0         64002             4   \n",
       "1         78339             5   \n",
       "2         25907             5   \n",
       "3         80635             5   \n",
       "4         72488             5   \n",
       "...         ...           ...   \n",
       "99219     96979             5   \n",
       "99220      9999             5   \n",
       "99221     67181             5   \n",
       "99222     81384             4   \n",
       "99223     12584             1   \n",
       "\n",
       "                                  review_comment_message  \n",
       "0                                                   None  \n",
       "1                                                   None  \n",
       "2                                                   None  \n",
       "3                  Recebi bem antes do prazo estipulado.  \n",
       "4      Parabéns lojas lannister adorei comprar pela I...  \n",
       "...                                                  ...  \n",
       "99219                                               None  \n",
       "99220                                               None  \n",
       "99221  Excelente mochila, entrega super rápida. Super...  \n",
       "99222                                               None  \n",
       "99223  meu produto chegou e ja tenho que devolver, po...  \n",
       "\n",
       "[99224 rows x 3 columns]"
      ]
     },
     "execution_count": 17,
     "metadata": {},
     "output_type": "execute_result"
    }
   ],
   "source": [
    "SQL = \"\"\"\n",
    "SELECT order_id, review_score, review_comment_message\n",
    "FROM reviews\n",
    "\"\"\"\n",
    "\n",
    "reviews = pd.read_sql(SQL, rds_python_conn())\n",
    "reviews"
   ]
  },
  {
   "cell_type": "code",
   "execution_count": 18,
   "metadata": {},
   "outputs": [
    {
     "data": {
      "text/html": [
       "<div>\n",
       "<style scoped>\n",
       "    .dataframe tbody tr th:only-of-type {\n",
       "        vertical-align: middle;\n",
       "    }\n",
       "\n",
       "    .dataframe tbody tr th {\n",
       "        vertical-align: top;\n",
       "    }\n",
       "\n",
       "    .dataframe thead th {\n",
       "        text-align: right;\n",
       "    }\n",
       "</style>\n",
       "<table border=\"1\" class=\"dataframe\">\n",
       "  <thead>\n",
       "    <tr style=\"text-align: right;\">\n",
       "      <th></th>\n",
       "      <th>order_id</th>\n",
       "      <th>customer_id</th>\n",
       "      <th>order_purchase_timestamp</th>\n",
       "    </tr>\n",
       "  </thead>\n",
       "  <tbody>\n",
       "    <tr>\n",
       "      <th>0</th>\n",
       "      <td>13974</td>\n",
       "      <td>65773</td>\n",
       "      <td>2017-10-02 10:56:33</td>\n",
       "    </tr>\n",
       "    <tr>\n",
       "      <th>1</th>\n",
       "      <td>83165</td>\n",
       "      <td>13301</td>\n",
       "      <td>2018-07-24 20:41:37</td>\n",
       "    </tr>\n",
       "    <tr>\n",
       "      <th>2</th>\n",
       "      <td>66104</td>\n",
       "      <td>44559</td>\n",
       "      <td>2018-08-08 08:38:49</td>\n",
       "    </tr>\n",
       "    <tr>\n",
       "      <th>3</th>\n",
       "      <td>64037</td>\n",
       "      <td>69256</td>\n",
       "      <td>2017-11-18 19:28:06</td>\n",
       "    </tr>\n",
       "    <tr>\n",
       "      <th>4</th>\n",
       "      <td>14183</td>\n",
       "      <td>35294</td>\n",
       "      <td>2018-02-13 21:18:39</td>\n",
       "    </tr>\n",
       "    <tr>\n",
       "      <th>...</th>\n",
       "      <td>...</td>\n",
       "      <td>...</td>\n",
       "      <td>...</td>\n",
       "    </tr>\n",
       "    <tr>\n",
       "      <th>98195</th>\n",
       "      <td>63791</td>\n",
       "      <td>92532</td>\n",
       "      <td>2017-03-09 09:54:05</td>\n",
       "    </tr>\n",
       "    <tr>\n",
       "      <th>98196</th>\n",
       "      <td>85704</td>\n",
       "      <td>30689</td>\n",
       "      <td>2018-02-06 12:58:58</td>\n",
       "    </tr>\n",
       "    <tr>\n",
       "      <th>98197</th>\n",
       "      <td>19817</td>\n",
       "      <td>23177</td>\n",
       "      <td>2017-08-27 14:46:43</td>\n",
       "    </tr>\n",
       "    <tr>\n",
       "      <th>98198</th>\n",
       "      <td>6896</td>\n",
       "      <td>84231</td>\n",
       "      <td>2018-01-08 21:28:27</td>\n",
       "    </tr>\n",
       "    <tr>\n",
       "      <th>98199</th>\n",
       "      <td>75574</td>\n",
       "      <td>41987</td>\n",
       "      <td>2018-03-08 20:57:30</td>\n",
       "    </tr>\n",
       "  </tbody>\n",
       "</table>\n",
       "<p>98200 rows × 3 columns</p>\n",
       "</div>"
      ],
      "text/plain": [
       "       order_id  customer_id order_purchase_timestamp\n",
       "0         13974        65773      2017-10-02 10:56:33\n",
       "1         83165        13301      2018-07-24 20:41:37\n",
       "2         66104        44559      2018-08-08 08:38:49\n",
       "3         64037        69256      2017-11-18 19:28:06\n",
       "4         14183        35294      2018-02-13 21:18:39\n",
       "...         ...          ...                      ...\n",
       "98195     63791        92532      2017-03-09 09:54:05\n",
       "98196     85704        30689      2018-02-06 12:58:58\n",
       "98197     19817        23177      2017-08-27 14:46:43\n",
       "98198      6896        84231      2018-01-08 21:28:27\n",
       "98199     75574        41987      2018-03-08 20:57:30\n",
       "\n",
       "[98200 rows x 3 columns]"
      ]
     },
     "execution_count": 18,
     "metadata": {},
     "output_type": "execute_result"
    }
   ],
   "source": [
    "SQL = \"\"\"\n",
    "SELECT order_id,customer_id,order_purchase_timestamp\n",
    "FROM \"order\"\n",
    "where order_status in  ('delivered','shipped','invoiced','processing');\n",
    "\"\"\"\n",
    "\n",
    "order = pd.read_sql(SQL, rds_python_conn())\n",
    "order"
   ]
  },
  {
   "cell_type": "code",
   "execution_count": 19,
   "metadata": {},
   "outputs": [
    {
     "data": {
      "text/html": [
       "<div>\n",
       "<style scoped>\n",
       "    .dataframe tbody tr th:only-of-type {\n",
       "        vertical-align: middle;\n",
       "    }\n",
       "\n",
       "    .dataframe tbody tr th {\n",
       "        vertical-align: top;\n",
       "    }\n",
       "\n",
       "    .dataframe thead th {\n",
       "        text-align: right;\n",
       "    }\n",
       "</style>\n",
       "<table border=\"1\" class=\"dataframe\">\n",
       "  <thead>\n",
       "    <tr style=\"text-align: right;\">\n",
       "      <th></th>\n",
       "      <th>order_id</th>\n",
       "      <th>customer_id</th>\n",
       "      <th>order_purchase_timestamp</th>\n",
       "      <th>review_score</th>\n",
       "      <th>review_comment_message</th>\n",
       "      <th>payment_value</th>\n",
       "      <th>date</th>\n",
       "    </tr>\n",
       "  </thead>\n",
       "  <tbody>\n",
       "    <tr>\n",
       "      <th>8</th>\n",
       "      <td>5625</td>\n",
       "      <td>16101</td>\n",
       "      <td>2017-04-11 12:22:08</td>\n",
       "      <td>2.0</td>\n",
       "      <td>fiquei triste por n ter me atendido.</td>\n",
       "      <td>65.95</td>\n",
       "      <td>2017-04</td>\n",
       "    </tr>\n",
       "    <tr>\n",
       "      <th>10</th>\n",
       "      <td>57028</td>\n",
       "      <td>67307</td>\n",
       "      <td>2017-01-23 18:29:09</td>\n",
       "      <td>1.0</td>\n",
       "      <td>None</td>\n",
       "      <td>35.95</td>\n",
       "      <td>2017-01</td>\n",
       "    </tr>\n",
       "    <tr>\n",
       "      <th>13</th>\n",
       "      <td>89094</td>\n",
       "      <td>32782</td>\n",
       "      <td>2017-05-16 19:41:10</td>\n",
       "      <td>1.0</td>\n",
       "      <td>Aguardando retorno da loja</td>\n",
       "      <td>259.06</td>\n",
       "      <td>2017-05</td>\n",
       "    </tr>\n",
       "    <tr>\n",
       "      <th>25</th>\n",
       "      <td>69654</td>\n",
       "      <td>48736</td>\n",
       "      <td>2017-09-18 14:31:30</td>\n",
       "      <td>2.0</td>\n",
       "      <td>os correios estäo em greve... näo recebi nenhu...</td>\n",
       "      <td>118.86</td>\n",
       "      <td>2017-09</td>\n",
       "    </tr>\n",
       "    <tr>\n",
       "      <th>30</th>\n",
       "      <td>61811</td>\n",
       "      <td>52133</td>\n",
       "      <td>2018-02-20 23:46:53</td>\n",
       "      <td>2.0</td>\n",
       "      <td>Demora muito entregar. Já passou o prazo e ain...</td>\n",
       "      <td>125.43</td>\n",
       "      <td>2018-02</td>\n",
       "    </tr>\n",
       "    <tr>\n",
       "      <th>...</th>\n",
       "      <td>...</td>\n",
       "      <td>...</td>\n",
       "      <td>...</td>\n",
       "      <td>...</td>\n",
       "      <td>...</td>\n",
       "      <td>...</td>\n",
       "      <td>...</td>\n",
       "    </tr>\n",
       "    <tr>\n",
       "      <th>103112</th>\n",
       "      <td>69628</td>\n",
       "      <td>56757</td>\n",
       "      <td>2018-02-04 14:35:02</td>\n",
       "      <td>1.0</td>\n",
       "      <td>Não gostei imaginei que era uma cortina de tec...</td>\n",
       "      <td>50.85</td>\n",
       "      <td>2018-02</td>\n",
       "    </tr>\n",
       "    <tr>\n",
       "      <th>103132</th>\n",
       "      <td>35099</td>\n",
       "      <td>21893</td>\n",
       "      <td>2017-10-12 20:54:11</td>\n",
       "      <td>1.0</td>\n",
       "      <td>nao recebi o produto que ja paguei ! nao recom...</td>\n",
       "      <td>48.75</td>\n",
       "      <td>2017-10</td>\n",
       "    </tr>\n",
       "    <tr>\n",
       "      <th>103134</th>\n",
       "      <td>71978</td>\n",
       "      <td>54727</td>\n",
       "      <td>2018-03-21 19:47:18</td>\n",
       "      <td>1.0</td>\n",
       "      <td>Prateleiras com cantos vivo, colunas nao encai...</td>\n",
       "      <td>146.83</td>\n",
       "      <td>2018-03</td>\n",
       "    </tr>\n",
       "    <tr>\n",
       "      <th>103141</th>\n",
       "      <td>73258</td>\n",
       "      <td>82399</td>\n",
       "      <td>2017-12-20 09:52:41</td>\n",
       "      <td>1.0</td>\n",
       "      <td>Ele não é um mini cajon, é um shaker, ou seja,...</td>\n",
       "      <td>71.04</td>\n",
       "      <td>2017-12</td>\n",
       "    </tr>\n",
       "    <tr>\n",
       "      <th>103150</th>\n",
       "      <td>6896</td>\n",
       "      <td>84231</td>\n",
       "      <td>2018-01-08 21:28:27</td>\n",
       "      <td>2.0</td>\n",
       "      <td>Foi entregue somente 1. Quero saber do outro p...</td>\n",
       "      <td>441.16</td>\n",
       "      <td>2018-01</td>\n",
       "    </tr>\n",
       "  </tbody>\n",
       "</table>\n",
       "<p>13588 rows × 7 columns</p>\n",
       "</div>"
      ],
      "text/plain": [
       "        order_id  customer_id order_purchase_timestamp  review_score  \\\n",
       "8           5625        16101      2017-04-11 12:22:08           2.0   \n",
       "10         57028        67307      2017-01-23 18:29:09           1.0   \n",
       "13         89094        32782      2017-05-16 19:41:10           1.0   \n",
       "25         69654        48736      2017-09-18 14:31:30           2.0   \n",
       "30         61811        52133      2018-02-20 23:46:53           2.0   \n",
       "...          ...          ...                      ...           ...   \n",
       "103112     69628        56757      2018-02-04 14:35:02           1.0   \n",
       "103132     35099        21893      2017-10-12 20:54:11           1.0   \n",
       "103134     71978        54727      2018-03-21 19:47:18           1.0   \n",
       "103141     73258        82399      2017-12-20 09:52:41           1.0   \n",
       "103150      6896        84231      2018-01-08 21:28:27           2.0   \n",
       "\n",
       "                                   review_comment_message  payment_value  \\\n",
       "8                    fiquei triste por n ter me atendido.          65.95   \n",
       "10                                                   None          35.95   \n",
       "13                             Aguardando retorno da loja         259.06   \n",
       "25      os correios estäo em greve... näo recebi nenhu...         118.86   \n",
       "30      Demora muito entregar. Já passou o prazo e ain...         125.43   \n",
       "...                                                   ...            ...   \n",
       "103112  Não gostei imaginei que era uma cortina de tec...          50.85   \n",
       "103132  nao recebi o produto que ja paguei ! nao recom...          48.75   \n",
       "103134  Prateleiras com cantos vivo, colunas nao encai...         146.83   \n",
       "103141  Ele não é um mini cajon, é um shaker, ou seja,...          71.04   \n",
       "103150  Foi entregue somente 1. Quero saber do outro p...         441.16   \n",
       "\n",
       "           date  \n",
       "8       2017-04  \n",
       "10      2017-01  \n",
       "13      2017-05  \n",
       "25      2017-09  \n",
       "30      2018-02  \n",
       "...         ...  \n",
       "103112  2018-02  \n",
       "103132  2017-10  \n",
       "103134  2018-03  \n",
       "103141  2017-12  \n",
       "103150  2018-01  \n",
       "\n",
       "[13588 rows x 7 columns]"
      ]
     },
     "execution_count": 19,
     "metadata": {},
     "output_type": "execute_result"
    }
   ],
   "source": [
    "# 매출과 리뷰건수 비교\n",
    "df = order.merge(reviews,on='order_id',how='left')\n",
    "df2 = df.merge(payments,on='order_id',how='left')\n",
    "df2['date'] = df2['order_purchase_timestamp'].dt.strftime('%Y-%m')\n",
    "df5 = df2[(df2.review_score<3)&(df2.date<'2018-09')].drop_duplicates(subset=['order_id','order_purchase_timestamp','review_comment_message'])\n",
    "df5"
   ]
  },
  {
   "cell_type": "code",
   "execution_count": 1,
   "metadata": {},
   "outputs": [
    {
     "ename": "NameError",
     "evalue": "name 'make_subplots' is not defined",
     "output_type": "error",
     "traceback": [
      "\u001b[1;31m---------------------------------------------------------------------------\u001b[0m",
      "\u001b[1;31mNameError\u001b[0m                                 Traceback (most recent call last)",
      "Cell \u001b[1;32mIn[1], line 5\u001b[0m\n\u001b[0;32m      1\u001b[0m \u001b[39mimport\u001b[39;00m \u001b[39mchart_studio\u001b[39;00m\n\u001b[0;32m      2\u001b[0m \u001b[39mfrom\u001b[39;00m \u001b[39mchart_studio\u001b[39;00m\u001b[39m.\u001b[39;00m\u001b[39mplotly\u001b[39;00m \u001b[39mimport\u001b[39;00m plot, iplot\n\u001b[1;32m----> 5\u001b[0m fig \u001b[39m=\u001b[39m make_subplots(specs\u001b[39m=\u001b[39m[[{\u001b[39m\"\u001b[39m\u001b[39msecondary_y\u001b[39m\u001b[39m\"\u001b[39m: \u001b[39mTrue\u001b[39;00m}]])\n\u001b[0;32m      7\u001b[0m \u001b[39m# 주문 건수 데이터\u001b[39;00m\n\u001b[0;32m      8\u001b[0m num_2018 \u001b[39m=\u001b[39m df5[df5[\u001b[39m'\u001b[39m\u001b[39mdate\u001b[39m\u001b[39m'\u001b[39m] \u001b[39m>\u001b[39m \u001b[39m'\u001b[39m\u001b[39m2018-04\u001b[39m\u001b[39m'\u001b[39m][\u001b[39m'\u001b[39m\u001b[39morder_id\u001b[39m\u001b[39m'\u001b[39m]\u001b[39m.\u001b[39mcount()\n",
      "\u001b[1;31mNameError\u001b[0m: name 'make_subplots' is not defined"
     ]
    }
   ],
   "source": [
    "import chart_studio\n",
    "from chart_studio.plotly import plot, iplot\n",
    "\n",
    "\n",
    "fig = make_subplots(specs=[[{\"secondary_y\": True}]])\n",
    "\n",
    "# 주문 건수 데이터\n",
    "num_2018 = df5[df5['date'] > '2018-04']['order_id'].count()\n",
    "num_2017 = df5[(df5['date'] > '2017-04') & (df5['date'] < '2017-09')]['order_id'].count()\n",
    "\n",
    "# 부정 리뷰 건수 데이터\n",
    "text_2018 = df5[df5['date'] > '2018-04']['review_comment_message'].count()\n",
    "text_2017 = df5[(df5['date'] > '2017-04') & (df5['date'] < '2017-09')]['review_comment_message'].count()\n",
    "\n",
    "# 부정리뷰건수 / 주문건수 -> 비율\n",
    "ratio_2017 = text_2017/num_2017\n",
    "ratio_2018 = text_2018/num_2018\n",
    "\n",
    "# 첫 번째 그래프 추가 (막대 그래프)\n",
    "fig.add_trace(\n",
    "    go.Bar(\n",
    "        x=['2017년 05~08월', '2018년 05~08월'],\n",
    "        y=[num_2017, num_2018],\n",
    "        name='주문 건수',\n",
    "        marker_color='#A0BFE0'  # 막대 그래프 색상 지정\n",
    "    ),\n",
    "    secondary_y=False\n",
    ")\n",
    "\n",
    "# 두 번째 그래프 추가 (라인 플롯)\n",
    "fig.add_trace(\n",
    "    go.Scatter(\n",
    "        x=['2017년 05~08월', '2018년 05~08월'],\n",
    "        y=[ratio_2017, ratio_2018],\n",
    "        name='주문건수 중 부정 리뷰 비율',\n",
    "        mode='lines+markers',\n",
    "        line=dict(color='#4A55A2'),  # 라인 플롯 색상 지정\n",
    "        marker=dict(color='#4A55A2')\n",
    "    ),\n",
    "    secondary_y=True\n",
    ")\n",
    "\n",
    "# 레이아웃 설정\n",
    "fig.update_layout(\n",
    "    title='2017년 05~08월 vs 2018년 05~08월 주문 건수, 부정 리뷰 건수 비교',  # 전체 그래프의 제목\n",
    "    xaxis=dict(title='연도'),\n",
    "    yaxis=dict(title='주문 건수',tickformat=',d'),\n",
    "    yaxis2=dict(title='비율', overlaying='y', side='right', tickformat='.2%'),\n",
    "    legend=dict(\n",
    "        x=0,  # 범례의 가로 위치를 중앙으로 설정\n",
    "        xanchor='center',  # 범례의 가로 위치의 기준을 중앙으로 설정\n",
    "        y=-1.02,  # 범례의 세로 위치를 설정 (1보다 큰 값)\n",
    "        yanchor='bottom'  # 범례의 세로 위치의 기준을 하단으로 설정\n",
    "    ),\n",
    "    width=500\n",
    ")\n",
    "\n",
    "fig.show()\n",
    "\n",
    "chart_studio.tools.set_credentials_file(username='ghktkf7788', api_key='D9ASyMzNm4ltyTqLQ8CH')\n",
    "plot(fig, filename = '2017년 05~08월 vs 2018년 05~08월 주문 건수, 부정 리뷰 건수 비교', auto_open=True)"
   ]
  },
  {
   "cell_type": "code",
   "execution_count": 182,
   "metadata": {},
   "outputs": [
    {
     "name": "stdout",
     "output_type": "stream",
     "text": [
      "2017년 주문건수 :  1699  / 2018년 주문건수 :  2714\n",
      "2017년 부정리뷰건수 :  1264  / 2018년 부정리뷰건수 :  2104\n",
      "------------------------------------------------------------------------\n",
      "전년도 대비 주문건수 증가율 :  0.5974102413184226\n",
      "전년도 대비 부정리뷰건수 증가율 :  0.6645569620253164\n"
     ]
    }
   ],
   "source": [
    "print('2017년 주문건수 : ',num_2017,' / 2018년 주문건수 : ',num_2018)\n",
    "print('2017년 부정리뷰건수 : ',text_2017,' / 2018년 부정리뷰건수 : ',text_2018)\n",
    "print('------------------------------------------------------------------------')\n",
    "print('전년도 대비 주문건수 증가율 : ',(num_2018-num_2017)/num_2017)\n",
    "print('전년도 대비 부정리뷰건수 증가율 : ',(text_2018-text_2017)/text_2017)"
   ]
  }
 ],
 "metadata": {
  "kernelspec": {
   "display_name": "DEAPROJECT",
   "language": "python",
   "name": "python3"
  },
  "language_info": {
   "codemirror_mode": {
    "name": "ipython",
    "version": 3
   },
   "file_extension": ".py",
   "mimetype": "text/x-python",
   "name": "python",
   "nbconvert_exporter": "python",
   "pygments_lexer": "ipython3",
   "version": "3.8.17"
  },
  "orig_nbformat": 4
 },
 "nbformat": 4,
 "nbformat_minor": 2
}
